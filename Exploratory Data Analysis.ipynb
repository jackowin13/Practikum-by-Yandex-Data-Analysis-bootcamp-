{
 "cells": [
  {
   "cell_type": "markdown",
   "metadata": {},
   "source": [
    "***Exploratory Data Analysis***<br>\n",
    "***Research on car sales ads***<br>\n",
    "\n"
   ]
  },
  {
   "cell_type": "markdown",
   "metadata": {
    "toc": true
   },
   "source": [
    "<h1>Table of Contents<span class=\"tocSkip\"></span></h1>\n",
    "<div class=\"toc\"><ul class=\"toc-item\"><li><span><a href=\"#Research-on-car-sales-ads\" data-toc-modified-id=\"Research-on-car-sales-ads-1\">Research on car sales ads</a></span><ul class=\"toc-item\"><li><span><a href=\"#Description-of-the-data\" data-toc-modified-id=\"Description-of-the-data-1.1\">Description of the data</a></span></li></ul></li><li><span><a href=\"#Step-1.-Open-the-data-file-and-study-the-general-information.\" data-toc-modified-id=\"Step-1.-Open-the-data-file-and-study-the-general-information.-2\">Step 1. Open the data file and study the general information.</a></span><ul class=\"toc-item\"><li><ul class=\"toc-item\"><li><span><a href=\"#Conclusion\" data-toc-modified-id=\"Conclusion-2.0.1\">Conclusion</a></span></li><li><span><a href=\"#Reviewer's-comment\" data-toc-modified-id=\"Reviewer's-comment-2.0.2\">Reviewer's comment</a></span></li><li><span><a href=\"#Reviewer's-comment-v2\" data-toc-modified-id=\"Reviewer's-comment-v2-2.0.3\">Reviewer's comment v2</a></span></li></ul></li></ul></li><li><span><a href=\"#Step-2.-Data-preprocessing\" data-toc-modified-id=\"Step-2.-Data-preprocessing-3\">Step 2. Data preprocessing</a></span><ul class=\"toc-item\"><li><ul class=\"toc-item\"><li><span><a href=\"#Reviewer's-comment\" data-toc-modified-id=\"Reviewer's-comment-3.0.1\">Reviewer's comment</a></span></li><li><span><a href=\"#Reviewer's-comment\" data-toc-modified-id=\"Reviewer's-comment-3.0.2\">Reviewer's comment</a></span></li><li><span><a href=\"#Reviewer's-comment-v2\" data-toc-modified-id=\"Reviewer's-comment-v2-3.0.3\">Reviewer's comment v2</a></span></li><li><span><a href=\"#Reviewer's-comment\" data-toc-modified-id=\"Reviewer's-comment-3.0.4\">Reviewer's comment</a></span></li></ul></li></ul></li><li><span><a href=\"#Step-3.-Make-calculations-and-add-them-to-the-table\" data-toc-modified-id=\"Step-3.-Make-calculations-and-add-them-to-the-table-4\">Step 3. Make calculations and add them to the table</a></span><ul class=\"toc-item\"><li><ul class=\"toc-item\"><li><span><a href=\"#Reviewer's-comment\" data-toc-modified-id=\"Reviewer's-comment-4.0.1\">Reviewer's comment</a></span></li><li><span><a href=\"#Reviewer's-comment\" data-toc-modified-id=\"Reviewer's-comment-4.0.2\">Reviewer's comment</a></span></li></ul></li></ul></li><li><span><a href=\"#Step-4.-Carry-out-exploratory-data-analysis\" data-toc-modified-id=\"Step-4.-Carry-out-exploratory-data-analysis-5\">Step 4. Carry out exploratory data analysis</a></span><ul class=\"toc-item\"><li><ul class=\"toc-item\"><li><span><a href=\"#Reviewer's-comment\" data-toc-modified-id=\"Reviewer's-comment-5.0.1\">Reviewer's comment</a></span></li></ul></li></ul></li><li><span><a href=\"#Step-5.-Overall-conclusion\" data-toc-modified-id=\"Step-5.-Overall-conclusion-6\">Step 5. Overall conclusion</a></span><ul class=\"toc-item\"><li><ul class=\"toc-item\"><li><span><a href=\"#Reviewer's-comment\" data-toc-modified-id=\"Reviewer's-comment-6.0.1\">Reviewer's comment</a></span></li><li><span><a href=\"#Reviewer's-comment-v2\" data-toc-modified-id=\"Reviewer's-comment-v2-6.0.2\">Reviewer's comment v2</a></span></li><li><span><a href=\"#Project-completion-checklist\" data-toc-modified-id=\"Project-completion-checklist-6.0.3\">Project completion checklist</a></span></li></ul></li></ul></li></ul></div>"
   ]
  },
  {
   "cell_type": "markdown",
   "metadata": {},
   "source": [
    "# Research on car sales ads\n",
    "You're an analyst at Crankshaft List. <br>Hundreds of free advertisements for vehicles are published on your site every day.<br>\n",
    "You need to study data collected over the last few years and determine which factors influence the price of a vehicle.\n",
    "\n",
    "\n"
   ]
  },
  {
   "cell_type": "markdown",
   "metadata": {},
   "source": [
    "## Description of the data\n",
    "<u>***The dataset contains the following fields:***</u><br> \n",
    "* price<br>\n",
    "* model_year<br>\n",
    "* model<br>\n",
    "* condition<br>\n",
    "* cylinders<br>\n",
    "* fuel — gas, diesel, etc.<br>\n",
    "* odometer — the vehicle's mileage when the ad was published<br>\n",
    "* transmission<br>\n",
    "* paint_color<br>\n",
    "* is_4wd — whether the vehicle has 4-wheel drive (Boolean type)<br>\n",
    "* date_posted — the date the ad was published<br>\n",
    "* days_listed — from publication to removal<br>\n",
    "\n"
   ]
  },
  {
   "cell_type": "markdown",
   "metadata": {},
   "source": [
    "# Step 1. Open the data file and study the general information. "
   ]
  },
  {
   "cell_type": "code",
   "execution_count": 1,
   "metadata": {},
   "outputs": [],
   "source": [
    "#preliminary work :\n",
    "#import all packages and set plots\n",
    "import pandas as pd\n",
    "import numpy as np\n",
    "import matplotlib.pyplot as plt \n"
   ]
  },
  {
   "cell_type": "code",
   "execution_count": 2,
   "metadata": {},
   "outputs": [
    {
     "name": "stdout",
     "output_type": "stream",
     "text": [
      "Number of rows in this  dataset = 51525\n",
      "Number of columns in this  dataset 13. Below are the titles of each column:\n"
     ]
    },
    {
     "data": {
      "text/plain": [
       "Index(['price', 'model_year', 'model', 'condition', 'cylinders', 'fuel',\n",
       "       'odometer', 'transmission', 'type', 'paint_color', 'is_4wd',\n",
       "       'date_posted', 'days_listed'],\n",
       "      dtype='object')"
      ]
     },
     "execution_count": 2,
     "metadata": {},
     "output_type": "execute_result"
    }
   ],
   "source": [
    "# check number of entries in this  dataset file \n",
    "car_dataset=pd.read_csv('/datasets/vehicles_us.csv')\n",
    "#check number of rows \n",
    "count_row = car_dataset.shape[0]  # Gives number of rows\n",
    "print ('Number of rows in this  dataset = {}'.format(count_row)) \n",
    "#check number and title of columns in this dataset with reading of one row of header\n",
    "count_col = car_dataset.shape[1]  # Gives number of columns\n",
    "\n",
    "title_columns= pd.read_csv('/datasets/vehicles_us.csv' ,nrows=1).columns\n",
    "print('Number of columns in this  dataset {}. Below are the titles of each column:'.format(len(title_columns)))\n",
    "title_columns\n",
    "\n",
    "\n"
   ]
  },
  {
   "cell_type": "code",
   "execution_count": 3,
   "metadata": {},
   "outputs": [
    {
     "name": "stdout",
     "output_type": "stream",
     "text": [
      "<class 'pandas.core.frame.DataFrame'>\n",
      "RangeIndex: 51525 entries, 0 to 51524\n",
      "Data columns (total 13 columns):\n",
      "price           51525 non-null int64\n",
      "model_year      47906 non-null float64\n",
      "model           51525 non-null object\n",
      "condition       51525 non-null object\n",
      "cylinders       46265 non-null float64\n",
      "fuel            51525 non-null object\n",
      "odometer        43633 non-null float64\n",
      "transmission    51525 non-null object\n",
      "type            51525 non-null object\n",
      "paint_color     42258 non-null object\n",
      "is_4wd          25572 non-null float64\n",
      "date_posted     51525 non-null object\n",
      "days_listed     51525 non-null int64\n",
      "dtypes: float64(4), int64(2), object(7)\n",
      "memory usage: 5.1+ MB\n"
     ]
    },
    {
     "data": {
      "text/html": [
       "<div>\n",
       "<style scoped>\n",
       "    .dataframe tbody tr th:only-of-type {\n",
       "        vertical-align: middle;\n",
       "    }\n",
       "\n",
       "    .dataframe tbody tr th {\n",
       "        vertical-align: top;\n",
       "    }\n",
       "\n",
       "    .dataframe thead th {\n",
       "        text-align: right;\n",
       "    }\n",
       "</style>\n",
       "<table border=\"1\" class=\"dataframe\">\n",
       "  <thead>\n",
       "    <tr style=\"text-align: right;\">\n",
       "      <th></th>\n",
       "      <th>price</th>\n",
       "      <th>model_year</th>\n",
       "      <th>model</th>\n",
       "      <th>condition</th>\n",
       "      <th>cylinders</th>\n",
       "      <th>fuel</th>\n",
       "      <th>odometer</th>\n",
       "      <th>transmission</th>\n",
       "      <th>type</th>\n",
       "      <th>paint_color</th>\n",
       "      <th>is_4wd</th>\n",
       "      <th>date_posted</th>\n",
       "      <th>days_listed</th>\n",
       "    </tr>\n",
       "  </thead>\n",
       "  <tbody>\n",
       "    <tr>\n",
       "      <td>0</td>\n",
       "      <td>9400</td>\n",
       "      <td>2011.0</td>\n",
       "      <td>bmw x5</td>\n",
       "      <td>good</td>\n",
       "      <td>6.0</td>\n",
       "      <td>gas</td>\n",
       "      <td>145000.0</td>\n",
       "      <td>automatic</td>\n",
       "      <td>SUV</td>\n",
       "      <td>NaN</td>\n",
       "      <td>1.0</td>\n",
       "      <td>2018-06-23</td>\n",
       "      <td>19</td>\n",
       "    </tr>\n",
       "    <tr>\n",
       "      <td>1</td>\n",
       "      <td>25500</td>\n",
       "      <td>NaN</td>\n",
       "      <td>ford f-150</td>\n",
       "      <td>good</td>\n",
       "      <td>6.0</td>\n",
       "      <td>gas</td>\n",
       "      <td>88705.0</td>\n",
       "      <td>automatic</td>\n",
       "      <td>pickup</td>\n",
       "      <td>white</td>\n",
       "      <td>1.0</td>\n",
       "      <td>2018-10-19</td>\n",
       "      <td>50</td>\n",
       "    </tr>\n",
       "    <tr>\n",
       "      <td>2</td>\n",
       "      <td>5500</td>\n",
       "      <td>2013.0</td>\n",
       "      <td>hyundai sonata</td>\n",
       "      <td>like new</td>\n",
       "      <td>4.0</td>\n",
       "      <td>gas</td>\n",
       "      <td>110000.0</td>\n",
       "      <td>automatic</td>\n",
       "      <td>sedan</td>\n",
       "      <td>red</td>\n",
       "      <td>NaN</td>\n",
       "      <td>2019-02-07</td>\n",
       "      <td>79</td>\n",
       "    </tr>\n",
       "    <tr>\n",
       "      <td>3</td>\n",
       "      <td>1500</td>\n",
       "      <td>2003.0</td>\n",
       "      <td>ford f-150</td>\n",
       "      <td>fair</td>\n",
       "      <td>8.0</td>\n",
       "      <td>gas</td>\n",
       "      <td>NaN</td>\n",
       "      <td>automatic</td>\n",
       "      <td>pickup</td>\n",
       "      <td>NaN</td>\n",
       "      <td>NaN</td>\n",
       "      <td>2019-03-22</td>\n",
       "      <td>9</td>\n",
       "    </tr>\n",
       "    <tr>\n",
       "      <td>4</td>\n",
       "      <td>14900</td>\n",
       "      <td>2017.0</td>\n",
       "      <td>chrysler 200</td>\n",
       "      <td>excellent</td>\n",
       "      <td>4.0</td>\n",
       "      <td>gas</td>\n",
       "      <td>80903.0</td>\n",
       "      <td>automatic</td>\n",
       "      <td>sedan</td>\n",
       "      <td>black</td>\n",
       "      <td>NaN</td>\n",
       "      <td>2019-04-02</td>\n",
       "      <td>28</td>\n",
       "    </tr>\n",
       "    <tr>\n",
       "      <td>5</td>\n",
       "      <td>14990</td>\n",
       "      <td>2014.0</td>\n",
       "      <td>chrysler 300</td>\n",
       "      <td>excellent</td>\n",
       "      <td>6.0</td>\n",
       "      <td>gas</td>\n",
       "      <td>57954.0</td>\n",
       "      <td>automatic</td>\n",
       "      <td>sedan</td>\n",
       "      <td>black</td>\n",
       "      <td>1.0</td>\n",
       "      <td>2018-06-20</td>\n",
       "      <td>15</td>\n",
       "    </tr>\n",
       "    <tr>\n",
       "      <td>6</td>\n",
       "      <td>12990</td>\n",
       "      <td>2015.0</td>\n",
       "      <td>toyota camry</td>\n",
       "      <td>excellent</td>\n",
       "      <td>4.0</td>\n",
       "      <td>gas</td>\n",
       "      <td>79212.0</td>\n",
       "      <td>automatic</td>\n",
       "      <td>sedan</td>\n",
       "      <td>white</td>\n",
       "      <td>NaN</td>\n",
       "      <td>2018-12-27</td>\n",
       "      <td>73</td>\n",
       "    </tr>\n",
       "    <tr>\n",
       "      <td>7</td>\n",
       "      <td>15990</td>\n",
       "      <td>2013.0</td>\n",
       "      <td>honda pilot</td>\n",
       "      <td>excellent</td>\n",
       "      <td>6.0</td>\n",
       "      <td>gas</td>\n",
       "      <td>109473.0</td>\n",
       "      <td>automatic</td>\n",
       "      <td>SUV</td>\n",
       "      <td>black</td>\n",
       "      <td>1.0</td>\n",
       "      <td>2019-01-07</td>\n",
       "      <td>68</td>\n",
       "    </tr>\n",
       "    <tr>\n",
       "      <td>8</td>\n",
       "      <td>11500</td>\n",
       "      <td>2012.0</td>\n",
       "      <td>kia sorento</td>\n",
       "      <td>excellent</td>\n",
       "      <td>4.0</td>\n",
       "      <td>gas</td>\n",
       "      <td>104174.0</td>\n",
       "      <td>automatic</td>\n",
       "      <td>SUV</td>\n",
       "      <td>NaN</td>\n",
       "      <td>1.0</td>\n",
       "      <td>2018-07-16</td>\n",
       "      <td>19</td>\n",
       "    </tr>\n",
       "    <tr>\n",
       "      <td>9</td>\n",
       "      <td>9200</td>\n",
       "      <td>2008.0</td>\n",
       "      <td>honda pilot</td>\n",
       "      <td>excellent</td>\n",
       "      <td>NaN</td>\n",
       "      <td>gas</td>\n",
       "      <td>147191.0</td>\n",
       "      <td>automatic</td>\n",
       "      <td>SUV</td>\n",
       "      <td>blue</td>\n",
       "      <td>1.0</td>\n",
       "      <td>2019-02-15</td>\n",
       "      <td>17</td>\n",
       "    </tr>\n",
       "  </tbody>\n",
       "</table>\n",
       "</div>"
      ],
      "text/plain": [
       "   price  model_year           model  condition  cylinders fuel  odometer  \\\n",
       "0   9400      2011.0          bmw x5       good        6.0  gas  145000.0   \n",
       "1  25500         NaN      ford f-150       good        6.0  gas   88705.0   \n",
       "2   5500      2013.0  hyundai sonata   like new        4.0  gas  110000.0   \n",
       "3   1500      2003.0      ford f-150       fair        8.0  gas       NaN   \n",
       "4  14900      2017.0    chrysler 200  excellent        4.0  gas   80903.0   \n",
       "5  14990      2014.0    chrysler 300  excellent        6.0  gas   57954.0   \n",
       "6  12990      2015.0    toyota camry  excellent        4.0  gas   79212.0   \n",
       "7  15990      2013.0     honda pilot  excellent        6.0  gas  109473.0   \n",
       "8  11500      2012.0     kia sorento  excellent        4.0  gas  104174.0   \n",
       "9   9200      2008.0     honda pilot  excellent        NaN  gas  147191.0   \n",
       "\n",
       "  transmission    type paint_color  is_4wd date_posted  days_listed  \n",
       "0    automatic     SUV         NaN     1.0  2018-06-23           19  \n",
       "1    automatic  pickup       white     1.0  2018-10-19           50  \n",
       "2    automatic   sedan         red     NaN  2019-02-07           79  \n",
       "3    automatic  pickup         NaN     NaN  2019-03-22            9  \n",
       "4    automatic   sedan       black     NaN  2019-04-02           28  \n",
       "5    automatic   sedan       black     1.0  2018-06-20           15  \n",
       "6    automatic   sedan       white     NaN  2018-12-27           73  \n",
       "7    automatic     SUV       black     1.0  2019-01-07           68  \n",
       "8    automatic     SUV         NaN     1.0  2018-07-16           19  \n",
       "9    automatic     SUV        blue     1.0  2019-02-15           17  "
      ]
     },
     "execution_count": 3,
     "metadata": {},
     "output_type": "execute_result"
    }
   ],
   "source": [
    "# overview of the number of rows filled by category with its datatype\n",
    "car_dataset.info()\n",
    "# exploration of sample from the file \n",
    "car_dataset.head(10)"
   ]
  },
  {
   "cell_type": "code",
   "execution_count": 4,
   "metadata": {},
   "outputs": [
    {
     "data": {
      "text/plain": [
       "price               0\n",
       "model_year       3619\n",
       "model               0\n",
       "condition           0\n",
       "cylinders        5260\n",
       "fuel                0\n",
       "odometer         7892\n",
       "transmission        0\n",
       "type                0\n",
       "paint_color      9267\n",
       "is_4wd          25953\n",
       "date_posted         0\n",
       "days_listed         0\n",
       "dtype: int64"
      ]
     },
     "execution_count": 4,
     "metadata": {},
     "output_type": "execute_result"
    }
   ],
   "source": [
    "#quick check on number of missing values for each category\n",
    "car_dataset.isnull().sum()"
   ]
  },
  {
   "cell_type": "code",
   "execution_count": 5,
   "metadata": {},
   "outputs": [
    {
     "data": {
      "text/plain": [
       "price            0.000000\n",
       "model_year       7.023775\n",
       "model            0.000000\n",
       "condition        0.000000\n",
       "cylinders       10.208637\n",
       "fuel             0.000000\n",
       "odometer        15.316836\n",
       "transmission     0.000000\n",
       "type             0.000000\n",
       "paint_color     17.985444\n",
       "is_4wd          50.369723\n",
       "date_posted      0.000000\n",
       "days_listed      0.000000\n",
       "dtype: float64"
      ]
     },
     "execution_count": 5,
     "metadata": {},
     "output_type": "execute_result"
    }
   ],
   "source": [
    "#percentage of missing values for each category \n",
    "car_dataset.isna().sum()/(len(car_dataset))*100"
   ]
  },
  {
   "cell_type": "code",
   "execution_count": 6,
   "metadata": {},
   "outputs": [
    {
     "data": {
      "text/html": [
       "<div>\n",
       "<style scoped>\n",
       "    .dataframe tbody tr th:only-of-type {\n",
       "        vertical-align: middle;\n",
       "    }\n",
       "\n",
       "    .dataframe tbody tr th {\n",
       "        vertical-align: top;\n",
       "    }\n",
       "\n",
       "    .dataframe thead th {\n",
       "        text-align: right;\n",
       "    }\n",
       "</style>\n",
       "<table border=\"1\" class=\"dataframe\">\n",
       "  <thead>\n",
       "    <tr style=\"text-align: right;\">\n",
       "      <th></th>\n",
       "      <th>price</th>\n",
       "      <th>model_year</th>\n",
       "      <th>cylinders</th>\n",
       "      <th>odometer</th>\n",
       "      <th>is_4wd</th>\n",
       "      <th>days_listed</th>\n",
       "    </tr>\n",
       "  </thead>\n",
       "  <tbody>\n",
       "    <tr>\n",
       "      <td>count</td>\n",
       "      <td>51525.000000</td>\n",
       "      <td>47906.000000</td>\n",
       "      <td>46265.000000</td>\n",
       "      <td>43633.000000</td>\n",
       "      <td>25572.0</td>\n",
       "      <td>51525.00000</td>\n",
       "    </tr>\n",
       "    <tr>\n",
       "      <td>mean</td>\n",
       "      <td>12132.464920</td>\n",
       "      <td>2009.750470</td>\n",
       "      <td>6.125235</td>\n",
       "      <td>115553.461738</td>\n",
       "      <td>1.0</td>\n",
       "      <td>39.55476</td>\n",
       "    </tr>\n",
       "    <tr>\n",
       "      <td>std</td>\n",
       "      <td>10040.803015</td>\n",
       "      <td>6.282065</td>\n",
       "      <td>1.660360</td>\n",
       "      <td>65094.611341</td>\n",
       "      <td>0.0</td>\n",
       "      <td>28.20427</td>\n",
       "    </tr>\n",
       "    <tr>\n",
       "      <td>min</td>\n",
       "      <td>1.000000</td>\n",
       "      <td>1908.000000</td>\n",
       "      <td>3.000000</td>\n",
       "      <td>0.000000</td>\n",
       "      <td>1.0</td>\n",
       "      <td>0.00000</td>\n",
       "    </tr>\n",
       "    <tr>\n",
       "      <td>25%</td>\n",
       "      <td>5000.000000</td>\n",
       "      <td>2006.000000</td>\n",
       "      <td>4.000000</td>\n",
       "      <td>70000.000000</td>\n",
       "      <td>1.0</td>\n",
       "      <td>19.00000</td>\n",
       "    </tr>\n",
       "    <tr>\n",
       "      <td>50%</td>\n",
       "      <td>9000.000000</td>\n",
       "      <td>2011.000000</td>\n",
       "      <td>6.000000</td>\n",
       "      <td>113000.000000</td>\n",
       "      <td>1.0</td>\n",
       "      <td>33.00000</td>\n",
       "    </tr>\n",
       "    <tr>\n",
       "      <td>75%</td>\n",
       "      <td>16839.000000</td>\n",
       "      <td>2014.000000</td>\n",
       "      <td>8.000000</td>\n",
       "      <td>155000.000000</td>\n",
       "      <td>1.0</td>\n",
       "      <td>53.00000</td>\n",
       "    </tr>\n",
       "    <tr>\n",
       "      <td>max</td>\n",
       "      <td>375000.000000</td>\n",
       "      <td>2019.000000</td>\n",
       "      <td>12.000000</td>\n",
       "      <td>990000.000000</td>\n",
       "      <td>1.0</td>\n",
       "      <td>271.00000</td>\n",
       "    </tr>\n",
       "  </tbody>\n",
       "</table>\n",
       "</div>"
      ],
      "text/plain": [
       "               price    model_year     cylinders       odometer   is_4wd  \\\n",
       "count   51525.000000  47906.000000  46265.000000   43633.000000  25572.0   \n",
       "mean    12132.464920   2009.750470      6.125235  115553.461738      1.0   \n",
       "std     10040.803015      6.282065      1.660360   65094.611341      0.0   \n",
       "min         1.000000   1908.000000      3.000000       0.000000      1.0   \n",
       "25%      5000.000000   2006.000000      4.000000   70000.000000      1.0   \n",
       "50%      9000.000000   2011.000000      6.000000  113000.000000      1.0   \n",
       "75%     16839.000000   2014.000000      8.000000  155000.000000      1.0   \n",
       "max    375000.000000   2019.000000     12.000000  990000.000000      1.0   \n",
       "\n",
       "       days_listed  \n",
       "count  51525.00000  \n",
       "mean      39.55476  \n",
       "std       28.20427  \n",
       "min        0.00000  \n",
       "25%       19.00000  \n",
       "50%       33.00000  \n",
       "75%       53.00000  \n",
       "max      271.00000  "
      ]
     },
     "execution_count": 6,
     "metadata": {},
     "output_type": "execute_result"
    }
   ],
   "source": [
    "#quick check if there are negative values in min and max accross numeric values \n",
    "car_dataset.describe()"
   ]
  },
  {
   "cell_type": "markdown",
   "metadata": {},
   "source": [
    "### Conclusion"
   ]
  },
  {
   "cell_type": "markdown",
   "metadata": {},
   "source": [
    "From the output we can see that the table contains ***13 columns and 51525 rows***.<br>\n",
    "There are no negative values in this file but a significant gap between median and average for days_listed .<br>\n",
    "There are some missing values  because each column doesn't contain ***51525*** observations.<br>\n",
    "We have around **7.8%**  of values missing on the whole file,especially for ***is_4wd and paint_color***  which represent ***50.3% and 18% of  missing values*** in their respective category.<br>\n",
    "Also ***model_year, cylinders, odometer ,paint_color and is_4wd***  have different  values and we will determine later whether it is justified or not.  <br>\n",
    "We notice that some sections have different  ***datatype*** and there might be a need  of standardization for calculation purpose :***cylinders, model_year ,odometer,is_4wd and date_posted*** \n"
   ]
  },
  {
   "cell_type": "markdown",
   "metadata": {},
   "source": [
    "# Step 2. Data preprocessing"
   ]
  },
  {
   "cell_type": "code",
   "execution_count": 7,
   "metadata": {},
   "outputs": [
    {
     "data": {
      "text/html": [
       "<div>\n",
       "<style scoped>\n",
       "    .dataframe tbody tr th:only-of-type {\n",
       "        vertical-align: middle;\n",
       "    }\n",
       "\n",
       "    .dataframe tbody tr th {\n",
       "        vertical-align: top;\n",
       "    }\n",
       "\n",
       "    .dataframe thead th {\n",
       "        text-align: right;\n",
       "    }\n",
       "</style>\n",
       "<table border=\"1\" class=\"dataframe\">\n",
       "  <thead>\n",
       "    <tr style=\"text-align: right;\">\n",
       "      <th></th>\n",
       "      <th>Number of missing values</th>\n",
       "      <th>Percentage of missing value by categorie %</th>\n",
       "    </tr>\n",
       "    <tr>\n",
       "      <th>Categories</th>\n",
       "      <th></th>\n",
       "      <th></th>\n",
       "    </tr>\n",
       "  </thead>\n",
       "  <tbody>\n",
       "    <tr>\n",
       "      <td>cylinders</td>\n",
       "      <td>5260</td>\n",
       "      <td>10</td>\n",
       "    </tr>\n",
       "    <tr>\n",
       "      <td>is_4wd</td>\n",
       "      <td>25953</td>\n",
       "      <td>50</td>\n",
       "    </tr>\n",
       "    <tr>\n",
       "      <td>model_year</td>\n",
       "      <td>3619</td>\n",
       "      <td>7</td>\n",
       "    </tr>\n",
       "    <tr>\n",
       "      <td>odometer</td>\n",
       "      <td>7892</td>\n",
       "      <td>15</td>\n",
       "    </tr>\n",
       "    <tr>\n",
       "      <td>paint_color</td>\n",
       "      <td>9267</td>\n",
       "      <td>18</td>\n",
       "    </tr>\n",
       "  </tbody>\n",
       "</table>\n",
       "</div>"
      ],
      "text/plain": [
       "             Number of missing values  \\\n",
       "Categories                              \n",
       "cylinders                        5260   \n",
       "is_4wd                          25953   \n",
       "model_year                       3619   \n",
       "odometer                         7892   \n",
       "paint_color                      9267   \n",
       "\n",
       "             Percentage of missing value by categorie %  \n",
       "Categories                                               \n",
       "cylinders                                            10  \n",
       "is_4wd                                               50  \n",
       "model_year                                            7  \n",
       "odometer                                             15  \n",
       "paint_color                                          18  "
      ]
     },
     "execution_count": 7,
     "metadata": {},
     "output_type": "execute_result"
    }
   ],
   "source": [
    "#We analyze the missing values \n",
    "\n",
    "missing = pd.DataFrame({'Number of missing values':[3619, 5260, 7892,9267,25953],\n",
    "                    'Categories':['model_year', 'cylinders' , 'odometer', 'paint_color'  , 'is_4wd '],  \n",
    "                    'Percentage of missing value by categorie %':[7, 10, 15, 18, 50 ]}) \n",
    "                 \n",
    "missing = pd.pivot_table(data=missing,index=['Categories'])\n",
    "missing\n"
   ]
  },
  {
   "cell_type": "code",
   "execution_count": 8,
   "metadata": {},
   "outputs": [
    {
     "name": "stdout",
     "output_type": "stream",
     "text": [
      "white     10029\n",
      "black      7692\n",
      "silver     6244\n",
      "grey       5037\n",
      "blue       4475\n",
      "red        4421\n",
      "green      1396\n",
      "brown      1223\n",
      "custom     1153\n",
      "yellow      255\n",
      "orange      231\n",
      "purple      102\n",
      "Name: paint_color, dtype: int64\n",
      "------------------------------------------------------\n"
     ]
    },
    {
     "data": {
      "text/plain": [
       "8.0     15844\n",
       "6.0     15700\n",
       "4.0     13864\n",
       "10.0      549\n",
       "5.0       272\n",
       "3.0        34\n",
       "12.0        2\n",
       "Name: cylinders, dtype: int64"
      ]
     },
     "execution_count": 8,
     "metadata": {},
     "output_type": "execute_result"
    }
   ],
   "source": [
    "#check values of paint color \n",
    "print(car_dataset['paint_color'].value_counts())\n",
    "car_dataset['paint_color'].mode()\n",
    "print('------------------------------------------------------')\n",
    "#check values of cylinders \n",
    "car_dataset['cylinders'].value_counts()\n"
   ]
  },
  {
   "cell_type": "code",
   "execution_count": 9,
   "metadata": {},
   "outputs": [
    {
     "name": "stdout",
     "output_type": "stream",
     "text": [
      "0.0         185\n",
      "140000.0    183\n",
      "120000.0    179\n",
      "130000.0    178\n",
      "160000.0    167\n",
      "           ... \n",
      "51595.0       1\n",
      "111381.0      1\n",
      "155940.0      1\n",
      "43402.0       1\n",
      "74063.0       1\n",
      "Name: odometer, Length: 17762, dtype: int64\n",
      "------------------------------------------------------\n",
      "51515    228000.0\n",
      "51516         NaN\n",
      "51517     81000.0\n",
      "51518    110200.0\n",
      "51519         NaN\n",
      "51520     88136.0\n",
      "51521    181500.0\n",
      "51522    128000.0\n",
      "51523    139573.0\n",
      "51524         NaN\n",
      "Name: odometer, dtype: float64\n"
     ]
    }
   ],
   "source": [
    "#check values of odometer \n",
    "print(car_dataset['odometer'].value_counts())\n",
    "print('------------------------------------------------------')\n",
    "print(car_dataset['odometer'].tail(10))"
   ]
  },
  {
   "cell_type": "markdown",
   "metadata": {},
   "source": [
    "We can see that the majority of missing values comes from **is_4wd with 50%** we assume that the cells are empty because those cars don't have this option. We will replace them with 0.<br>\n",
    "For the ***paint_color*** we can see that **white** is accounting for **19%** of total values of colors, for that reason we will use the **mode** as replacement method.The mode is the most frequently-occurring value in a set of values in this particular case it is the color white.\n",
    "<br>\n",
    "For the **cylinders** the top 3 values are **8, 6 and 4L** which account for **87%** of all cars, in this category the mean and average are almost the same : **6L**, we will use that value for replacement.\n",
    "<br>\n",
    "For the **model_year** we saw earlier that there is no much outliers we will use the average 2009.75. <br>\n",
    "\n",
    "For the **odometers** , normally it is impossible that a car can have  **min (0)** as a mileage :we can see that we have **185 values with '0'** cumulated with the **7892** missing values it is around **8077** or **15.6%** values, we will first replace only nan with median: **113000**.  \n",
    "\n",
    "<br>\n",
    "\n"
   ]
  },
  {
   "cell_type": "code",
   "execution_count": 10,
   "metadata": {},
   "outputs": [
    {
     "data": {
      "text/plain": [
       "price           0\n",
       "model_year      0\n",
       "model           0\n",
       "condition       0\n",
       "cylinders       0\n",
       "fuel            0\n",
       "odometer        0\n",
       "transmission    0\n",
       "type            0\n",
       "paint_color     0\n",
       "is_4wd          0\n",
       "date_posted     0\n",
       "days_listed     0\n",
       "dtype: int64"
      ]
     },
     "execution_count": 10,
     "metadata": {},
     "output_type": "execute_result"
    }
   ],
   "source": [
    "#We fill in missing values model_year|cylinders|odometer|paint_color|is_4wd\n",
    "#We'll make use of pandas replace method:df['a']=df['a'].replace(0,df['a'].mean()) and fillna()\n",
    "car_dataset['model_year']= car_dataset['model_year'].fillna(car_dataset.mean()['model_year'])\n",
    "car_dataset['cylinders']= car_dataset['cylinders'].fillna(car_dataset.median()['cylinders'])\n",
    "car_dataset['odometer']= car_dataset['odometer'].fillna(car_dataset.median()['odometer'])   \n",
    "car_dataset['paint_color'].fillna( 'white', inplace = True)\n",
    "car_dataset['is_4wd'] = car_dataset['is_4wd'].fillna(0)\n",
    "#check on number of missing values \n",
    "car_dataset.isnull().sum()"
   ]
  },
  {
   "cell_type": "markdown",
   "metadata": {},
   "source": [
    "We observed there were a considerable amount of missing values in our file(8%)and it would'nt be benificial from a business perspective to ignore them and just delete them. <br>\n",
    "The reliability and accuracy of our study would have been impacted.<br>\n",
    "\n",
    "We made the decision to replace all the missing values for each section taking into account the average and median. In our case both were quite close and  I made use of both to fill up the missing values  for **model_year|cylinders|odometer**.<br>\n",
    "\n",
    "For **odometer**, I decided also to keep the zero and replace the nan  by the median because I assumed it was unrealistic to consider having multiple values in Nan.We should mention that every new car has a few miles on the odometer and it is an expected behaviour for test and compliance purpose.<br>\n",
    "\n",
    "For **paint_color** I concluded it was in our best interest to take advantage of the **mode** as replacement method as it represents the most frequent value of a variable in the data. In fact this is the only appropriate measure for trends that can be used with categorical variables.**white** came out as  the adequate replacement value.<br>\n",
    "\n",
    "Regarding **is_4wd** it was a logical choice to replace the missing values with 0 as :<br>\n",
    "**1** = 4-Wheel Drive Cars <br>\n",
    "**0** = NO 4-Wheel Drive Cars\n",
    "\n",
    "**During the analysis of the missing value in this file we can notice that the data in real world are rarely clean and homogeneous.<br>\n",
    "The reasons behind that are Data can either be missing during the extraction or collection.<br>\n",
    "Sometimes data collection is done improperly or mistakes are made during entry process or simply there is no observed measurement for such feature either by respondents or instruments used for capturing such data.<br>\n",
    "It is very important to handle missing values at the early stage of our study because it will enable us to improve the quality of our performance metric. <br>\n",
    "If it is not done properly it can most likely lead to wrong prediction or classification and potentially cause a high bias.<br>\n",
    "In our case we were facing missing data with the form of Missing at random (MAR) where the missing inputs are not randomly distributed across observations but are distributed within one or more sub-categories.<br>\n",
    "MAR does not mean that the missing data can be ignored.<br>\n",
    "We made use of imputation method as main technique of dealing with missing data regarding the observed pattern in our study.<br>\n",
    "The best way to avoid to get missing data is to have a good planning of the study and some proper implemented guidelines for the collection of the data.<br>\n",
    "A proper training also can be provided to the investigators so they are aware of the expectations.<br>\n",
    "Manegement teams also need to be involved in the project to set targets for an acceptable level of missing data.<br>\n",
    "Data collection should also be monitored and edited in real-time to assess the quality of them and identify the unexpected problems which are likely to occur,thus reducing the amount of missing data.**<br>\n"
   ]
  },
  {
   "cell_type": "markdown",
   "metadata": {},
   "source": [
    "<div class=\"alert alert-block alert-success\">\n",
    "    \n",
    "### Reviewer's comment\n",
    "    \n",
    "It was really interesting to read your thoughts about missing values, thanks! Nice job!\n",
    "\n",
    "</div>"
   ]
  },
  {
   "cell_type": "code",
   "execution_count": 11,
   "metadata": {},
   "outputs": [
    {
     "name": "stdout",
     "output_type": "stream",
     "text": [
      "<class 'pandas.core.frame.DataFrame'>\n",
      "RangeIndex: 51525 entries, 0 to 51524\n",
      "Data columns (total 13 columns):\n",
      "price           51525 non-null int64\n",
      "model_year      51525 non-null float64\n",
      "model           51525 non-null object\n",
      "condition       51525 non-null object\n",
      "cylinders       51525 non-null float64\n",
      "fuel            51525 non-null object\n",
      "odometer        51525 non-null float64\n",
      "transmission    51525 non-null object\n",
      "type            51525 non-null object\n",
      "paint_color     51525 non-null object\n",
      "is_4wd          51525 non-null float64\n",
      "date_posted     51525 non-null object\n",
      "days_listed     51525 non-null int64\n",
      "dtypes: float64(4), int64(2), object(7)\n",
      "memory usage: 5.1+ MB\n"
     ]
    }
   ],
   "source": [
    "#Conversion of datatype\n",
    "car_dataset.info()"
   ]
  },
  {
   "cell_type": "code",
   "execution_count": 12,
   "metadata": {},
   "outputs": [
    {
     "name": "stdout",
     "output_type": "stream",
     "text": [
      "<class 'pandas.core.frame.DataFrame'>\n",
      "RangeIndex: 51525 entries, 0 to 51524\n",
      "Data columns (total 13 columns):\n",
      "price           51525 non-null int64\n",
      "model_year      51525 non-null int64\n",
      "model           51525 non-null object\n",
      "condition       51525 non-null object\n",
      "cylinders       51525 non-null int64\n",
      "fuel            51525 non-null object\n",
      "odometer        51525 non-null int64\n",
      "transmission    51525 non-null object\n",
      "type            51525 non-null object\n",
      "paint_color     51525 non-null object\n",
      "is_4wd          51525 non-null int64\n",
      "date_posted     51525 non-null datetime64[ns]\n",
      "days_listed     51525 non-null int64\n",
      "dtypes: datetime64[ns](1), int64(6), object(6)\n",
      "memory usage: 5.1+ MB\n"
     ]
    }
   ],
   "source": [
    "#We will convert 4 categories model_year|cylinders|odometer|is_4wd into integer \n",
    "#Wewill convert date_posted  into datetime frame for calculation purpose later \n",
    "\n",
    "car_dataset['model_year']=car_dataset['model_year'].astype(int)\n",
    "car_dataset['cylinders']=car_dataset['cylinders'].astype(int)\n",
    "\n",
    "car_dataset['odometer']=car_dataset['odometer'].astype(int)\n",
    "car_dataset['is_4wd']=car_dataset['is_4wd'].astype(int)\n",
    "car_dataset['date_posted'] = pd.to_datetime(car_dataset['date_posted'])\n",
    " \n",
    "car_dataset.info()"
   ]
  },
  {
   "cell_type": "markdown",
   "metadata": {},
   "source": [
    "**date_posted** has been converted into  datetime64 because it will be easier later to extract data from it.<br>\n",
    "We have converted 4 categories **model_year |cylinders |is_4wd  |odometer** into integer in order to perform mathematical operations.<br>\n",
    "Moreover it is a direct way to remove the decimal and keep only whole numerical values.<br>\n",
    "Finally it is a better visual representation of the data to have identical  format.\n"
   ]
  },
  {
   "cell_type": "markdown",
   "metadata": {},
   "source": [
    "# Step 3. Make calculations and add them to the table"
   ]
  },
  {
   "cell_type": "code",
   "execution_count": 13,
   "metadata": {},
   "outputs": [],
   "source": [
    "#Extraction and addition of Day of the week when the ad was placed \n",
    "import datetime\n",
    "\n",
    "car_dataset['dayweek'] =  car_dataset['date_posted'].dt.day_name()\n",
    " "
   ]
  },
  {
   "cell_type": "code",
   "execution_count": 14,
   "metadata": {},
   "outputs": [
    {
     "data": {
      "text/plain": [
       "0     6\n",
       "1    10\n",
       "2     2\n",
       "3     3\n",
       "4     4\n",
       "Name: month, dtype: int64"
      ]
     },
     "execution_count": 14,
     "metadata": {},
     "output_type": "execute_result"
    }
   ],
   "source": [
    "#Extraction and addition of month when the ad was placed \n",
    "car_dataset['month'] = pd.DatetimeIndex(car_dataset['date_posted']).month\n",
    "car_dataset['month'].head(5)"
   ]
  },
  {
   "cell_type": "code",
   "execution_count": 15,
   "metadata": {},
   "outputs": [
    {
     "data": {
      "text/plain": [
       "0    2018\n",
       "1    2018\n",
       "2    2019\n",
       "3    2019\n",
       "4    2019\n",
       "Name: year, dtype: int64"
      ]
     },
     "execution_count": 15,
     "metadata": {},
     "output_type": "execute_result"
    }
   ],
   "source": [
    "#Extraction and addition of year the ad was placed \n",
    "car_dataset['year'] = pd.DatetimeIndex(car_dataset['date_posted']).year\n",
    "car_dataset['year'].head(5)"
   ]
  },
  {
   "cell_type": "code",
   "execution_count": 16,
   "metadata": {},
   "outputs": [
    {
     "data": {
      "text/plain": [
       "0     7\n",
       "1     9\n",
       "2     6\n",
       "3    16\n",
       "4     2\n",
       "Name: car age, dtype: int64"
      ]
     },
     "execution_count": 16,
     "metadata": {},
     "output_type": "execute_result"
    }
   ],
   "source": [
    "#Calculation and addition  of  vehicle's age (in years) when the ad was placed\n",
    "car_dataset['car age'] = (car_dataset['year'] - car_dataset['model_year'])\n",
    "car_dataset['car age'].head(5)"
   ]
  },
  {
   "cell_type": "code",
   "execution_count": 17,
   "metadata": {},
   "outputs": [
    {
     "name": "stdout",
     "output_type": "stream",
     "text": [
      "inf        2126\n",
      "12556.0     772\n",
      "11300.0     604\n",
      "22600.0     592\n",
      "18833.0     546\n",
      "           ... \n",
      "27700.0       1\n",
      "26838.0       1\n",
      "17178.0       1\n",
      "19940.0       1\n",
      "43002.0       1\n",
      "Name: avg mil/year, Length: 16177, dtype: int64\n"
     ]
    },
    {
     "data": {
      "text/plain": [
       "count    51523.0\n",
       "mean         inf\n",
       "std          NaN\n",
       "min          0.0\n",
       "25%      10417.0\n",
       "50%      15072.0\n",
       "75%      22600.0\n",
       "max          inf\n",
       "Name: avg mil/year, dtype: float64"
      ]
     },
     "execution_count": 17,
     "metadata": {},
     "output_type": "execute_result"
    }
   ],
   "source": [
    "#Calculation and addition  vehicle's average mileage per year\n",
    "car_dataset['avg mil/year']=(car_dataset['odometer'] / car_dataset['car age'])\n",
    "car_dataset['avg mil/year'] =car_dataset['avg mil/year'].round()\n",
    " \n",
    "print(car_dataset['avg mil/year'].value_counts())\n",
    "\n",
    "car_dataset['avg mil/year'] .describe()\n",
    " \n",
    "\n"
   ]
  },
  {
   "cell_type": "code",
   "execution_count": 18,
   "metadata": {},
   "outputs": [
    {
     "name": "stdout",
     "output_type": "stream",
     "text": [
      "inf        2126\n",
      "12556.0     772\n",
      "11300.0     604\n",
      "22600.0     592\n",
      "18833.0     546\n",
      "           ... \n",
      "27700.0       1\n",
      "26838.0       1\n",
      "17178.0       1\n",
      "19940.0       1\n",
      "43002.0       1\n",
      "Name: avg mil/year, Length: 16177, dtype: int64\n"
     ]
    }
   ],
   "source": [
    " \n",
    "print (car_dataset['avg mil/year'].value_counts())"
   ]
  },
  {
   "cell_type": "code",
   "execution_count": 19,
   "metadata": {},
   "outputs": [
    {
     "data": {
      "text/html": [
       "<div>\n",
       "<style scoped>\n",
       "    .dataframe tbody tr th:only-of-type {\n",
       "        vertical-align: middle;\n",
       "    }\n",
       "\n",
       "    .dataframe tbody tr th {\n",
       "        vertical-align: top;\n",
       "    }\n",
       "\n",
       "    .dataframe thead th {\n",
       "        text-align: right;\n",
       "    }\n",
       "</style>\n",
       "<table border=\"1\" class=\"dataframe\">\n",
       "  <thead>\n",
       "    <tr style=\"text-align: right;\">\n",
       "      <th></th>\n",
       "      <th>price</th>\n",
       "      <th>model_year</th>\n",
       "      <th>model</th>\n",
       "      <th>condition</th>\n",
       "      <th>cylinders</th>\n",
       "      <th>fuel</th>\n",
       "      <th>odometer</th>\n",
       "      <th>transmission</th>\n",
       "      <th>type</th>\n",
       "      <th>paint_color</th>\n",
       "      <th>is_4wd</th>\n",
       "      <th>date_posted</th>\n",
       "      <th>days_listed</th>\n",
       "      <th>dayweek</th>\n",
       "      <th>month</th>\n",
       "      <th>year</th>\n",
       "      <th>car age</th>\n",
       "      <th>avg mil/year</th>\n",
       "    </tr>\n",
       "  </thead>\n",
       "  <tbody>\n",
       "    <tr>\n",
       "      <td>0</td>\n",
       "      <td>9400</td>\n",
       "      <td>2011</td>\n",
       "      <td>bmw x5</td>\n",
       "      <td>2</td>\n",
       "      <td>6</td>\n",
       "      <td>gas</td>\n",
       "      <td>145000</td>\n",
       "      <td>automatic</td>\n",
       "      <td>SUV</td>\n",
       "      <td>white</td>\n",
       "      <td>1</td>\n",
       "      <td>2018-06-23</td>\n",
       "      <td>19</td>\n",
       "      <td>Saturday</td>\n",
       "      <td>6</td>\n",
       "      <td>2018</td>\n",
       "      <td>7</td>\n",
       "      <td>20714.0</td>\n",
       "    </tr>\n",
       "    <tr>\n",
       "      <td>1</td>\n",
       "      <td>25500</td>\n",
       "      <td>2009</td>\n",
       "      <td>ford f-150</td>\n",
       "      <td>2</td>\n",
       "      <td>6</td>\n",
       "      <td>gas</td>\n",
       "      <td>88705</td>\n",
       "      <td>automatic</td>\n",
       "      <td>pickup</td>\n",
       "      <td>white</td>\n",
       "      <td>1</td>\n",
       "      <td>2018-10-19</td>\n",
       "      <td>50</td>\n",
       "      <td>Friday</td>\n",
       "      <td>10</td>\n",
       "      <td>2018</td>\n",
       "      <td>9</td>\n",
       "      <td>9856.0</td>\n",
       "    </tr>\n",
       "    <tr>\n",
       "      <td>2</td>\n",
       "      <td>5500</td>\n",
       "      <td>2013</td>\n",
       "      <td>hyundai sonata</td>\n",
       "      <td>4</td>\n",
       "      <td>4</td>\n",
       "      <td>gas</td>\n",
       "      <td>110000</td>\n",
       "      <td>automatic</td>\n",
       "      <td>sedan</td>\n",
       "      <td>red</td>\n",
       "      <td>0</td>\n",
       "      <td>2019-02-07</td>\n",
       "      <td>79</td>\n",
       "      <td>Thursday</td>\n",
       "      <td>2</td>\n",
       "      <td>2019</td>\n",
       "      <td>6</td>\n",
       "      <td>18333.0</td>\n",
       "    </tr>\n",
       "    <tr>\n",
       "      <td>3</td>\n",
       "      <td>1500</td>\n",
       "      <td>2003</td>\n",
       "      <td>ford f-150</td>\n",
       "      <td>1</td>\n",
       "      <td>8</td>\n",
       "      <td>gas</td>\n",
       "      <td>113000</td>\n",
       "      <td>automatic</td>\n",
       "      <td>pickup</td>\n",
       "      <td>white</td>\n",
       "      <td>0</td>\n",
       "      <td>2019-03-22</td>\n",
       "      <td>9</td>\n",
       "      <td>Friday</td>\n",
       "      <td>3</td>\n",
       "      <td>2019</td>\n",
       "      <td>16</td>\n",
       "      <td>7062.0</td>\n",
       "    </tr>\n",
       "    <tr>\n",
       "      <td>4</td>\n",
       "      <td>14900</td>\n",
       "      <td>2017</td>\n",
       "      <td>chrysler 200</td>\n",
       "      <td>3</td>\n",
       "      <td>4</td>\n",
       "      <td>gas</td>\n",
       "      <td>80903</td>\n",
       "      <td>automatic</td>\n",
       "      <td>sedan</td>\n",
       "      <td>black</td>\n",
       "      <td>0</td>\n",
       "      <td>2019-04-02</td>\n",
       "      <td>28</td>\n",
       "      <td>Tuesday</td>\n",
       "      <td>4</td>\n",
       "      <td>2019</td>\n",
       "      <td>2</td>\n",
       "      <td>40452.0</td>\n",
       "    </tr>\n",
       "    <tr>\n",
       "      <td>5</td>\n",
       "      <td>14990</td>\n",
       "      <td>2014</td>\n",
       "      <td>chrysler 300</td>\n",
       "      <td>3</td>\n",
       "      <td>6</td>\n",
       "      <td>gas</td>\n",
       "      <td>57954</td>\n",
       "      <td>automatic</td>\n",
       "      <td>sedan</td>\n",
       "      <td>black</td>\n",
       "      <td>1</td>\n",
       "      <td>2018-06-20</td>\n",
       "      <td>15</td>\n",
       "      <td>Wednesday</td>\n",
       "      <td>6</td>\n",
       "      <td>2018</td>\n",
       "      <td>4</td>\n",
       "      <td>14488.0</td>\n",
       "    </tr>\n",
       "    <tr>\n",
       "      <td>6</td>\n",
       "      <td>12990</td>\n",
       "      <td>2015</td>\n",
       "      <td>toyota camry</td>\n",
       "      <td>3</td>\n",
       "      <td>4</td>\n",
       "      <td>gas</td>\n",
       "      <td>79212</td>\n",
       "      <td>automatic</td>\n",
       "      <td>sedan</td>\n",
       "      <td>white</td>\n",
       "      <td>0</td>\n",
       "      <td>2018-12-27</td>\n",
       "      <td>73</td>\n",
       "      <td>Thursday</td>\n",
       "      <td>12</td>\n",
       "      <td>2018</td>\n",
       "      <td>3</td>\n",
       "      <td>26404.0</td>\n",
       "    </tr>\n",
       "    <tr>\n",
       "      <td>7</td>\n",
       "      <td>15990</td>\n",
       "      <td>2013</td>\n",
       "      <td>honda pilot</td>\n",
       "      <td>3</td>\n",
       "      <td>6</td>\n",
       "      <td>gas</td>\n",
       "      <td>109473</td>\n",
       "      <td>automatic</td>\n",
       "      <td>SUV</td>\n",
       "      <td>black</td>\n",
       "      <td>1</td>\n",
       "      <td>2019-01-07</td>\n",
       "      <td>68</td>\n",
       "      <td>Monday</td>\n",
       "      <td>1</td>\n",
       "      <td>2019</td>\n",
       "      <td>6</td>\n",
       "      <td>18246.0</td>\n",
       "    </tr>\n",
       "    <tr>\n",
       "      <td>8</td>\n",
       "      <td>11500</td>\n",
       "      <td>2012</td>\n",
       "      <td>kia sorento</td>\n",
       "      <td>3</td>\n",
       "      <td>4</td>\n",
       "      <td>gas</td>\n",
       "      <td>104174</td>\n",
       "      <td>automatic</td>\n",
       "      <td>SUV</td>\n",
       "      <td>white</td>\n",
       "      <td>1</td>\n",
       "      <td>2018-07-16</td>\n",
       "      <td>19</td>\n",
       "      <td>Monday</td>\n",
       "      <td>7</td>\n",
       "      <td>2018</td>\n",
       "      <td>6</td>\n",
       "      <td>17362.0</td>\n",
       "    </tr>\n",
       "    <tr>\n",
       "      <td>9</td>\n",
       "      <td>9200</td>\n",
       "      <td>2008</td>\n",
       "      <td>honda pilot</td>\n",
       "      <td>3</td>\n",
       "      <td>6</td>\n",
       "      <td>gas</td>\n",
       "      <td>147191</td>\n",
       "      <td>automatic</td>\n",
       "      <td>SUV</td>\n",
       "      <td>blue</td>\n",
       "      <td>1</td>\n",
       "      <td>2019-02-15</td>\n",
       "      <td>17</td>\n",
       "      <td>Friday</td>\n",
       "      <td>2</td>\n",
       "      <td>2019</td>\n",
       "      <td>11</td>\n",
       "      <td>13381.0</td>\n",
       "    </tr>\n",
       "  </tbody>\n",
       "</table>\n",
       "</div>"
      ],
      "text/plain": [
       "   price  model_year           model  condition  cylinders fuel  odometer  \\\n",
       "0   9400        2011          bmw x5          2          6  gas    145000   \n",
       "1  25500        2009      ford f-150          2          6  gas     88705   \n",
       "2   5500        2013  hyundai sonata          4          4  gas    110000   \n",
       "3   1500        2003      ford f-150          1          8  gas    113000   \n",
       "4  14900        2017    chrysler 200          3          4  gas     80903   \n",
       "5  14990        2014    chrysler 300          3          6  gas     57954   \n",
       "6  12990        2015    toyota camry          3          4  gas     79212   \n",
       "7  15990        2013     honda pilot          3          6  gas    109473   \n",
       "8  11500        2012     kia sorento          3          4  gas    104174   \n",
       "9   9200        2008     honda pilot          3          6  gas    147191   \n",
       "\n",
       "  transmission    type paint_color  is_4wd date_posted  days_listed  \\\n",
       "0    automatic     SUV       white       1  2018-06-23           19   \n",
       "1    automatic  pickup       white       1  2018-10-19           50   \n",
       "2    automatic   sedan         red       0  2019-02-07           79   \n",
       "3    automatic  pickup       white       0  2019-03-22            9   \n",
       "4    automatic   sedan       black       0  2019-04-02           28   \n",
       "5    automatic   sedan       black       1  2018-06-20           15   \n",
       "6    automatic   sedan       white       0  2018-12-27           73   \n",
       "7    automatic     SUV       black       1  2019-01-07           68   \n",
       "8    automatic     SUV       white       1  2018-07-16           19   \n",
       "9    automatic     SUV        blue       1  2019-02-15           17   \n",
       "\n",
       "     dayweek  month  year  car age  avg mil/year  \n",
       "0   Saturday      6  2018        7       20714.0  \n",
       "1     Friday     10  2018        9        9856.0  \n",
       "2   Thursday      2  2019        6       18333.0  \n",
       "3     Friday      3  2019       16        7062.0  \n",
       "4    Tuesday      4  2019        2       40452.0  \n",
       "5  Wednesday      6  2018        4       14488.0  \n",
       "6   Thursday     12  2018        3       26404.0  \n",
       "7     Monday      1  2019        6       18246.0  \n",
       "8     Monday      7  2018        6       17362.0  \n",
       "9     Friday      2  2019       11       13381.0  "
      ]
     },
     "execution_count": 19,
     "metadata": {},
     "output_type": "execute_result"
    }
   ],
   "source": [
    "# replacing string values with a numeric scale in the condition column\n",
    "condition = {'new': 5,'like new': 4, 'excellent':3,'good':2, 'fair':1,'salvage':0} \n",
    "  \n",
    "\n",
    "car_dataset['condition'] = [condition[item] for item in car_dataset['condition']] \n",
    "car_dataset.head(10)"
   ]
  },
  {
   "cell_type": "markdown",
   "metadata": {},
   "source": [
    "<div class=\"alert alert-block alert-success\">\n",
    "\n",
    "### Reviewer's comment\n",
    "\n",
    "Hey, that's a nice move with 'condition' dictionary! Great job!\n",
    "Here is another handy way to do such transformations:\n",
    "    \n",
    "data['condition'] = data['condition'].replace(['new','like new','excellent','good','fair','salvage'],[5,4,3,2,1,0])\n",
    "\n",
    "</div>."
   ]
  },
  {
   "cell_type": "markdown",
   "metadata": {},
   "source": [
    "All the calculations have been performed and some new detailed columns have been added:\n",
    "\n",
    "* **avg mil**<br>\n",
    "* **car age when listed**<br>\n",
    "* **year**<br>\n",
    "* **month**<br>\n",
    "* **dayweek**<br>\n",
    "\n",
    "We also modified the **condition** column with the implementation of a **numeric scale** instead of string values."
   ]
  },
  {
   "cell_type": "markdown",
   "metadata": {},
   "source": [
    "<div class=\"alert alert-block alert-success\">\n",
    "    \n",
    "### Reviewer's comment\n",
    "\n",
    "Great job done here!\n",
    "\n",
    "</div>."
   ]
  },
  {
   "cell_type": "markdown",
   "metadata": {},
   "source": [
    "# Step 4. Carry out exploratory data analysis"
   ]
  },
  {
   "cell_type": "markdown",
   "metadata": {},
   "source": [
    "We are going to go deeper in the study of the following parameters :<br>\n",
    "* **price**\n",
    "* **vehicle's age when the ad was placed**\n",
    "* **mileage**\n",
    "* **number of cylinders**\n",
    "* **condition**\n",
    "\n",
    "We will start by plotting histograms for each of these parameters  and study how outliers affect the form and readability of the histograms."
   ]
  },
  {
   "cell_type": "code",
   "execution_count": 20,
   "metadata": {},
   "outputs": [
    {
     "data": {
      "image/png": "[encoded data removed]",
      "text/plain": [
       "<Figure size 432x288 with 1 Axes>"
      ]
     },
     "metadata": {
      "needs_background": "light"
     },
     "output_type": "display_data"
    },
    {
     "data": {
      "text/plain": [
       "count     51525.000000\n",
       "mean      12132.464920\n",
       "std       10040.803015\n",
       "min           1.000000\n",
       "25%        5000.000000\n",
       "50%        9000.000000\n",
       "75%       16839.000000\n",
       "max      375000.000000\n",
       "Name: price, dtype: float64"
      ]
     },
     "execution_count": 20,
     "metadata": {},
     "output_type": "execute_result"
    }
   ],
   "source": [
    "#Histogram of price \n",
    "\n",
    "car_dataset.hist('price',bins =25,edgecolor = 'green',range=(0, 100000),grid=False)\n",
    "plt.title('Prices')\n",
    "plt.xlabel('range of prices')\n",
    "plt.ylabel('nb of cars')\n",
    " \n",
    "plt.show()\n",
    "\n",
    "car_dataset['price'].describe()"
   ]
  },
  {
   "cell_type": "markdown",
   "metadata": {},
   "source": [
    "Our first impressions show that the majority of the cars have a price between ***0 and 20K*** with a peak around **9-10K** and then it decreases gradually while the prices keep increasing.<br>\n",
    "We are counting the number of cars by thousands. <br>\n",
    "We have here a typical case of **unimodal** histogram with  **right skewed Distribution** where you have more data on one side than the other which implies that the mean is larger than the median .<br>\n",
    "This has been verified above with **mean = 12132 > 9000 = median** <br>\n",
    "We can also observe some outliers after 60k because there is **a significant gap** in between bins of histograms. <br>\n",
    "Let's extract the **outliers** so we can examine them further , we will put the focus on the cars over **70k**.<br>"
   ]
  },
  {
   "cell_type": "code",
   "execution_count": 21,
   "metadata": {},
   "outputs": [
    {
     "data": {
      "image/png": "[encoded data removed]",
      "text/plain": [
       "<Figure size 432x288 with 1 Axes>"
      ]
     },
     "metadata": {
      "needs_background": "light"
     },
     "output_type": "display_data"
    },
    {
     "name": "stdout",
     "output_type": "stream",
     "text": [
      "count        28.000000\n",
      "mean     138649.785714\n",
      "std       71281.318156\n",
      "min       75000.000000\n",
      "25%       83650.000000\n",
      "50%      121728.000000\n",
      "75%      189000.000000\n",
      "max      375000.000000\n",
      "Name: price, dtype: float64\n"
     ]
    }
   ],
   "source": [
    "price_filtered = car_dataset.query('price>70000')\n",
    "price_filtered.hist('price',bins =25,edgecolor = 'green',range=(0, 375000),grid=False)\n",
    "plt.title('Prices filtered')\n",
    "plt.xlabel('range of prices')\n",
    "plt.ylabel('nb of cars')\n",
    "plt.show()\n",
    "print (price_filtered['price'].describe())\n"
   ]
  },
  {
   "cell_type": "markdown",
   "metadata": {},
   "source": [
    "We notice straight  away **a decrease in the number of cars** for the range of prices over **70k**, they represent only 0.05% of the total number of cars. <br>\n",
    "It is considered as the high-end luxury segment and  luxury doesn’t come cheap with a range of price between **75 and 375k**. <br>\n",
    "We are counting the number of cars by dozens, we have 4 clusters with gap in between where there are no data points in distribution. <br>\n",
    "We have 3 peaks: between 75K and 100k, then around 123456 and finally around 189000, those are considered as **luxury cars**.<br>\n",
    "We have also 2 outliers within the outliers with prices over 300k that we can classify  as **ultra luxury cars**.<br>\n",
    " "
   ]
  },
  {
   "cell_type": "code",
   "execution_count": 22,
   "metadata": {},
   "outputs": [
    {
     "data": {
      "image/png": "[encoded data removed]",
      "text/plain": [
       "<Figure size 432x288 with 1 Axes>"
      ]
     },
     "metadata": {
      "needs_background": "light"
     },
     "output_type": "display_data"
    },
    {
     "data": {
      "image/png": "[encoded data removed]",
      "text/plain": [
       "<Figure size 432x288 with 1 Axes>"
      ]
     },
     "metadata": {
      "needs_background": "light"
     },
     "output_type": "display_data"
    }
   ],
   "source": [
    "car_dataset.hist('price',bins =25,edgecolor = 'green',range=(0, 100000),grid=False)\n",
    "price_filtered = car_dataset.query('price>70000')\n",
    "plt.xlabel('range of prices')\n",
    "\n",
    "plt.title('Prices') \n",
    "\n",
    "\n",
    "price_filtered.hist('price',bins =25,edgecolor = 'red',range=(0, 375000),grid=False)\n",
    "plt.title('Prices filtered')\n",
    "plt.xlabel('range of prices')\n",
    "\n",
    "plt.show()"
   ]
  },
  {
   "cell_type": "markdown",
   "metadata": {},
   "source": [
    "**<u>Conclusion**</u> <br>\n",
    "**A car is  perceived differently from other possessions because it remains the most apparent property we own.<br>\n",
    "Both histograms show clearly that they don't deal with the same type of individual.<br>\n",
    "Our first histogram puts the emphasis more on the affordability,practical and economical aspect of the car over showy.Usually it is at reach of the working middle - class.<br>\n",
    "In the second one , we are more in the luxury sector where very often cars are seen as symbol status and are targeted mainly by the upper class in search of confort ,engine performance and specific high tech car standards.** <br>\n",
    " "
   ]
  },
  {
   "cell_type": "code",
   "execution_count": 23,
   "metadata": {},
   "outputs": [
    {
     "data": {
      "image/png": "[encoded data removed]",
      "text/plain": [
       "<Figure size 432x288 with 1 Axes>"
      ]
     },
     "metadata": {
      "needs_background": "light"
     },
     "output_type": "display_data"
    },
    {
     "name": "stdout",
     "output_type": "stream",
     "text": [
      "count    51525.000000\n",
      "mean         8.609704\n",
      "std          6.074418\n",
      "min          0.000000\n",
      "25%          4.000000\n",
      "50%          8.000000\n",
      "75%         12.000000\n",
      "max        110.000000\n",
      "Name: car age, dtype: float64\n"
     ]
    }
   ],
   "source": [
    "#Histogram of  vehicle's age when the ad was placed\n",
    "car_dataset.hist('car age',bins =30, color = 'green',range=(0, 80),grid=False)\n",
    "plt.title('car age when listed')\n",
    "plt.xlabel('range of age')\n",
    "plt.ylabel('nb of cars')\n",
    " \n",
    "plt.show()\n",
    "print (car_dataset['car age'].describe())\n",
    " "
   ]
  },
  {
   "cell_type": "markdown",
   "metadata": {},
   "source": [
    "We can observe the highest peak in the number of cars stands around **8 years** which relates  to the fact that the **mean and median are pretty similar around 8 years of age**.<br>\n",
    "We noticed one  previous peak around  **5 years of age** also.<br>\n",
    "\n",
    "Cars are more and more reliable and better quality that's why they last longer.<br>\n",
    "People are usually interested in the first place by **new cars** because  they became more affordable than before especially with all the financing options available.<br>\n",
    "Nevertheless the more expensive is the car the more it is losing value every single year due to **depreciation**.<br>\n",
    "This is the reason why **you have a peak around 2 years old for nearly new cars**.<BR>\n",
    "People find those cars better value than the new one because of **slow depreciation, good condition and for greater benefits low mileage**. They don't have to worry about major repairs or as most of the time the car would come with a set of warranties or assistance pack.<BR>\n",
    "**The 5 years old is an ideal range as the price is reduced , way more affordable and the car should still be in relatively good conditon.** At that point cars come with high mileage, people are aware that repair and maintenance cost will be higher and less predictable.<BR>\n",
    "**8 years old age seems to be a fair compromise between new and old.**\n",
    "It is indeed  an not that \"old\" car,in good condition and affordable for majority of individual from middle class working .<BR>\n",
    "A lot of people can buy it for cash and don't feel the burden of a loan or lease.<BR>\n",
    "Nevertheless it is still  an aged car that will require more services at regular intervals.<BR>\n",
    "\n",
    "Passed the **threshold of 10 years old** we consider the car as **old and at maximal risk**. \n",
    "The car getting older there are obviously parts that will require fixing and repairing simply due to daily wear and tear and higher mileage. <BR>\n",
    "    \n",
    "The number of car is decreasing while their age is rising  disclosing **outliers from 35 years of age** which is collaborated by the fact that the demand for this type of old car is less common.\n"
   ]
  },
  {
   "cell_type": "code",
   "execution_count": 24,
   "metadata": {},
   "outputs": [
    {
     "data": {
      "image/png": "[encoded data removed]",
      "text/plain": [
       "<Figure size 432x288 with 1 Axes>"
      ]
     },
     "metadata": {
      "needs_background": "light"
     },
     "output_type": "display_data"
    }
   ],
   "source": [
    "age_filtered = car_dataset[car_dataset['car age']>35]\n",
    "age_filtered.hist('car age',bins =30, color = 'green',range=(35, 100),grid=False)\n",
    "plt.title('car age outliers')\n",
    "plt.xlabel('range of age')\n",
    "plt.ylabel('nb of cars')\n",
    "plt.show()\n",
    "\n",
    "\n",
    " "
   ]
  },
  {
   "cell_type": "markdown",
   "metadata": {},
   "source": [
    "We can see a peak around  the range of **40 and 50 years of age** and it decreases afterwards.<br>\n",
    "Few outliers  are seen after 60 years of age. <br>\n",
    "People are interested in old car because of the **age,rarity and design**.<br>\n",
    "**age** : the older the car is the more historical values it has.Some may have great achievements like winning races or taking part in special expeditions  <br>\n",
    "**rarity**:special-edition and limited-run models provide a **sense of exclusivity**, very often the owners of those cars belong to private clubs. They are particularly keen of sport cars with  higher performance that will carry on regardless of generations.<br>\n",
    "**design**:demand from collectors will be always high for **exceptional beauties** such as  Lamborghini Miura  or Ferrari 250 GTO.<br>Back then the designs were rather the fruit of pencil and paper than modern computer-based design softwares.<br>\n",
    "It was a pure display of the mood and trends of the time and that what makes them **authentic**.<br>"
   ]
  },
  {
   "cell_type": "markdown",
   "metadata": {},
   "source": [
    "**<u>Conclusion</u> <br>\n",
    "Inevitably the age of the car will always play an important part in the purchase process.<br>\n",
    "We have noticed above that mainly the new cars up to 10 years are really in demand compared to older cars.<br>\n",
    "In most instances newer cars are are faster, more reliable, more comfortable, cleaner, safer, more economical and this is why majority of  people will usually go for them.<br>\n",
    "On the other hand classic and vintage cars are sought for other reasons, very often it is more a combination of subjective factors that will drive a dedicated segment of collectors to go for it.<br>\n",
    "Getting a vintage car is not a sudden trend but rather a timeless journey experience.**<br>"
   ]
  },
  {
   "cell_type": "code",
   "execution_count": 25,
   "metadata": {},
   "outputs": [
    {
     "data": {
      "image/png": "[encoded data removed]",
      "text/plain": [
       "<Figure size 432x288 with 1 Axes>"
      ]
     },
     "metadata": {
      "needs_background": "light"
     },
     "output_type": "display_data"
    },
    {
     "data": {
      "text/plain": [
       "count    51523.0\n",
       "mean         inf\n",
       "std          NaN\n",
       "min          0.0\n",
       "25%      10417.0\n",
       "50%      15072.0\n",
       "75%      22600.0\n",
       "max          inf\n",
       "Name: avg mil/year, dtype: float64"
      ]
     },
     "execution_count": 25,
     "metadata": {},
     "output_type": "execute_result"
    }
   ],
   "source": [
    "#Histogram of  vehicle's mileage\n",
    "car_dataset.hist('avg mil/year',bins =40, color = 'green',range=(0, 120000),grid=False)\n",
    "plt.title('avg mileage/year')\n",
    "plt.xlabel('range of mileage')\n",
    "plt.ylabel('nb of cars')\n",
    " \n",
    "plt.show()\n",
    "\n",
    "car_dataset['avg mil/year'].describe()\n"
   ]
  },
  {
   "cell_type": "markdown",
   "metadata": {},
   "source": [
    "Driving remains the primary mode of transportation to get to work, school,shopping.<br>\n",
    "The data collection was a difficult process because there were huge number of  missing and inaccurate data with many zero  that's why we tried to stick to reality to get a close accurate analysis.<br>\n",
    "We can notice there is a peak around 13000-15000 which is matching the median.<br>\n",
    "The trend is decreasing later on. \n",
    "\n"
   ]
  },
  {
   "cell_type": "code",
   "execution_count": 26,
   "metadata": {},
   "outputs": [
    {
     "data": {
      "image/png": "[encoded data removed]",
      "text/plain": [
       "<Figure size 432x288 with 1 Axes>"
      ]
     },
     "metadata": {
      "needs_background": "light"
     },
     "output_type": "display_data"
    }
   ],
   "source": [
    "mileage_filtered= car_dataset[car_dataset['avg mil/year']>100000]\n",
    "                                   \n",
    "mileage_filtered .hist('avg mil/year',bins =40, color = 'green',range=(100000, 200000),grid=False)\n",
    "plt.title('avg mileage/year outliers')\n",
    "plt.xlabel('range of mileage')\n",
    "plt.ylabel('nb of cars')\n",
    " \n",
    "plt.show()\n",
    "\n"
   ]
  },
  {
   "cell_type": "markdown",
   "metadata": {},
   "source": [
    "Very few cars drive over 100 000 a year that remains exceptional , once again because of the data collection , the analysis will need more accurate input."
   ]
  },
  {
   "cell_type": "code",
   "execution_count": 27,
   "metadata": {},
   "outputs": [
    {
     "name": "stdout",
     "output_type": "stream",
     "text": [
      " Type of cylinder  Nb of cars  ratio in%\n",
      "                3          34       0.07\n",
      "                4       13864      26.91\n",
      "                5         272       0.53\n",
      "                6       20960      40.68\n",
      "                8       15844      30.75\n",
      "               10         549       1.07\n",
      "               12           2       0.00\n"
     ]
    },
    {
     "data": {
      "image/png": "[encoded data removed]",
      "text/plain": [
       "<Figure size 432x288 with 1 Axes>"
      ]
     },
     "metadata": {
      "needs_background": "light"
     },
     "output_type": "display_data"
    },
    {
     "data": {
      "text/plain": [
       "count    51525.000000\n",
       "mean         6.112450\n",
       "std          1.573784\n",
       "min          3.000000\n",
       "25%          4.000000\n",
       "50%          6.000000\n",
       "75%          8.000000\n",
       "max         12.000000\n",
       "Name: cylinders, dtype: float64"
      ]
     },
     "execution_count": 27,
     "metadata": {},
     "output_type": "execute_result"
    }
   ],
   "source": [
    "#Histogram of  number of cylinders\n",
    "# Retreive values counts and compile a table\n",
    "import pandas as pd\n",
    "cylinders= {'Type of cylinder': [3,4,5,6,8,10,12],\n",
    "        'Nb of cars': [34,13864,272,20960,15844,549,2]}\n",
    "\n",
    "df = pd.DataFrame(cylinders, columns = ['Type of cylinder', 'Nb of cars'])\n",
    "\n",
    "\n",
    "                                        \n",
    "df['ratio in%']  = (df['Nb of cars'] / \n",
    "                  (df['Nb of cars'].sum()) * 100).round(2)\n",
    "print (df.to_string(index=False))\n",
    "\n",
    "car_dataset.hist('cylinders',bins =10, color = 'yellow',edgecolor = 'red',range=(0, 12),grid=False)\n",
    "plt.title('number of cylinders per car')\n",
    "plt.xlabel('number of cylinders')\n",
    "plt.ylabel('nb of cars')\n",
    " \n",
    "plt.show()\n",
    "\n",
    "car_dataset['cylinders'].describe()\n"
   ]
  },
  {
   "cell_type": "markdown",
   "metadata": {},
   "source": [
    "According to the diagramm ***6, 8 and 4 are the most popular cylinder*** configuration :over **40%** of the cars have **6 cylinders**, followed by **8 cylinders with 31%** and **4 cylinders with 27%**.<br>\n",
    "In general most of the cars are powered by  **4 or 6 cylinder engine**, while majority of **trucks have 6 or 8 cylinders**. <br>\n",
    "The more cylinders an engine has, the more combustion occurs, creating more power to move the car.<br>\n",
    "**3,5 and 10 seem to be the outliers with less than 2% combined**.\n"
   ]
  },
  {
   "cell_type": "code",
   "execution_count": 28,
   "metadata": {},
   "outputs": [
    {
     "name": "stdout",
     "output_type": "stream",
     "text": [
      " Type of cylinder  Nb of cars  ratio in%\n",
      "                3          34       0.07\n",
      "                5         272       0.53\n",
      "               10         549       1.07\n"
     ]
    }
   ],
   "source": [
    "#cylinder outliers \n",
    "cylinder_outlier1=   {'Type of cylinder': [3,5,10],\n",
    "        'Nb of cars': [34,272,549],'ratio in%':[0.07,0.53,1.07]}\n",
    "\n",
    "df = pd.DataFrame(cylinder_outlier1, columns = ['Type of cylinder', 'Nb of cars','ratio in%'])\n",
    " \n",
    "print (df.to_string(index=False))\n",
    "\n"
   ]
  },
  {
   "cell_type": "code",
   "execution_count": 29,
   "metadata": {},
   "outputs": [
    {
     "data": {
      "image/png": "[encoded data removed]",
      "text/plain": [
       "<Figure size 432x288 with 1 Axes>"
      ]
     },
     "metadata": {
      "needs_background": "light"
     },
     "output_type": "display_data"
    }
   ],
   "source": [
    "#cylinder outliers \n",
    "cylinder_outlier= cylinders= {'Type of cylinder': [3,5,10],\n",
    "        'Nb of cars': [34,272,549]}\n",
    "\n",
    "df = pd.DataFrame(cylinders, columns = ['Type of cylinder', 'Nb of cars'])\n",
    "\n",
    "df.plot(x ='Type of cylinder', y='Nb of cars', kind = 'bar',color = 'yellow',edgecolor = 'red')\n",
    "plt.show()"
   ]
  },
  {
   "cell_type": "code",
   "execution_count": 30,
   "metadata": {},
   "outputs": [
    {
     "data": {
      "text/plain": [
       "cylinders  price\n",
       "3          1        1\n",
       "           800      1\n",
       "           1150     1\n",
       "           1500     1\n",
       "           2500     1\n",
       "                   ..\n",
       "10         30495    3\n",
       "           31000    4\n",
       "           43999    8\n",
       "12         18000    1\n",
       "           20000    1\n",
       "Name: cylinders, Length: 5659, dtype: int64"
      ]
     },
     "execution_count": 30,
     "metadata": {},
     "output_type": "execute_result"
    }
   ],
   "source": [
    "#correlation price and number of cylinders\n",
    "car_dataset.groupby(['cylinders','price']).cylinders.count()"
   ]
  },
  {
   "cell_type": "markdown",
   "metadata": {},
   "source": [
    "Among the outliers the **10 cyclinder configuration** is the most represented with almost 549 cars.<br>\n",
    "This configuration is mainly used for **big engines** this is the reason why BMWs, Ferraris, BMWs,Lamborghinis, Jaguars,Aston Martin, Mercedes  all pack 10-cylinder engines in their most powerful and luxurious cars.<br>\n",
    "**There is usually a correlation between price and cylinder : the more powerful is the car the more expensive the price  will be . <br>\n",
    "Seeing 3 and 5 cyclinders is surely not a very common occurrence**, they tend to be scarce and mainly fitted on small cars for fuel efficiency.<br>\n",
    "It is noted that in counterpart they showed some inconvenience in term of **CO2 Emissions, vibrations and engine noise at high speed**."
   ]
  },
  {
   "cell_type": "markdown",
   "metadata": {},
   "source": [
    "**<u>Conclusion</u><br>\n",
    "There is no doubt that the cylinders of a car are one of the most important factor considering the power and performance of the vehicle.<br>\n",
    "Auto manufacturers put the priority to 6 and 8 cylinders for most of the cars and more for a certain group of people desiring to own faster cars.<br>\n",
    "However, we noticed that there is still a little portion of cars having less cylinder on the market , those cars become rare but not obsolete .**"
   ]
  },
  {
   "cell_type": "code",
   "execution_count": 31,
   "metadata": {},
   "outputs": [
    {
     "name": "stdout",
     "output_type": "stream",
     "text": [
      "           Number of cars  Ratio of cars %  Scale\n",
      "Condition                                        \n",
      "excellent           24773            48.07      3\n",
      "fair                 1607             3.11      1\n",
      "good                20145            39.09      2\n",
      "like new             4742             9.20      4\n",
      "new                   143             0.27      5\n",
      "salvage               115             0.22      0\n"
     ]
    },
    {
     "data": {
      "image/png": "[encoded data removed]",
      "text/plain": [
       "<Figure size 432x288 with 1 Axes>"
      ]
     },
     "metadata": {
      "needs_background": "light"
     },
     "output_type": "display_data"
    },
    {
     "data": {
      "text/plain": [
       "count    51525.000000\n",
       "mean         2.637535\n",
       "std          0.712447\n",
       "min          0.000000\n",
       "25%          2.000000\n",
       "50%          3.000000\n",
       "75%          3.000000\n",
       "max          5.000000\n",
       "Name: condition, dtype: float64"
      ]
     },
     "execution_count": 31,
     "metadata": {},
     "output_type": "execute_result"
    }
   ],
   "source": [
    "#Histogram of car's condition\n",
    "#We replaced earlier the string values from the condition column  by a numeric scale\n",
    "#We retreived the values counts for each type of condition \n",
    "#We compiled a pivot table for more details\n",
    "\n",
    "cars_condition =pd.DataFrame( {'Condition': ['new','like new','excellent','good','fair','salvage'],\n",
    "        'Scale': [5,4,3,2,1,0],\n",
    "        'Number of cars':[143,4742,24773,20145,1607,115],\n",
    "        'Ratio of cars %':[0.27,9.20,48.07,39.09,3.11,0.22]\n",
    "        })\n",
    "\n",
    "                 \n",
    "table = pd.pivot_table(data=cars_condition,index=['Condition'])\n",
    "print (table)\n",
    "\n",
    "car_dataset.hist('condition',bins =10, color = 'brown',edgecolor = 'black',range=(0, 6),grid=False)\n",
    "plt.title('car condition')\n",
    "plt.xlabel('range of condition')\n",
    "plt.ylabel('nb of cars')\n",
    " \n",
    "plt.show()\n",
    "\n",
    "car_dataset['condition'].describe()\n",
    "\n",
    " "
   ]
  },
  {
   "cell_type": "markdown",
   "metadata": {},
   "source": [
    "According to the numbers we can see that around **87% of the cars are in either excellent or good condition**.<br>\n",
    "**We could define excellent and good by free of any major defects.** <br>\n",
    "Those cars possess a clean title history, the paint ,body and interior could  have only minor issues but no serious mechanical problems.<br>\n",
    "The tyres  must match and could have potential tread wear.<br>\n",
    "As a matter of fact a  **good** vehicle needs some reconditioning to be sold at retail.<br>\n",
    "**Scale 4 and 1 account for 12%**. <br>\n",
    "**Like new is the top range** when we consider a used car.\n",
    "Simply the vehicle looks new ,is in excellent mechanical condition and never had any paint or body work.On this type of vehicle we cannot detect any signs of wear or visible defects.Their tyres match and are like new.<br>\n",
    "**Fair condition is the least acceptable while buying a car** as the vehicle usually has  some cosmetic defects that need to be fixed. <br>We can also observe some mecanical issues and dents on the body but the most important is that **the car is still in reasonable running condition**.<br>\n",
    "**The outliers are \"salvage and \"new\" represent less than 1%.**"
   ]
  },
  {
   "cell_type": "code",
   "execution_count": 32,
   "metadata": {},
   "outputs": [
    {
     "name": "stdout",
     "output_type": "stream",
     "text": [
      " Scale  Nb of cars Condition  Ratio of cars %\n",
      "     0         115   salvage             0.22\n",
      "     5         143       new             0.27\n"
     ]
    }
   ],
   "source": [
    "#car's condition for outliers \n",
    "condition_out2= {'Scale': [0,5],\n",
    "        'Nb of cars': [115,143],'Condition':['salvage','new'],'Ratio of cars %':[0.22,0.27]\n",
    "               }\n",
    "df = pd.DataFrame(condition_out2,columns=['Scale','Nb of cars','Condition','Ratio of cars %'])\n",
    "print (df.to_string(index=False))\n",
    "\n",
    " "
   ]
  },
  {
   "cell_type": "code",
   "execution_count": 33,
   "metadata": {},
   "outputs": [
    {
     "data": {
      "image/png": "[encoded data removed]",
      "text/plain": [
       "<Figure size 216x216 with 1 Axes>"
      ]
     },
     "metadata": {
      "needs_background": "light"
     },
     "output_type": "display_data"
    }
   ],
   "source": [
    "condition_out2= {'Scale': [0,5],\n",
    "        'Nb of cars': [115,143],'Condition':['salvage','new']\n",
    "               }\n",
    "df = pd.DataFrame(condition_out2,columns=['Scale','Nb of cars'])\n",
    "df.plot(x ='Scale', y='Nb of cars', kind = 'bar',color = 'brown',edgecolor = 'black',figsize=(3,3),title='car condition for outliers ')\n",
    "plt.show()\n",
    " \n",
    " "
   ]
  },
  {
   "cell_type": "markdown",
   "metadata": {},
   "source": [
    "There is not much surprise to see as outliers \"Salvage\" and \"New\".<br>\n",
    "They are indeed the extremes and are targeted by different types of individuals. <br>\n",
    "**People buying new cars have usually sufficient financial resources and a precised idea of what they want**.<br>\n",
    "They are not settling for whatever they could find on the used market and therefore they seek for the maximal ratio of safety. <br>\n",
    "There is this feeling of exclusivity and new smell that particularly attracts those individuals, the fact that no one else has previously driven the car.<br>\n",
    "We can add also the business owners who renew their fleet or use their cars for work and benefit from tax rebates.<br>\n",
    "On the other hand **salvage cars are targeted by special buyers who are in the need of special parts**. <br>Very often those cars have been so severely damaged that they cannot be repaired or are not worth that's why they are priced significantly below the price market.<br>\n",
    "Also they are hard to insured and won't have any future re-sale value.\n",
    "\n",
    "  \n"
   ]
  },
  {
   "cell_type": "markdown",
   "metadata": {},
   "source": [
    "**<u>Conclusion</u><br>\n",
    "As we can see most consumers own vehicles falling into  excellent and good category.<br>\n",
    "They see the car as an \"investment\" on the mid long term that's why they are looking for reliability, safety  and design at the best affordable deal.<br>\n",
    "While new cars with the latest technology provide the most safety of all, individuals need to adopt safe choices for all price ranges according to their financial capacity.<br>\n",
    "There is evidence that vehicules in bad condition are more at risk of car's accident because they no longer comply with the required safety standards.\n",
    "Very often we see senior, young and inexperienced drivers compromising car's condition because of limited budget.**<br>\n",
    "\n",
    "\n"
   ]
  },
  {
   "cell_type": "markdown",
   "metadata": {},
   "source": [
    "The next step is to study how many days advertisements were displayed (days_listed)."
   ]
  },
  {
   "cell_type": "code",
   "execution_count": 34,
   "metadata": {},
   "outputs": [
    {
     "data": {
      "text/plain": [
       "count    51525.00000\n",
       "mean        39.55476\n",
       "std         28.20427\n",
       "min          0.00000\n",
       "25%         19.00000\n",
       "50%         33.00000\n",
       "75%         53.00000\n",
       "max        271.00000\n",
       "Name: days_listed, dtype: float64"
      ]
     },
     "execution_count": 34,
     "metadata": {},
     "output_type": "execute_result"
    }
   ],
   "source": [
    "car_dataset['days_listed'].describe()\n"
   ]
  },
  {
   "cell_type": "code",
   "execution_count": 35,
   "metadata": {},
   "outputs": [
    {
     "data": {
      "text/plain": [
       "'median: 33.0'"
      ]
     },
     "execution_count": 35,
     "metadata": {},
     "output_type": "execute_result"
    }
   ],
   "source": [
    "\n",
    "f\"median: {car_dataset['days_listed'].median()}\""
   ]
  },
  {
   "cell_type": "code",
   "execution_count": 36,
   "metadata": {},
   "outputs": [
    {
     "data": {
      "text/plain": [
       "'mean:39.55475982532751'"
      ]
     },
     "execution_count": 36,
     "metadata": {},
     "output_type": "execute_result"
    }
   ],
   "source": [
    "f\"mean:{car_dataset['days_listed'].mean()}\""
   ]
  },
  {
   "cell_type": "code",
   "execution_count": 37,
   "metadata": {},
   "outputs": [
    {
     "data": {
      "text/plain": [
       "<matplotlib.axes._subplots.AxesSubplot at 0x7f2eb71c5450>"
      ]
     },
     "execution_count": 37,
     "metadata": {},
     "output_type": "execute_result"
    },
    {
     "data": {
      "image/png": "[encoded data removed]",
      "text/plain": [
       "<Figure size 432x288 with 1 Axes>"
      ]
     },
     "metadata": {
      "needs_background": "light"
     },
     "output_type": "display_data"
    }
   ],
   "source": [
    "import seaborn as sns\n",
    "\n",
    "sns.boxplot(data=car_dataset, x='days_listed')"
   ]
  },
  {
   "cell_type": "markdown",
   "metadata": {},
   "source": [
    "From this output we can observe we have a mean around 39 days an a median at 33 days.<br>\n",
    "The two extremes are 0 days for min and 271 days for max.<br>\n",
    "Let's see a representation by histogram."
   ]
  },
  {
   "cell_type": "code",
   "execution_count": 38,
   "metadata": {},
   "outputs": [
    {
     "data": {
      "image/png": "[encoded data removed]",
      "text/plain": [
       "<Figure size 432x288 with 1 Axes>"
      ]
     },
     "metadata": {
      "needs_background": "light"
     },
     "output_type": "display_data"
    }
   ],
   "source": [
    "car_dataset.hist('days_listed',bins =40, color = 'orange',edgecolor = 'red',range=(0, 220),grid=False)\n",
    "plt.title('number of days listed ')\n",
    "plt.xlabel('number of days')\n",
    "plt.ylabel('nb of cars')\n",
    " \n",
    "plt.show()\n",
    "\n"
   ]
  },
  {
   "cell_type": "markdown",
   "metadata": {},
   "source": [
    "From this histogram we can say that the  number of car declines in correlation to the increasing  number of  days listed.<br>\n",
    "Basically the longer a car is listed the less interest it will get and the more discount consumer can expect.<br>\n",
    "We are going to divide in 6 groups to study further and breakdown the trend.\n",
    "\n"
   ]
  },
  {
   "cell_type": "code",
   "execution_count": 39,
   "metadata": {},
   "outputs": [
    {
     "name": "stdout",
     "output_type": "stream",
     "text": [
      "Number of cars with days_listed = 0 : 54\n",
      "------------------------------------------------------------------\n",
      "Number of cars with days_listed between 1 and 5 days : 1762\n",
      "------------------------------------------------------------------\n",
      "Number of cars with days_listed between 6 and 40 days : 29490\n",
      "------------------------------------------------------------------\n",
      "Number of cars with days_listed between 41 and 100 days : 18273\n",
      "------------------------------------------------------------------\n",
      "Number of cars with days_listed between 101 and 150 days : 1703\n",
      "------------------------------------------------------------------\n",
      "Number of cars with days_listed over 151 days : 243\n"
     ]
    }
   ],
   "source": [
    "\n",
    "group_0 = len(car_dataset.query(\"days_listed == 0\") )\n",
    "group_0\n",
    "print (\"Number of cars with days_listed = 0 :\",group_0)\n",
    "print('------------------------------------------------------------------')\n",
    "group_1 = len(car_dataset.query(\"days_listed  >=1  & days_listed <=5\") )\n",
    "group_1\n",
    "print (\"Number of cars with days_listed between 1 and 5 days :\",group_1)\n",
    "print('------------------------------------------------------------------')\n",
    "group_2 = len(car_dataset.query(\"days_listed  >=6  & days_listed <=40\") )\n",
    "group_2\n",
    "print (\"Number of cars with days_listed between 6 and 40 days :\",group_2)\n",
    "print('------------------------------------------------------------------')\n",
    "group_3 = len(car_dataset.query(\"days_listed  >=41  & days_listed <=100\") )\n",
    "group_3\n",
    "print (\"Number of cars with days_listed between 41 and 100 days :\",group_3)\n",
    "print('------------------------------------------------------------------')\n",
    "group_4 = len(car_dataset.query(\"days_listed  >=101  & days_listed <=150\") )\n",
    "group_4\n",
    "print (\"Number of cars with days_listed between 101 and 150 days :\",group_4)\n",
    "print('------------------------------------------------------------------')\n",
    "group_5 = len(car_dataset.query(\"days_listed  >=151 \") )\n",
    "group_5\n",
    "print (\"Number of cars with days_listed over 151 days :\",group_5)"
   ]
  },
  {
   "cell_type": "code",
   "execution_count": 40,
   "metadata": {
    "scrolled": true
   },
   "outputs": [
    {
     "name": "stdout",
     "output_type": "stream",
     "text": [
      "      Range of days  Nb of cars  ratio in%\n",
      "                  0          54       0.10\n",
      "   introduction 1-5        1762       3.42\n",
      "        growth 6-40       29490      57.23\n",
      "    maturity 41-100       18273      35.46\n",
      " saturation 101-150        1703       3.31\n",
      "       decline 150+         243       0.47\n"
     ]
    }
   ],
   "source": [
    "study_days_listed = {'Range of days': ['0','introduction 1-5','growth 6-40','maturity 41-100','saturation 101-150','decline 150+'],\n",
    "        'Nb of cars': [54,1762,29490,18273,1703,243]}\n",
    "\n",
    "df4 = pd.DataFrame(study_days_listed, columns = ['Range of days', 'Nb of cars'])\n",
    "\n",
    "\n",
    "                                        \n",
    "df4['ratio in%']  = (df4['Nb of cars'] / \n",
    "                  (df4['Nb of cars'].sum()) * 100).round(2)\n",
    "print (df4.to_string(index=False))"
   ]
  },
  {
   "cell_type": "code",
   "execution_count": 41,
   "metadata": {
    "scrolled": true
   },
   "outputs": [
    {
     "data": {
      "image/png": "[encoded data removed]",
      "text/plain": [
       "<Figure size 432x288 with 1 Axes>"
      ]
     },
     "metadata": {
      "needs_background": "light"
     },
     "output_type": "display_data"
    }
   ],
   "source": [
    "df5 = pd.DataFrame(study_days_listed,columns=['Range of days','Nb of cars'])\n",
    "df5.plot(x ='Range of days', y='Nb of cars', kind = 'bar',color = 'orange',edgecolor = 'red',figsize=(6,4),title = 'typical lifetime of an ad' )\n",
    "plt.show()\n",
    "\n",
    "\n"
   ]
  },
  {
   "cell_type": "code",
   "execution_count": 42,
   "metadata": {},
   "outputs": [
    {
     "data": {
      "text/html": [
       "<div>\n",
       "<style scoped>\n",
       "    .dataframe tbody tr th:only-of-type {\n",
       "        vertical-align: middle;\n",
       "    }\n",
       "\n",
       "    .dataframe tbody tr th {\n",
       "        vertical-align: top;\n",
       "    }\n",
       "\n",
       "    .dataframe thead th {\n",
       "        text-align: right;\n",
       "    }\n",
       "</style>\n",
       "<table border=\"1\" class=\"dataframe\">\n",
       "  <thead>\n",
       "    <tr style=\"text-align: right;\">\n",
       "      <th></th>\n",
       "      <th>price</th>\n",
       "      <th>model_year</th>\n",
       "      <th>model</th>\n",
       "      <th>condition</th>\n",
       "      <th>cylinders</th>\n",
       "      <th>fuel</th>\n",
       "      <th>odometer</th>\n",
       "      <th>transmission</th>\n",
       "      <th>type</th>\n",
       "      <th>paint_color</th>\n",
       "      <th>is_4wd</th>\n",
       "      <th>date_posted</th>\n",
       "      <th>days_listed</th>\n",
       "      <th>dayweek</th>\n",
       "      <th>month</th>\n",
       "      <th>year</th>\n",
       "      <th>car age</th>\n",
       "      <th>avg mil/year</th>\n",
       "    </tr>\n",
       "  </thead>\n",
       "  <tbody>\n",
       "    <tr>\n",
       "      <td>11698</td>\n",
       "      <td>21995</td>\n",
       "      <td>2019</td>\n",
       "      <td>chevrolet impala</td>\n",
       "      <td>4</td>\n",
       "      <td>6</td>\n",
       "      <td>gas</td>\n",
       "      <td>113000</td>\n",
       "      <td>automatic</td>\n",
       "      <td>sedan</td>\n",
       "      <td>black</td>\n",
       "      <td>0</td>\n",
       "      <td>2019-02-24</td>\n",
       "      <td>236</td>\n",
       "      <td>Sunday</td>\n",
       "      <td>2</td>\n",
       "      <td>2019</td>\n",
       "      <td>0</td>\n",
       "      <td>inf</td>\n",
       "    </tr>\n",
       "    <tr>\n",
       "      <td>14591</td>\n",
       "      <td>25988</td>\n",
       "      <td>2016</td>\n",
       "      <td>chevrolet silverado</td>\n",
       "      <td>3</td>\n",
       "      <td>8</td>\n",
       "      <td>gas</td>\n",
       "      <td>62000</td>\n",
       "      <td>automatic</td>\n",
       "      <td>pickup</td>\n",
       "      <td>red</td>\n",
       "      <td>0</td>\n",
       "      <td>2018-12-31</td>\n",
       "      <td>204</td>\n",
       "      <td>Monday</td>\n",
       "      <td>12</td>\n",
       "      <td>2018</td>\n",
       "      <td>2</td>\n",
       "      <td>31000.0</td>\n",
       "    </tr>\n",
       "    <tr>\n",
       "      <td>30688</td>\n",
       "      <td>38900</td>\n",
       "      <td>2017</td>\n",
       "      <td>ram 2500</td>\n",
       "      <td>4</td>\n",
       "      <td>6</td>\n",
       "      <td>diesel</td>\n",
       "      <td>74100</td>\n",
       "      <td>automatic</td>\n",
       "      <td>truck</td>\n",
       "      <td>grey</td>\n",
       "      <td>1</td>\n",
       "      <td>2019-04-02</td>\n",
       "      <td>210</td>\n",
       "      <td>Tuesday</td>\n",
       "      <td>4</td>\n",
       "      <td>2019</td>\n",
       "      <td>2</td>\n",
       "      <td>37050.0</td>\n",
       "    </tr>\n",
       "    <tr>\n",
       "      <td>46583</td>\n",
       "      <td>11500</td>\n",
       "      <td>2017</td>\n",
       "      <td>ford fusion</td>\n",
       "      <td>3</td>\n",
       "      <td>4</td>\n",
       "      <td>gas</td>\n",
       "      <td>65000</td>\n",
       "      <td>automatic</td>\n",
       "      <td>sedan</td>\n",
       "      <td>red</td>\n",
       "      <td>0</td>\n",
       "      <td>2019-03-06</td>\n",
       "      <td>252</td>\n",
       "      <td>Wednesday</td>\n",
       "      <td>3</td>\n",
       "      <td>2019</td>\n",
       "      <td>2</td>\n",
       "      <td>32500.0</td>\n",
       "    </tr>\n",
       "    <tr>\n",
       "      <td>48969</td>\n",
       "      <td>1</td>\n",
       "      <td>2018</td>\n",
       "      <td>chevrolet camaro</td>\n",
       "      <td>3</td>\n",
       "      <td>10</td>\n",
       "      <td>gas</td>\n",
       "      <td>6886</td>\n",
       "      <td>manual</td>\n",
       "      <td>coupe</td>\n",
       "      <td>red</td>\n",
       "      <td>1</td>\n",
       "      <td>2019-01-25</td>\n",
       "      <td>213</td>\n",
       "      <td>Friday</td>\n",
       "      <td>1</td>\n",
       "      <td>2019</td>\n",
       "      <td>1</td>\n",
       "      <td>6886.0</td>\n",
       "    </tr>\n",
       "    <tr>\n",
       "      <td>50681</td>\n",
       "      <td>12985</td>\n",
       "      <td>2017</td>\n",
       "      <td>toyota corolla</td>\n",
       "      <td>3</td>\n",
       "      <td>4</td>\n",
       "      <td>gas</td>\n",
       "      <td>34871</td>\n",
       "      <td>automatic</td>\n",
       "      <td>sedan</td>\n",
       "      <td>red</td>\n",
       "      <td>0</td>\n",
       "      <td>2018-11-09</td>\n",
       "      <td>221</td>\n",
       "      <td>Friday</td>\n",
       "      <td>11</td>\n",
       "      <td>2018</td>\n",
       "      <td>1</td>\n",
       "      <td>34871.0</td>\n",
       "    </tr>\n",
       "  </tbody>\n",
       "</table>\n",
       "</div>"
      ],
      "text/plain": [
       "       price  model_year                model  condition  cylinders    fuel  \\\n",
       "11698  21995        2019     chevrolet impala          4          6     gas   \n",
       "14591  25988        2016  chevrolet silverado          3          8     gas   \n",
       "30688  38900        2017             ram 2500          4          6  diesel   \n",
       "46583  11500        2017          ford fusion          3          4     gas   \n",
       "48969      1        2018     chevrolet camaro          3         10     gas   \n",
       "50681  12985        2017       toyota corolla          3          4     gas   \n",
       "\n",
       "       odometer transmission    type paint_color  is_4wd date_posted  \\\n",
       "11698    113000    automatic   sedan       black       0  2019-02-24   \n",
       "14591     62000    automatic  pickup         red       0  2018-12-31   \n",
       "30688     74100    automatic   truck        grey       1  2019-04-02   \n",
       "46583     65000    automatic   sedan         red       0  2019-03-06   \n",
       "48969      6886       manual   coupe         red       1  2019-01-25   \n",
       "50681     34871    automatic   sedan         red       0  2018-11-09   \n",
       "\n",
       "       days_listed    dayweek  month  year  car age  avg mil/year  \n",
       "11698          236     Sunday      2  2019        0           inf  \n",
       "14591          204     Monday     12  2018        2       31000.0  \n",
       "30688          210    Tuesday      4  2019        2       37050.0  \n",
       "46583          252  Wednesday      3  2019        2       32500.0  \n",
       "48969          213     Friday      1  2019        1        6886.0  \n",
       "50681          221     Friday     11  2018        1       34871.0  "
      ]
     },
     "execution_count": 42,
     "metadata": {},
     "output_type": "execute_result"
    }
   ],
   "source": [
    "#Quick filtering to see if there are only old car that have aging ads.\n",
    "# We were looking for cars of years over 2016 with a listed ad over 200 days\n",
    "\n",
    "car_over_200_days = car_dataset[(car_dataset['days_listed']>200) & (car_dataset['model_year']>=2016)]\n",
    "car_over_200_days"
   ]
  },
  {
   "cell_type": "markdown",
   "metadata": {},
   "source": [
    "**From this bar char we now have a clear picture of a lifetime of an ad  in 5 phases**.\n",
    "* **introduction (between 1 and 5 days)** <br>At the beginning we have the introduction of the ad between 1-5 days, sales are slow and demand is building slowly.\n",
    "* **growth (between 6 and 40 days)**<br> This is the peak level  when the demand is high , people noticed the ad and start to enquire or perform test drive, this is the time where seller can make more profit.\n",
    "* **maturity ( between 41 and 100 days)**<br> At that stage the potential sales start to level off. This is the time where rebates , discount and other promotion kick in to remain a minimum profitable.<br>\n",
    "* **saturation stage (between 101 days and 150 days)**<br> The ad has passed its potential for profitability. Other ads for similar vehicules are on the market, strategies for differenciation should be implemented to limit the loss.\n",
    "  \n",
    "* **decline (after 151 days)**<br>The ad is no longer competitive, there is no longer demand, consumer have lost interest in that vehicule because their  behavior and tastes have changed.\n",
    "\n",
    "**We have some outliers with the group 0 and 150+ .**<br>\n",
    "**Some of the most in demand models could find a buyer in just a couple of few weeks, while other vehicles can sit on car park for months before they are sold.**<br>\n",
    "Ads can be removed quickly most of the time because of **fraud,or inappropriate content in violation of general policies**:in our file it is only a small portion with 0.1% that would require much more investigation.<br>\n",
    "It is very common to see some scams in car ads with picture that have been already used in other ads or that have no link with the car advertised.<br>\n",
    "They also could have some link to redirect consumer to other pages in order to gather personnal data and potential payment information.<br>\n",
    "Another sign is the vehicle has a  much lower value  than other vehicles of similar year/models.<br>\n",
    "**Car ads over 150 days can be the result of  an inadequate market analysis on pricing or potential mistakes done during the lisitng process for example on the price or odometer.**\n",
    "We have some surprises  regarding the slowest-selling used cars currently on this file with some recent and decent models like **chevrolet camaro**.\n",
    "\n",
    "\n",
    " \n",
    "\n",
    "\n"
   ]
  },
  {
   "cell_type": "markdown",
   "metadata": {},
   "source": [
    "We are going now to analyze the number of ads and the average price for each type of vehicule to see if it can reveal a correlation between the number of ads and the vehicule type."
   ]
  },
  {
   "cell_type": "code",
   "execution_count": 43,
   "metadata": {},
   "outputs": [
    {
     "data": {
      "text/html": [
       "<div>\n",
       "<style scoped>\n",
       "    .dataframe tbody tr th:only-of-type {\n",
       "        vertical-align: middle;\n",
       "    }\n",
       "\n",
       "    .dataframe tbody tr th {\n",
       "        vertical-align: top;\n",
       "    }\n",
       "\n",
       "    .dataframe thead th {\n",
       "        text-align: right;\n",
       "    }\n",
       "</style>\n",
       "<table border=\"1\" class=\"dataframe\">\n",
       "  <thead>\n",
       "    <tr style=\"text-align: right;\">\n",
       "      <th></th>\n",
       "      <th>nb of ads</th>\n",
       "      <th>price</th>\n",
       "    </tr>\n",
       "    <tr>\n",
       "      <th>model</th>\n",
       "      <th></th>\n",
       "      <th></th>\n",
       "    </tr>\n",
       "  </thead>\n",
       "  <tbody>\n",
       "    <tr>\n",
       "      <td>ford f-150</td>\n",
       "      <td>2796</td>\n",
       "      <td>14106.0</td>\n",
       "    </tr>\n",
       "    <tr>\n",
       "      <td>chevrolet silverado 1500</td>\n",
       "      <td>2171</td>\n",
       "      <td>15630.0</td>\n",
       "    </tr>\n",
       "    <tr>\n",
       "      <td>ram 1500</td>\n",
       "      <td>1750</td>\n",
       "      <td>14327.0</td>\n",
       "    </tr>\n",
       "    <tr>\n",
       "      <td>chevrolet silverado</td>\n",
       "      <td>1271</td>\n",
       "      <td>14223.0</td>\n",
       "    </tr>\n",
       "    <tr>\n",
       "      <td>jeep wrangler</td>\n",
       "      <td>1119</td>\n",
       "      <td>15010.0</td>\n",
       "    </tr>\n",
       "    <tr>\n",
       "      <td>ram 2500</td>\n",
       "      <td>1091</td>\n",
       "      <td>22716.0</td>\n",
       "    </tr>\n",
       "    <tr>\n",
       "      <td>toyota camry</td>\n",
       "      <td>990</td>\n",
       "      <td>6891.0</td>\n",
       "    </tr>\n",
       "    <tr>\n",
       "      <td>honda accord</td>\n",
       "      <td>964</td>\n",
       "      <td>6379.0</td>\n",
       "    </tr>\n",
       "    <tr>\n",
       "      <td>chevrolet silverado 2500hd</td>\n",
       "      <td>915</td>\n",
       "      <td>20445.0</td>\n",
       "    </tr>\n",
       "    <tr>\n",
       "      <td>gmc sierra 1500</td>\n",
       "      <td>906</td>\n",
       "      <td>15984.0</td>\n",
       "    </tr>\n",
       "  </tbody>\n",
       "</table>\n",
       "</div>"
      ],
      "text/plain": [
       "                            nb of ads    price\n",
       "model                                         \n",
       "ford f-150                       2796  14106.0\n",
       "chevrolet silverado 1500         2171  15630.0\n",
       "ram 1500                         1750  14327.0\n",
       "chevrolet silverado              1271  14223.0\n",
       "jeep wrangler                    1119  15010.0\n",
       "ram 2500                         1091  22716.0\n",
       "toyota camry                      990   6891.0\n",
       "honda accord                      964   6379.0\n",
       "chevrolet silverado 2500hd        915  20445.0\n",
       "gmc sierra 1500                   906  15984.0"
      ]
     },
     "execution_count": 43,
     "metadata": {},
     "output_type": "execute_result"
    }
   ],
   "source": [
    "# We make use of groupby method to find the number of ads per car type with average price\n",
    "car_ads = car_dataset.groupby('model').agg({'year':'count','price':'mean'}).round(0)\n",
    "  \n",
    "car_ads.rename(columns = {'year' : 'nb of ads'}, inplace = True)\n",
    "car_ads.sort_values(by = 'nb of ads', ascending=False).head(10)"
   ]
  },
  {
   "cell_type": "code",
   "execution_count": 44,
   "metadata": {},
   "outputs": [
    {
     "data": {
      "text/html": [
       "<div>\n",
       "<style scoped>\n",
       "    .dataframe tbody tr th:only-of-type {\n",
       "        vertical-align: middle;\n",
       "    }\n",
       "\n",
       "    .dataframe tbody tr th {\n",
       "        vertical-align: top;\n",
       "    }\n",
       "\n",
       "    .dataframe thead th {\n",
       "        text-align: right;\n",
       "    }\n",
       "</style>\n",
       "<table border=\"1\" class=\"dataframe\">\n",
       "  <thead>\n",
       "    <tr style=\"text-align: right;\">\n",
       "      <th></th>\n",
       "      <th>nb of ads</th>\n",
       "      <th>price</th>\n",
       "    </tr>\n",
       "  </thead>\n",
       "  <tbody>\n",
       "    <tr>\n",
       "      <td>nb of ads</td>\n",
       "      <td>1.00000</td>\n",
       "      <td>0.01261</td>\n",
       "    </tr>\n",
       "    <tr>\n",
       "      <td>price</td>\n",
       "      <td>0.01261</td>\n",
       "      <td>1.00000</td>\n",
       "    </tr>\n",
       "  </tbody>\n",
       "</table>\n",
       "</div>"
      ],
      "text/plain": [
       "           nb of ads    price\n",
       "nb of ads    1.00000  0.01261\n",
       "price        0.01261  1.00000"
      ]
     },
     "execution_count": 44,
     "metadata": {},
     "output_type": "execute_result"
    }
   ],
   "source": [
    "car_ads.corr(method ='pearson') "
   ]
  },
  {
   "cell_type": "code",
   "execution_count": 45,
   "metadata": {},
   "outputs": [
    {
     "data": {
      "text/html": [
       "<div>\n",
       "<style scoped>\n",
       "    .dataframe tbody tr th:only-of-type {\n",
       "        vertical-align: middle;\n",
       "    }\n",
       "\n",
       "    .dataframe tbody tr th {\n",
       "        vertical-align: top;\n",
       "    }\n",
       "\n",
       "    .dataframe thead th {\n",
       "        text-align: right;\n",
       "    }\n",
       "</style>\n",
       "<table border=\"1\" class=\"dataframe\">\n",
       "  <thead>\n",
       "    <tr style=\"text-align: right;\">\n",
       "      <th></th>\n",
       "      <th>nb of ads</th>\n",
       "      <th>price</th>\n",
       "    </tr>\n",
       "    <tr>\n",
       "      <th>model</th>\n",
       "      <th></th>\n",
       "      <th></th>\n",
       "    </tr>\n",
       "  </thead>\n",
       "  <tbody>\n",
       "    <tr>\n",
       "      <td>ford f350</td>\n",
       "      <td>250</td>\n",
       "      <td>19331.0</td>\n",
       "    </tr>\n",
       "    <tr>\n",
       "      <td>ford f350 super duty</td>\n",
       "      <td>246</td>\n",
       "      <td>15300.0</td>\n",
       "    </tr>\n",
       "    <tr>\n",
       "      <td>chrysler 200</td>\n",
       "      <td>243</td>\n",
       "      <td>7661.0</td>\n",
       "    </tr>\n",
       "    <tr>\n",
       "      <td>chevrolet silverado 3500hd</td>\n",
       "      <td>243</td>\n",
       "      <td>25122.0</td>\n",
       "    </tr>\n",
       "    <tr>\n",
       "      <td>dodge dakota</td>\n",
       "      <td>242</td>\n",
       "      <td>4991.0</td>\n",
       "    </tr>\n",
       "    <tr>\n",
       "      <td>ford f-250 super duty</td>\n",
       "      <td>241</td>\n",
       "      <td>18930.0</td>\n",
       "    </tr>\n",
       "    <tr>\n",
       "      <td>kia sorento</td>\n",
       "      <td>236</td>\n",
       "      <td>9970.0</td>\n",
       "    </tr>\n",
       "    <tr>\n",
       "      <td>acura tl</td>\n",
       "      <td>236</td>\n",
       "      <td>6474.0</td>\n",
       "    </tr>\n",
       "    <tr>\n",
       "      <td>nissan murano</td>\n",
       "      <td>235</td>\n",
       "      <td>7596.0</td>\n",
       "    </tr>\n",
       "    <tr>\n",
       "      <td>mercedes-benz benze sprinter 2500</td>\n",
       "      <td>41</td>\n",
       "      <td>34900.0</td>\n",
       "    </tr>\n",
       "  </tbody>\n",
       "</table>\n",
       "</div>"
      ],
      "text/plain": [
       "                                   nb of ads    price\n",
       "model                                                \n",
       "ford f350                                250  19331.0\n",
       "ford f350 super duty                     246  15300.0\n",
       "chrysler 200                             243   7661.0\n",
       "chevrolet silverado 3500hd               243  25122.0\n",
       "dodge dakota                             242   4991.0\n",
       "ford f-250 super duty                    241  18930.0\n",
       "kia sorento                              236   9970.0\n",
       "acura tl                                 236   6474.0\n",
       "nissan murano                            235   7596.0\n",
       "mercedes-benz benze sprinter 2500         41  34900.0"
      ]
     },
     "execution_count": 45,
     "metadata": {},
     "output_type": "execute_result"
    }
   ],
   "source": [
    "car_ads.sort_values(by = 'nb of ads', ascending=False).tail(10)\n"
   ]
  },
  {
   "cell_type": "code",
   "execution_count": 46,
   "metadata": {},
   "outputs": [
    {
     "data": {
      "text/html": [
       "<div>\n",
       "<style scoped>\n",
       "    .dataframe tbody tr th:only-of-type {\n",
       "        vertical-align: middle;\n",
       "    }\n",
       "\n",
       "    .dataframe tbody tr th {\n",
       "        vertical-align: top;\n",
       "    }\n",
       "\n",
       "    .dataframe thead th {\n",
       "        text-align: right;\n",
       "    }\n",
       "</style>\n",
       "<table border=\"1\" class=\"dataframe\">\n",
       "  <thead>\n",
       "    <tr style=\"text-align: right;\">\n",
       "      <th></th>\n",
       "      <th>model</th>\n",
       "      <th>Nb of ads</th>\n",
       "      <th>avg Price</th>\n",
       "      <th>ratio in%</th>\n",
       "    </tr>\n",
       "  </thead>\n",
       "  <tbody>\n",
       "    <tr>\n",
       "      <td>0</td>\n",
       "      <td>ford f-150</td>\n",
       "      <td>2796</td>\n",
       "      <td>14106</td>\n",
       "      <td>5.43</td>\n",
       "    </tr>\n",
       "    <tr>\n",
       "      <td>1</td>\n",
       "      <td>chevrolet silverado</td>\n",
       "      <td>2171</td>\n",
       "      <td>15630</td>\n",
       "      <td>4.21</td>\n",
       "    </tr>\n",
       "    <tr>\n",
       "      <td>2</td>\n",
       "      <td>ram 1500</td>\n",
       "      <td>1750</td>\n",
       "      <td>14327</td>\n",
       "      <td>3.40</td>\n",
       "    </tr>\n",
       "    <tr>\n",
       "      <td>3</td>\n",
       "      <td>chevrolet silverado</td>\n",
       "      <td>1271</td>\n",
       "      <td>14223</td>\n",
       "      <td>2.47</td>\n",
       "    </tr>\n",
       "    <tr>\n",
       "      <td>4</td>\n",
       "      <td>jeep wrangler</td>\n",
       "      <td>1119</td>\n",
       "      <td>15010</td>\n",
       "      <td>2.17</td>\n",
       "    </tr>\n",
       "    <tr>\n",
       "      <td>5</td>\n",
       "      <td>ram 2500</td>\n",
       "      <td>1091</td>\n",
       "      <td>22716</td>\n",
       "      <td>2.12</td>\n",
       "    </tr>\n",
       "    <tr>\n",
       "      <td>6</td>\n",
       "      <td>toyota camry</td>\n",
       "      <td>990</td>\n",
       "      <td>6891</td>\n",
       "      <td>1.92</td>\n",
       "    </tr>\n",
       "    <tr>\n",
       "      <td>7</td>\n",
       "      <td>honda accord</td>\n",
       "      <td>964</td>\n",
       "      <td>6379</td>\n",
       "      <td>1.87</td>\n",
       "    </tr>\n",
       "    <tr>\n",
       "      <td>8</td>\n",
       "      <td>chevrolet silverado 2500hd</td>\n",
       "      <td>915</td>\n",
       "      <td>20445</td>\n",
       "      <td>1.78</td>\n",
       "    </tr>\n",
       "    <tr>\n",
       "      <td>9</td>\n",
       "      <td>gmc sierra 1500</td>\n",
       "      <td>906</td>\n",
       "      <td>15984</td>\n",
       "      <td>1.76</td>\n",
       "    </tr>\n",
       "    <tr>\n",
       "      <td>10</td>\n",
       "      <td>mercedes-benz benze sprinter 2500</td>\n",
       "      <td>41</td>\n",
       "      <td>34900</td>\n",
       "      <td>0.08</td>\n",
       "    </tr>\n",
       "  </tbody>\n",
       "</table>\n",
       "</div>"
      ],
      "text/plain": [
       "                                model  Nb of ads   avg Price  ratio in%\n",
       "0                          ford f-150       2796       14106       5.43\n",
       "1                chevrolet silverado        2171       15630       4.21\n",
       "2                            ram 1500       1750       14327       3.40\n",
       "3                 chevrolet silverado       1271       14223       2.47\n",
       "4                       jeep wrangler       1119       15010       2.17\n",
       "5                            ram 2500       1091       22716       2.12\n",
       "6                        toyota camry        990        6891       1.92\n",
       "7                        honda accord        964        6379       1.87\n",
       "8          chevrolet silverado 2500hd        915       20445       1.78\n",
       "9                     gmc sierra 1500        906       15984       1.76\n",
       "10  mercedes-benz benze sprinter 2500         41       34900       0.08"
      ]
     },
     "execution_count": 46,
     "metadata": {},
     "output_type": "execute_result"
    }
   ],
   "source": [
    "#number of ads per car type with average price  with ratio\n",
    "cars_ads2 =pd.DataFrame( {'model': ['ford f-150','chevrolet silverado ','ram 1500','chevrolet silverado','jeep wrangler','ram 2500','toyota camry','honda accord','chevrolet silverado 2500hd','gmc sierra 1500','mercedes-benz benze sprinter 2500'],\n",
    "        'Nb of ads': [2796,2171,1750,1271,1119,1091,990,964,915,906,41],\n",
    "        ' avg Price':[14106,15630,14327,14223,15010,22716,6891,6379,20445,15984,34900]\n",
    "        })\n",
    "\n",
    "\n",
    "cars_ads3 = pd.DataFrame(cars_ads2, columns = ['model', 'Nb of ads',' avg Price'])\n",
    "\n",
    "\n",
    "                                        \n",
    "cars_ads3['ratio in%']  = ((cars_ads3['Nb of ads'] / 51525)*100).round(2)\n",
    "                  \n",
    "             \n",
    "cars_ads3\n"
   ]
  },
  {
   "cell_type": "markdown",
   "metadata": {},
   "source": [
    "We managed to retrieve the  most popular types of vehicules according to the number of ads with the average price for each type of vehicule.<br>\n",
    "The two types with the the greatest number of ads are **ford f-150 and chevrolet silverado**.<br>\n",
    "**We can see at this stage there is no clear correlation between average price and number of ads**:<br>\n",
    "* **in one hand we have the ford f-150 thats accounts for 5.43 % of ads with an average price of 14k** <br>\n",
    "* **in the other hand we have an expensive car mercedes-benz benze sprinter 2500, 2.5 times more the value of the Ford  with only 0.08 % of total ads**.<br>\n",
    "\n",
    "The corr () method  didn't reveal any correlation."
   ]
  },
  {
   "cell_type": "code",
   "execution_count": 47,
   "metadata": {},
   "outputs": [
    {
     "data": {
      "text/plain": [
       "<matplotlib.axes._subplots.AxesSubplot at 0x7f2eb7020ed0>"
      ]
     },
     "execution_count": 47,
     "metadata": {},
     "output_type": "execute_result"
    },
    {
     "data": {
      "image/png": "[encoded data removed]",
      "text/plain": [
       "<Figure size 432x288 with 1 Axes>"
      ]
     },
     "metadata": {
      "needs_background": "light"
     },
     "output_type": "display_data"
    }
   ],
   "source": [
    "car_ads.plot(x=\"price\", y=\"nb of ads\", kind=\"scatter\",title='Scatterplot Nb of ads and avg Price')"
   ]
  },
  {
   "cell_type": "code",
   "execution_count": 48,
   "metadata": {},
   "outputs": [
    {
     "data": {
      "text/plain": [
       "<seaborn.axisgrid.FacetGrid at 0x7f2eb6f9fe50>"
      ]
     },
     "execution_count": 48,
     "metadata": {},
     "output_type": "execute_result"
    },
    {
     "data": {
      "image/png": "[encoded data removed]",
      "text/plain": [
       "<Figure size 360x360 with 1 Axes>"
      ]
     },
     "metadata": {
      "needs_background": "light"
     },
     "output_type": "display_data"
    }
   ],
   "source": [
    "sns.lmplot(x='price',y='nb of ads',data=car_ads,fit_reg=True) "
   ]
  },
  {
   "cell_type": "markdown",
   "metadata": {},
   "source": [
    "**In the scatter plot neither, the data don’t seem to  reveal any kind of pattern  that's why we can conclude that no relationship exists between X= Price and Y= number of ads .**\n",
    "\n"
   ]
  },
  {
   "cell_type": "markdown",
   "metadata": {},
   "source": [
    "We will now perform a deep analysis on ford f-150 and chevrolet silverado to evaluate what factors impact the price the most.<br>\n",
    "The parameters selected are  age, mileage, condition, transmission type, and color."
   ]
  },
  {
   "cell_type": "code",
   "execution_count": 49,
   "metadata": {},
   "outputs": [
    {
     "data": {
      "text/html": [
       "<div>\n",
       "<style scoped>\n",
       "    .dataframe tbody tr th:only-of-type {\n",
       "        vertical-align: middle;\n",
       "    }\n",
       "\n",
       "    .dataframe tbody tr th {\n",
       "        vertical-align: top;\n",
       "    }\n",
       "\n",
       "    .dataframe thead th {\n",
       "        text-align: right;\n",
       "    }\n",
       "</style>\n",
       "<table border=\"1\" class=\"dataframe\">\n",
       "  <thead>\n",
       "    <tr style=\"text-align: right;\">\n",
       "      <th></th>\n",
       "      <th>price</th>\n",
       "      <th>model_year</th>\n",
       "      <th>model</th>\n",
       "      <th>condition</th>\n",
       "      <th>cylinders</th>\n",
       "      <th>fuel</th>\n",
       "      <th>odometer</th>\n",
       "      <th>transmission</th>\n",
       "      <th>type</th>\n",
       "      <th>paint_color</th>\n",
       "      <th>is_4wd</th>\n",
       "      <th>date_posted</th>\n",
       "      <th>days_listed</th>\n",
       "      <th>dayweek</th>\n",
       "      <th>month</th>\n",
       "      <th>year</th>\n",
       "      <th>car age</th>\n",
       "      <th>avg mil/year</th>\n",
       "    </tr>\n",
       "  </thead>\n",
       "  <tbody>\n",
       "    <tr>\n",
       "      <td>1</td>\n",
       "      <td>25500</td>\n",
       "      <td>2009</td>\n",
       "      <td>ford f-150</td>\n",
       "      <td>2</td>\n",
       "      <td>6</td>\n",
       "      <td>gas</td>\n",
       "      <td>88705</td>\n",
       "      <td>automatic</td>\n",
       "      <td>pickup</td>\n",
       "      <td>white</td>\n",
       "      <td>1</td>\n",
       "      <td>2018-10-19</td>\n",
       "      <td>50</td>\n",
       "      <td>Friday</td>\n",
       "      <td>10</td>\n",
       "      <td>2018</td>\n",
       "      <td>9</td>\n",
       "      <td>9856.0</td>\n",
       "    </tr>\n",
       "    <tr>\n",
       "      <td>3</td>\n",
       "      <td>1500</td>\n",
       "      <td>2003</td>\n",
       "      <td>ford f-150</td>\n",
       "      <td>1</td>\n",
       "      <td>8</td>\n",
       "      <td>gas</td>\n",
       "      <td>113000</td>\n",
       "      <td>automatic</td>\n",
       "      <td>pickup</td>\n",
       "      <td>white</td>\n",
       "      <td>0</td>\n",
       "      <td>2019-03-22</td>\n",
       "      <td>9</td>\n",
       "      <td>Friday</td>\n",
       "      <td>3</td>\n",
       "      <td>2019</td>\n",
       "      <td>16</td>\n",
       "      <td>7062.0</td>\n",
       "    </tr>\n",
       "    <tr>\n",
       "      <td>39</td>\n",
       "      <td>8000</td>\n",
       "      <td>2009</td>\n",
       "      <td>ford f-150</td>\n",
       "      <td>2</td>\n",
       "      <td>8</td>\n",
       "      <td>gas</td>\n",
       "      <td>234000</td>\n",
       "      <td>automatic</td>\n",
       "      <td>truck</td>\n",
       "      <td>black</td>\n",
       "      <td>1</td>\n",
       "      <td>2019-03-31</td>\n",
       "      <td>1</td>\n",
       "      <td>Sunday</td>\n",
       "      <td>3</td>\n",
       "      <td>2019</td>\n",
       "      <td>10</td>\n",
       "      <td>23400.0</td>\n",
       "    </tr>\n",
       "    <tr>\n",
       "      <td>50</td>\n",
       "      <td>6200</td>\n",
       "      <td>2006</td>\n",
       "      <td>ford f-150</td>\n",
       "      <td>3</td>\n",
       "      <td>6</td>\n",
       "      <td>gas</td>\n",
       "      <td>69698</td>\n",
       "      <td>automatic</td>\n",
       "      <td>truck</td>\n",
       "      <td>custom</td>\n",
       "      <td>0</td>\n",
       "      <td>2018-05-03</td>\n",
       "      <td>50</td>\n",
       "      <td>Thursday</td>\n",
       "      <td>5</td>\n",
       "      <td>2018</td>\n",
       "      <td>12</td>\n",
       "      <td>5808.0</td>\n",
       "    </tr>\n",
       "    <tr>\n",
       "      <td>65</td>\n",
       "      <td>12800</td>\n",
       "      <td>2009</td>\n",
       "      <td>ford f-150</td>\n",
       "      <td>3</td>\n",
       "      <td>6</td>\n",
       "      <td>gas</td>\n",
       "      <td>108500</td>\n",
       "      <td>automatic</td>\n",
       "      <td>pickup</td>\n",
       "      <td>white</td>\n",
       "      <td>0</td>\n",
       "      <td>2018-09-23</td>\n",
       "      <td>15</td>\n",
       "      <td>Sunday</td>\n",
       "      <td>9</td>\n",
       "      <td>2018</td>\n",
       "      <td>9</td>\n",
       "      <td>12056.0</td>\n",
       "    </tr>\n",
       "    <tr>\n",
       "      <td>...</td>\n",
       "      <td>...</td>\n",
       "      <td>...</td>\n",
       "      <td>...</td>\n",
       "      <td>...</td>\n",
       "      <td>...</td>\n",
       "      <td>...</td>\n",
       "      <td>...</td>\n",
       "      <td>...</td>\n",
       "      <td>...</td>\n",
       "      <td>...</td>\n",
       "      <td>...</td>\n",
       "      <td>...</td>\n",
       "      <td>...</td>\n",
       "      <td>...</td>\n",
       "      <td>...</td>\n",
       "      <td>...</td>\n",
       "      <td>...</td>\n",
       "      <td>...</td>\n",
       "    </tr>\n",
       "    <tr>\n",
       "      <td>51403</td>\n",
       "      <td>19350</td>\n",
       "      <td>2013</td>\n",
       "      <td>ford f-150</td>\n",
       "      <td>3</td>\n",
       "      <td>8</td>\n",
       "      <td>gas</td>\n",
       "      <td>76474</td>\n",
       "      <td>automatic</td>\n",
       "      <td>truck</td>\n",
       "      <td>white</td>\n",
       "      <td>1</td>\n",
       "      <td>2018-08-23</td>\n",
       "      <td>50</td>\n",
       "      <td>Thursday</td>\n",
       "      <td>8</td>\n",
       "      <td>2018</td>\n",
       "      <td>5</td>\n",
       "      <td>15295.0</td>\n",
       "    </tr>\n",
       "    <tr>\n",
       "      <td>51419</td>\n",
       "      <td>19900</td>\n",
       "      <td>2013</td>\n",
       "      <td>ford f-150</td>\n",
       "      <td>2</td>\n",
       "      <td>6</td>\n",
       "      <td>gas</td>\n",
       "      <td>43855</td>\n",
       "      <td>automatic</td>\n",
       "      <td>truck</td>\n",
       "      <td>black</td>\n",
       "      <td>1</td>\n",
       "      <td>2018-06-02</td>\n",
       "      <td>30</td>\n",
       "      <td>Saturday</td>\n",
       "      <td>6</td>\n",
       "      <td>2018</td>\n",
       "      <td>5</td>\n",
       "      <td>8771.0</td>\n",
       "    </tr>\n",
       "    <tr>\n",
       "      <td>51425</td>\n",
       "      <td>8495</td>\n",
       "      <td>2006</td>\n",
       "      <td>ford f-150</td>\n",
       "      <td>2</td>\n",
       "      <td>8</td>\n",
       "      <td>gas</td>\n",
       "      <td>96926</td>\n",
       "      <td>automatic</td>\n",
       "      <td>truck</td>\n",
       "      <td>white</td>\n",
       "      <td>1</td>\n",
       "      <td>2018-09-23</td>\n",
       "      <td>28</td>\n",
       "      <td>Sunday</td>\n",
       "      <td>9</td>\n",
       "      <td>2018</td>\n",
       "      <td>12</td>\n",
       "      <td>8077.0</td>\n",
       "    </tr>\n",
       "    <tr>\n",
       "      <td>51434</td>\n",
       "      <td>3495</td>\n",
       "      <td>2007</td>\n",
       "      <td>ford f-150</td>\n",
       "      <td>2</td>\n",
       "      <td>8</td>\n",
       "      <td>gas</td>\n",
       "      <td>136782</td>\n",
       "      <td>automatic</td>\n",
       "      <td>truck</td>\n",
       "      <td>blue</td>\n",
       "      <td>0</td>\n",
       "      <td>2018-10-22</td>\n",
       "      <td>92</td>\n",
       "      <td>Monday</td>\n",
       "      <td>10</td>\n",
       "      <td>2018</td>\n",
       "      <td>11</td>\n",
       "      <td>12435.0</td>\n",
       "    </tr>\n",
       "    <tr>\n",
       "      <td>51487</td>\n",
       "      <td>1495</td>\n",
       "      <td>2009</td>\n",
       "      <td>ford f-150</td>\n",
       "      <td>1</td>\n",
       "      <td>6</td>\n",
       "      <td>gas</td>\n",
       "      <td>15804</td>\n",
       "      <td>manual</td>\n",
       "      <td>truck</td>\n",
       "      <td>white</td>\n",
       "      <td>1</td>\n",
       "      <td>2018-09-18</td>\n",
       "      <td>56</td>\n",
       "      <td>Tuesday</td>\n",
       "      <td>9</td>\n",
       "      <td>2018</td>\n",
       "      <td>9</td>\n",
       "      <td>1756.0</td>\n",
       "    </tr>\n",
       "  </tbody>\n",
       "</table>\n",
       "<p>2796 rows × 18 columns</p>\n",
       "</div>"
      ],
      "text/plain": [
       "       price  model_year       model  condition  cylinders fuel  odometer  \\\n",
       "1      25500        2009  ford f-150          2          6  gas     88705   \n",
       "3       1500        2003  ford f-150          1          8  gas    113000   \n",
       "39      8000        2009  ford f-150          2          8  gas    234000   \n",
       "50      6200        2006  ford f-150          3          6  gas     69698   \n",
       "65     12800        2009  ford f-150          3          6  gas    108500   \n",
       "...      ...         ...         ...        ...        ...  ...       ...   \n",
       "51403  19350        2013  ford f-150          3          8  gas     76474   \n",
       "51419  19900        2013  ford f-150          2          6  gas     43855   \n",
       "51425   8495        2006  ford f-150          2          8  gas     96926   \n",
       "51434   3495        2007  ford f-150          2          8  gas    136782   \n",
       "51487   1495        2009  ford f-150          1          6  gas     15804   \n",
       "\n",
       "      transmission    type paint_color  is_4wd date_posted  days_listed  \\\n",
       "1        automatic  pickup       white       1  2018-10-19           50   \n",
       "3        automatic  pickup       white       0  2019-03-22            9   \n",
       "39       automatic   truck       black       1  2019-03-31            1   \n",
       "50       automatic   truck      custom       0  2018-05-03           50   \n",
       "65       automatic  pickup       white       0  2018-09-23           15   \n",
       "...            ...     ...         ...     ...         ...          ...   \n",
       "51403    automatic   truck       white       1  2018-08-23           50   \n",
       "51419    automatic   truck       black       1  2018-06-02           30   \n",
       "51425    automatic   truck       white       1  2018-09-23           28   \n",
       "51434    automatic   truck        blue       0  2018-10-22           92   \n",
       "51487       manual   truck       white       1  2018-09-18           56   \n",
       "\n",
       "        dayweek  month  year  car age  avg mil/year  \n",
       "1        Friday     10  2018        9        9856.0  \n",
       "3        Friday      3  2019       16        7062.0  \n",
       "39       Sunday      3  2019       10       23400.0  \n",
       "50     Thursday      5  2018       12        5808.0  \n",
       "65       Sunday      9  2018        9       12056.0  \n",
       "...         ...    ...   ...      ...           ...  \n",
       "51403  Thursday      8  2018        5       15295.0  \n",
       "51419  Saturday      6  2018        5        8771.0  \n",
       "51425    Sunday      9  2018       12        8077.0  \n",
       "51434    Monday     10  2018       11       12435.0  \n",
       "51487   Tuesday      9  2018        9        1756.0  \n",
       "\n",
       "[2796 rows x 18 columns]"
      ]
     },
     "execution_count": 49,
     "metadata": {},
     "output_type": "execute_result"
    }
   ],
   "source": [
    "#Let's see the depedence between price and other quantitative variables for ford f-150\n",
    "ford_quant_var = car_dataset.loc[car_dataset['model'] == 'ford f-150']\n",
    "ford_quant_var \n",
    "\n"
   ]
  },
  {
   "cell_type": "code",
   "execution_count": 50,
   "metadata": {},
   "outputs": [
    {
     "name": "stdout",
     "output_type": "stream",
     "text": [
      "Pearson correlation coefficient price - car age  : -0.479852065497602\n",
      "--------------------------------------------------------------------\n",
      "Pearson correlation coefficient price - model year  : 0.4819385445547466\n",
      "--------------------------------------------------------------------\n",
      "Pearson correlation coefficient price - condition of car : 0.2646163595969209\n"
     ]
    }
   ],
   "source": [
    "#Pearson correlation coefficient\n",
    "coef_price_age2=(ford_quant_var['price'].corr(ford_quant_var['car age']))\n",
    "print(\"Pearson correlation coefficient price - car age  :\",coef_price_age2)\n",
    "print('--------------------------------------------------------------------')\n",
    "coef_price_modelyear2=(ford_quant_var['price'].corr(ford_quant_var['model_year']))\n",
    "print(\"Pearson correlation coefficient price - model year  :\",coef_price_modelyear2)\n",
    "print('--------------------------------------------------------------------')\n",
    "coef_price_cond2=(ford_quant_var['price'].corr(ford_quant_var['condition']))\n",
    "print(\"Pearson correlation coefficient price - condition of car :\",coef_price_cond2)"
   ]
  },
  {
   "cell_type": "code",
   "execution_count": 51,
   "metadata": {},
   "outputs": [
    {
     "data": {
      "text/plain": [
       "<seaborn.axisgrid.FacetGrid at 0x7f2eb6ff9f10>"
      ]
     },
     "execution_count": 51,
     "metadata": {},
     "output_type": "execute_result"
    },
    {
     "data": {
      "image/png": "[encoded data removed]",
      "text/plain": [
       "<Figure size 720x180 with 4 Axes>"
      ]
     },
     "metadata": {
      "needs_background": "light"
     },
     "output_type": "display_data"
    },
    {
     "data": {
      "image/png": "[encoded data removed]",
      "text/plain": [
       "<Figure size 360x360 with 1 Axes>"
      ]
     },
     "metadata": {
      "needs_background": "light"
     },
     "output_type": "display_data"
    },
    {
     "data": {
      "image/png": "[encoded data removed]",
      "text/plain": [
       "<Figure size 414.25x360 with 1 Axes>"
      ]
     },
     "metadata": {
      "needs_background": "light"
     },
     "output_type": "display_data"
    }
   ],
   "source": [
    "sns.pairplot(data=ford_quant_var ,\n",
    "                  y_vars=['price'],\n",
    "                  x_vars=[\"car age\" , \"model_year\",\"avg mil/year\",\"condition\"])\n",
    "\n",
    "sns.lmplot(x='model_year',y='price',data=ford_quant_var ,fit_reg=True) \n",
    "sns.lmplot(x='condition',y='price',data=ford_quant_var ,fit_reg=True,hue='condition') \n"
   ]
  },
  {
   "cell_type": "markdown",
   "metadata": {},
   "source": [
    "**We can say there is a weak or low negative  correlation between price and car age as we detect a cluster between 0-20 years and in a range of price up to 50k.**<br>\n",
    "\n",
    "**It is negative because as the price increases, the age decreases :the data points are not closely groupe.**<br>\n",
    "\n",
    "**If we compare price and model year we observe a medium correlation: slight increase in price when the model is more recent.**<br>\n",
    "\n",
    "**We have also a medium positive  correlation between price and condition with an increase in the price along with a better car's condition especially in category 2 good and 3 excellent**"
   ]
  },
  {
   "cell_type": "code",
   "execution_count": 52,
   "metadata": {},
   "outputs": [
    {
     "data": {
      "text/html": [
       "<div>\n",
       "<style scoped>\n",
       "    .dataframe tbody tr th:only-of-type {\n",
       "        vertical-align: middle;\n",
       "    }\n",
       "\n",
       "    .dataframe tbody tr th {\n",
       "        vertical-align: top;\n",
       "    }\n",
       "\n",
       "    .dataframe thead th {\n",
       "        text-align: right;\n",
       "    }\n",
       "</style>\n",
       "<table border=\"1\" class=\"dataframe\">\n",
       "  <thead>\n",
       "    <tr style=\"text-align: right;\">\n",
       "      <th></th>\n",
       "      <th>price</th>\n",
       "      <th>model_year</th>\n",
       "      <th>model</th>\n",
       "      <th>condition</th>\n",
       "      <th>cylinders</th>\n",
       "      <th>fuel</th>\n",
       "      <th>odometer</th>\n",
       "      <th>transmission</th>\n",
       "      <th>type</th>\n",
       "      <th>paint_color</th>\n",
       "      <th>is_4wd</th>\n",
       "      <th>date_posted</th>\n",
       "      <th>days_listed</th>\n",
       "      <th>dayweek</th>\n",
       "      <th>month</th>\n",
       "      <th>year</th>\n",
       "      <th>car age</th>\n",
       "      <th>avg mil/year</th>\n",
       "    </tr>\n",
       "  </thead>\n",
       "  <tbody>\n",
       "    <tr>\n",
       "      <td>22</td>\n",
       "      <td>7500</td>\n",
       "      <td>2004</td>\n",
       "      <td>chevrolet silverado</td>\n",
       "      <td>4</td>\n",
       "      <td>8</td>\n",
       "      <td>gas</td>\n",
       "      <td>180000</td>\n",
       "      <td>automatic</td>\n",
       "      <td>truck</td>\n",
       "      <td>red</td>\n",
       "      <td>1</td>\n",
       "      <td>2019-01-05</td>\n",
       "      <td>64</td>\n",
       "      <td>Saturday</td>\n",
       "      <td>1</td>\n",
       "      <td>2019</td>\n",
       "      <td>15</td>\n",
       "      <td>12000.0</td>\n",
       "    </tr>\n",
       "    <tr>\n",
       "      <td>83</td>\n",
       "      <td>11950</td>\n",
       "      <td>2008</td>\n",
       "      <td>chevrolet silverado</td>\n",
       "      <td>2</td>\n",
       "      <td>8</td>\n",
       "      <td>gas</td>\n",
       "      <td>170000</td>\n",
       "      <td>automatic</td>\n",
       "      <td>truck</td>\n",
       "      <td>black</td>\n",
       "      <td>1</td>\n",
       "      <td>2019-03-13</td>\n",
       "      <td>38</td>\n",
       "      <td>Wednesday</td>\n",
       "      <td>3</td>\n",
       "      <td>2019</td>\n",
       "      <td>11</td>\n",
       "      <td>15455.0</td>\n",
       "    </tr>\n",
       "    <tr>\n",
       "      <td>92</td>\n",
       "      <td>2950</td>\n",
       "      <td>2003</td>\n",
       "      <td>chevrolet silverado</td>\n",
       "      <td>2</td>\n",
       "      <td>8</td>\n",
       "      <td>gas</td>\n",
       "      <td>230000</td>\n",
       "      <td>automatic</td>\n",
       "      <td>pickup</td>\n",
       "      <td>white</td>\n",
       "      <td>0</td>\n",
       "      <td>2018-05-06</td>\n",
       "      <td>24</td>\n",
       "      <td>Sunday</td>\n",
       "      <td>5</td>\n",
       "      <td>2018</td>\n",
       "      <td>15</td>\n",
       "      <td>15333.0</td>\n",
       "    </tr>\n",
       "    <tr>\n",
       "      <td>99</td>\n",
       "      <td>39950</td>\n",
       "      <td>2018</td>\n",
       "      <td>chevrolet silverado</td>\n",
       "      <td>3</td>\n",
       "      <td>8</td>\n",
       "      <td>gas</td>\n",
       "      <td>18500</td>\n",
       "      <td>automatic</td>\n",
       "      <td>truck</td>\n",
       "      <td>white</td>\n",
       "      <td>1</td>\n",
       "      <td>2018-08-05</td>\n",
       "      <td>16</td>\n",
       "      <td>Sunday</td>\n",
       "      <td>8</td>\n",
       "      <td>2018</td>\n",
       "      <td>0</td>\n",
       "      <td>inf</td>\n",
       "    </tr>\n",
       "    <tr>\n",
       "      <td>353</td>\n",
       "      <td>28000</td>\n",
       "      <td>2017</td>\n",
       "      <td>chevrolet silverado</td>\n",
       "      <td>4</td>\n",
       "      <td>8</td>\n",
       "      <td>gas</td>\n",
       "      <td>53000</td>\n",
       "      <td>automatic</td>\n",
       "      <td>truck</td>\n",
       "      <td>white</td>\n",
       "      <td>1</td>\n",
       "      <td>2019-01-17</td>\n",
       "      <td>91</td>\n",
       "      <td>Thursday</td>\n",
       "      <td>1</td>\n",
       "      <td>2019</td>\n",
       "      <td>2</td>\n",
       "      <td>26500.0</td>\n",
       "    </tr>\n",
       "    <tr>\n",
       "      <td>...</td>\n",
       "      <td>...</td>\n",
       "      <td>...</td>\n",
       "      <td>...</td>\n",
       "      <td>...</td>\n",
       "      <td>...</td>\n",
       "      <td>...</td>\n",
       "      <td>...</td>\n",
       "      <td>...</td>\n",
       "      <td>...</td>\n",
       "      <td>...</td>\n",
       "      <td>...</td>\n",
       "      <td>...</td>\n",
       "      <td>...</td>\n",
       "      <td>...</td>\n",
       "      <td>...</td>\n",
       "      <td>...</td>\n",
       "      <td>...</td>\n",
       "      <td>...</td>\n",
       "    </tr>\n",
       "    <tr>\n",
       "      <td>51076</td>\n",
       "      <td>17995</td>\n",
       "      <td>2011</td>\n",
       "      <td>chevrolet silverado</td>\n",
       "      <td>4</td>\n",
       "      <td>8</td>\n",
       "      <td>gas</td>\n",
       "      <td>92038</td>\n",
       "      <td>automatic</td>\n",
       "      <td>truck</td>\n",
       "      <td>silver</td>\n",
       "      <td>1</td>\n",
       "      <td>2018-11-14</td>\n",
       "      <td>25</td>\n",
       "      <td>Wednesday</td>\n",
       "      <td>11</td>\n",
       "      <td>2018</td>\n",
       "      <td>7</td>\n",
       "      <td>13148.0</td>\n",
       "    </tr>\n",
       "    <tr>\n",
       "      <td>51114</td>\n",
       "      <td>7700</td>\n",
       "      <td>2004</td>\n",
       "      <td>chevrolet silverado</td>\n",
       "      <td>2</td>\n",
       "      <td>6</td>\n",
       "      <td>gas</td>\n",
       "      <td>131250</td>\n",
       "      <td>automatic</td>\n",
       "      <td>truck</td>\n",
       "      <td>blue</td>\n",
       "      <td>1</td>\n",
       "      <td>2018-06-23</td>\n",
       "      <td>27</td>\n",
       "      <td>Saturday</td>\n",
       "      <td>6</td>\n",
       "      <td>2018</td>\n",
       "      <td>14</td>\n",
       "      <td>9375.0</td>\n",
       "    </tr>\n",
       "    <tr>\n",
       "      <td>51333</td>\n",
       "      <td>7900</td>\n",
       "      <td>2011</td>\n",
       "      <td>chevrolet silverado</td>\n",
       "      <td>2</td>\n",
       "      <td>6</td>\n",
       "      <td>gas</td>\n",
       "      <td>99000</td>\n",
       "      <td>automatic</td>\n",
       "      <td>truck</td>\n",
       "      <td>white</td>\n",
       "      <td>0</td>\n",
       "      <td>2019-02-10</td>\n",
       "      <td>13</td>\n",
       "      <td>Sunday</td>\n",
       "      <td>2</td>\n",
       "      <td>2019</td>\n",
       "      <td>8</td>\n",
       "      <td>12375.0</td>\n",
       "    </tr>\n",
       "    <tr>\n",
       "      <td>51381</td>\n",
       "      <td>5600</td>\n",
       "      <td>2003</td>\n",
       "      <td>chevrolet silverado</td>\n",
       "      <td>3</td>\n",
       "      <td>6</td>\n",
       "      <td>gas</td>\n",
       "      <td>138000</td>\n",
       "      <td>automatic</td>\n",
       "      <td>pickup</td>\n",
       "      <td>white</td>\n",
       "      <td>1</td>\n",
       "      <td>2018-06-16</td>\n",
       "      <td>22</td>\n",
       "      <td>Saturday</td>\n",
       "      <td>6</td>\n",
       "      <td>2018</td>\n",
       "      <td>15</td>\n",
       "      <td>9200.0</td>\n",
       "    </tr>\n",
       "    <tr>\n",
       "      <td>51438</td>\n",
       "      <td>6500</td>\n",
       "      <td>2009</td>\n",
       "      <td>chevrolet silverado</td>\n",
       "      <td>1</td>\n",
       "      <td>8</td>\n",
       "      <td>gas</td>\n",
       "      <td>187900</td>\n",
       "      <td>automatic</td>\n",
       "      <td>pickup</td>\n",
       "      <td>white</td>\n",
       "      <td>1</td>\n",
       "      <td>2018-05-05</td>\n",
       "      <td>50</td>\n",
       "      <td>Saturday</td>\n",
       "      <td>5</td>\n",
       "      <td>2018</td>\n",
       "      <td>9</td>\n",
       "      <td>20878.0</td>\n",
       "    </tr>\n",
       "  </tbody>\n",
       "</table>\n",
       "<p>1271 rows × 18 columns</p>\n",
       "</div>"
      ],
      "text/plain": [
       "       price  model_year                model  condition  cylinders fuel  \\\n",
       "22      7500        2004  chevrolet silverado          4          8  gas   \n",
       "83     11950        2008  chevrolet silverado          2          8  gas   \n",
       "92      2950        2003  chevrolet silverado          2          8  gas   \n",
       "99     39950        2018  chevrolet silverado          3          8  gas   \n",
       "353    28000        2017  chevrolet silverado          4          8  gas   \n",
       "...      ...         ...                  ...        ...        ...  ...   \n",
       "51076  17995        2011  chevrolet silverado          4          8  gas   \n",
       "51114   7700        2004  chevrolet silverado          2          6  gas   \n",
       "51333   7900        2011  chevrolet silverado          2          6  gas   \n",
       "51381   5600        2003  chevrolet silverado          3          6  gas   \n",
       "51438   6500        2009  chevrolet silverado          1          8  gas   \n",
       "\n",
       "       odometer transmission    type paint_color  is_4wd date_posted  \\\n",
       "22       180000    automatic   truck         red       1  2019-01-05   \n",
       "83       170000    automatic   truck       black       1  2019-03-13   \n",
       "92       230000    automatic  pickup       white       0  2018-05-06   \n",
       "99        18500    automatic   truck       white       1  2018-08-05   \n",
       "353       53000    automatic   truck       white       1  2019-01-17   \n",
       "...         ...          ...     ...         ...     ...         ...   \n",
       "51076     92038    automatic   truck      silver       1  2018-11-14   \n",
       "51114    131250    automatic   truck        blue       1  2018-06-23   \n",
       "51333     99000    automatic   truck       white       0  2019-02-10   \n",
       "51381    138000    automatic  pickup       white       1  2018-06-16   \n",
       "51438    187900    automatic  pickup       white       1  2018-05-05   \n",
       "\n",
       "       days_listed    dayweek  month  year  car age  avg mil/year  \n",
       "22              64   Saturday      1  2019       15       12000.0  \n",
       "83              38  Wednesday      3  2019       11       15455.0  \n",
       "92              24     Sunday      5  2018       15       15333.0  \n",
       "99              16     Sunday      8  2018        0           inf  \n",
       "353             91   Thursday      1  2019        2       26500.0  \n",
       "...            ...        ...    ...   ...      ...           ...  \n",
       "51076           25  Wednesday     11  2018        7       13148.0  \n",
       "51114           27   Saturday      6  2018       14        9375.0  \n",
       "51333           13     Sunday      2  2019        8       12375.0  \n",
       "51381           22   Saturday      6  2018       15        9200.0  \n",
       "51438           50   Saturday      5  2018        9       20878.0  \n",
       "\n",
       "[1271 rows x 18 columns]"
      ]
     },
     "execution_count": 52,
     "metadata": {},
     "output_type": "execute_result"
    }
   ],
   "source": [
    "#Let's see the depedence between price and other quantitative variables for chevrolet silverado\n",
    "chev_quant_var = car_dataset.loc[car_dataset['model'] == 'chevrolet silverado']\n",
    "chev_quant_var \n"
   ]
  },
  {
   "cell_type": "code",
   "execution_count": 53,
   "metadata": {},
   "outputs": [
    {
     "name": "stdout",
     "output_type": "stream",
     "text": [
      "Pearson correlation coefficient price - car age  : -0.6510006903922078\n",
      "--------------------------------------------------------------------\n",
      "Pearson correlation coefficient price - model year  : 0.6527185563454985\n",
      "--------------------------------------------------------------------\n",
      "Pearson correlation coefficient price - condition of car : 0.5723671591302788\n"
     ]
    }
   ],
   "source": [
    "#Pearson correlation coefficient\n",
    "coef_price_age=(chev_quant_var['price'].corr(chev_quant_var['car age']))\n",
    "print(\"Pearson correlation coefficient price - car age  :\",coef_price_age)\n",
    "print('--------------------------------------------------------------------')\n",
    "coef_price_modelyear=(chev_quant_var['price'].corr(chev_quant_var['model_year']))\n",
    "print(\"Pearson correlation coefficient price - model year  :\",coef_price_modelyear)\n",
    "print('--------------------------------------------------------------------')\n",
    "coef_price_cond=(chev_quant_var['price'].corr(chev_quant_var['condition']))\n",
    "print(\"Pearson correlation coefficient price - condition of car :\",coef_price_cond)"
   ]
  },
  {
   "cell_type": "code",
   "execution_count": 54,
   "metadata": {},
   "outputs": [
    {
     "data": {
      "text/plain": [
       "<seaborn.axisgrid.FacetGrid at 0x7f2eb6ce3750>"
      ]
     },
     "execution_count": 54,
     "metadata": {},
     "output_type": "execute_result"
    },
    {
     "data": {
      "image/png": "[encoded data removed]",
      "text/plain": [
       "<Figure size 720x180 with 4 Axes>"
      ]
     },
     "metadata": {
      "needs_background": "light"
     },
     "output_type": "display_data"
    },
    {
     "data": {
      "image/png": "[encoded data removed]",
      "text/plain": [
       "<Figure size 360x360 with 1 Axes>"
      ]
     },
     "metadata": {
      "needs_background": "light"
     },
     "output_type": "display_data"
    },
    {
     "data": {
      "image/png": "[encoded data removed]",
      "text/plain": [
       "<Figure size 360x360 with 1 Axes>"
      ]
     },
     "metadata": {
      "needs_background": "light"
     },
     "output_type": "display_data"
    },
    {
     "data": {
      "image/png": "[encoded data removed]",
      "text/plain": [
       "<Figure size 414.25x360 with 1 Axes>"
      ]
     },
     "metadata": {
      "needs_background": "light"
     },
     "output_type": "display_data"
    }
   ],
   "source": [
    "sns.pairplot(data=chev_quant_var,\n",
    "                  y_vars=['price'],\n",
    "                  x_vars=[\"car age\" , \"model_year\",\"avg mil/year\",\"condition\"])\n",
    "\n",
    "sns.lmplot(x='car age',y='price',data=chev_quant_var ,fit_reg=True) \n",
    "sns.lmplot(x='model_year',y='price',data=chev_quant_var ,fit_reg=True) \n",
    "sns.lmplot(x='condition',y='price',data=chev_quant_var ,fit_reg=True,hue='condition') "
   ]
  },
  {
   "cell_type": "markdown",
   "metadata": {},
   "source": [
    "**For the chevrolet the quantitative variables are more highlighted, we notice:** <br>\n",
    "* **a negative correlation between price and age the more the car is aging the more his value drops**\n",
    "* **a positive correlation between price and model year the more recent the more expensive the car is** \n",
    "* **a positive correlation between condition and price especially for category 4 Like new and 5 new**"
   ]
  },
  {
   "cell_type": "code",
   "execution_count": 55,
   "metadata": {
    "scrolled": true
   },
   "outputs": [
    {
     "name": "stdout",
     "output_type": "stream",
     "text": [
      "number of ads for ford f-150 automatic: 2686\n",
      "------------------------------------------------------------------------\n",
      "number of ads for ford f-150 manual: 83\n",
      "------------------------------------------------------------------------\n",
      "number of ads for ford f-150 other: 27\n"
     ]
    }
   ],
   "source": [
    "#We are going to examine further the relationship between price and categorical variables:transmission type and color\n",
    "#We check first if there are enough available data to valid the analysis , we need at least 50 ads\n",
    "ford_auto1 = len(car_dataset.loc[(car_dataset['model'] == 'ford f-150')& (car_dataset['transmission'] == 'automatic')])\n",
    "\n",
    "print('number of ads for ford f-150 automatic:',ford_auto1)\n",
    "print('------------------------------------------------------------------------')\n",
    "ford_auto2 = len(car_dataset.loc[(car_dataset['model'] == 'ford f-150')& (car_dataset['transmission'] == 'manual')])\n",
    "print('number of ads for ford f-150 manual:',ford_auto2)\n",
    "print('------------------------------------------------------------------------')\n",
    "ford_auto3 = len(car_dataset.loc[(car_dataset['model'] == 'ford f-150')& (car_dataset['transmission'] == 'other')])\n",
    "print('number of ads for ford f-150 other:',ford_auto3)"
   ]
  },
  {
   "cell_type": "markdown",
   "metadata": {},
   "source": [
    "We will exclude the parameter \"other\" in transmissions because there are not enough entries to get an accurate picture"
   ]
  },
  {
   "cell_type": "code",
   "execution_count": 56,
   "metadata": {},
   "outputs": [
    {
     "data": {
      "text/html": [
       "<div>\n",
       "<style scoped>\n",
       "    .dataframe tbody tr th:only-of-type {\n",
       "        vertical-align: middle;\n",
       "    }\n",
       "\n",
       "    .dataframe tbody tr th {\n",
       "        vertical-align: top;\n",
       "    }\n",
       "\n",
       "    .dataframe thead th {\n",
       "        text-align: right;\n",
       "    }\n",
       "</style>\n",
       "<table border=\"1\" class=\"dataframe\">\n",
       "  <thead>\n",
       "    <tr style=\"text-align: right;\">\n",
       "      <th></th>\n",
       "      <th>price</th>\n",
       "      <th>model_year</th>\n",
       "      <th>condition</th>\n",
       "      <th>cylinders</th>\n",
       "      <th>odometer</th>\n",
       "      <th>is_4wd</th>\n",
       "      <th>days_listed</th>\n",
       "      <th>month</th>\n",
       "      <th>year</th>\n",
       "      <th>car age</th>\n",
       "      <th>avg mil/year</th>\n",
       "    </tr>\n",
       "  </thead>\n",
       "  <tbody>\n",
       "    <tr>\n",
       "      <td>count</td>\n",
       "      <td>2686.000000</td>\n",
       "      <td>2686.000000</td>\n",
       "      <td>2686.000000</td>\n",
       "      <td>2686.000000</td>\n",
       "      <td>2686.000000</td>\n",
       "      <td>2686.000000</td>\n",
       "      <td>2686.000000</td>\n",
       "      <td>2686.000000</td>\n",
       "      <td>2686.000000</td>\n",
       "      <td>2686.000000</td>\n",
       "      <td>2686.0</td>\n",
       "    </tr>\n",
       "    <tr>\n",
       "      <td>mean</td>\n",
       "      <td>14478.202532</td>\n",
       "      <td>2009.676098</td>\n",
       "      <td>2.625465</td>\n",
       "      <td>7.144453</td>\n",
       "      <td>121994.756888</td>\n",
       "      <td>0.743112</td>\n",
       "      <td>38.663440</td>\n",
       "      <td>6.650782</td>\n",
       "      <td>2018.306404</td>\n",
       "      <td>8.630305</td>\n",
       "      <td>inf</td>\n",
       "    </tr>\n",
       "    <tr>\n",
       "      <td>std</td>\n",
       "      <td>12568.363330</td>\n",
       "      <td>5.653305</td>\n",
       "      <td>0.670534</td>\n",
       "      <td>1.014229</td>\n",
       "      <td>56183.243475</td>\n",
       "      <td>0.436998</td>\n",
       "      <td>27.135756</td>\n",
       "      <td>3.482461</td>\n",
       "      <td>0.461085</td>\n",
       "      <td>5.667901</td>\n",
       "      <td>NaN</td>\n",
       "    </tr>\n",
       "    <tr>\n",
       "      <td>min</td>\n",
       "      <td>1.000000</td>\n",
       "      <td>1975.000000</td>\n",
       "      <td>0.000000</td>\n",
       "      <td>3.000000</td>\n",
       "      <td>0.000000</td>\n",
       "      <td>0.000000</td>\n",
       "      <td>0.000000</td>\n",
       "      <td>1.000000</td>\n",
       "      <td>2018.000000</td>\n",
       "      <td>0.000000</td>\n",
       "      <td>0.0</td>\n",
       "    </tr>\n",
       "    <tr>\n",
       "      <td>25%</td>\n",
       "      <td>6500.000000</td>\n",
       "      <td>2007.000000</td>\n",
       "      <td>2.000000</td>\n",
       "      <td>6.000000</td>\n",
       "      <td>90000.000000</td>\n",
       "      <td>0.000000</td>\n",
       "      <td>19.000000</td>\n",
       "      <td>3.000000</td>\n",
       "      <td>2018.000000</td>\n",
       "      <td>5.000000</td>\n",
       "      <td>10933.0</td>\n",
       "    </tr>\n",
       "    <tr>\n",
       "      <td>50%</td>\n",
       "      <td>12672.500000</td>\n",
       "      <td>2010.000000</td>\n",
       "      <td>3.000000</td>\n",
       "      <td>8.000000</td>\n",
       "      <td>113000.000000</td>\n",
       "      <td>1.000000</td>\n",
       "      <td>33.000000</td>\n",
       "      <td>7.000000</td>\n",
       "      <td>2018.000000</td>\n",
       "      <td>8.000000</td>\n",
       "      <td>16115.0</td>\n",
       "    </tr>\n",
       "    <tr>\n",
       "      <td>75%</td>\n",
       "      <td>19979.250000</td>\n",
       "      <td>2014.000000</td>\n",
       "      <td>3.000000</td>\n",
       "      <td>8.000000</td>\n",
       "      <td>155017.250000</td>\n",
       "      <td>1.000000</td>\n",
       "      <td>51.000000</td>\n",
       "      <td>10.000000</td>\n",
       "      <td>2019.000000</td>\n",
       "      <td>12.000000</td>\n",
       "      <td>24036.0</td>\n",
       "    </tr>\n",
       "    <tr>\n",
       "      <td>max</td>\n",
       "      <td>189000.000000</td>\n",
       "      <td>2019.000000</td>\n",
       "      <td>5.000000</td>\n",
       "      <td>10.000000</td>\n",
       "      <td>452000.000000</td>\n",
       "      <td>1.000000</td>\n",
       "      <td>225.000000</td>\n",
       "      <td>12.000000</td>\n",
       "      <td>2019.000000</td>\n",
       "      <td>43.000000</td>\n",
       "      <td>inf</td>\n",
       "    </tr>\n",
       "  </tbody>\n",
       "</table>\n",
       "</div>"
      ],
      "text/plain": [
       "               price   model_year    condition    cylinders       odometer  \\\n",
       "count    2686.000000  2686.000000  2686.000000  2686.000000    2686.000000   \n",
       "mean    14478.202532  2009.676098     2.625465     7.144453  121994.756888   \n",
       "std     12568.363330     5.653305     0.670534     1.014229   56183.243475   \n",
       "min         1.000000  1975.000000     0.000000     3.000000       0.000000   \n",
       "25%      6500.000000  2007.000000     2.000000     6.000000   90000.000000   \n",
       "50%     12672.500000  2010.000000     3.000000     8.000000  113000.000000   \n",
       "75%     19979.250000  2014.000000     3.000000     8.000000  155017.250000   \n",
       "max    189000.000000  2019.000000     5.000000    10.000000  452000.000000   \n",
       "\n",
       "            is_4wd  days_listed        month         year      car age  \\\n",
       "count  2686.000000  2686.000000  2686.000000  2686.000000  2686.000000   \n",
       "mean      0.743112    38.663440     6.650782  2018.306404     8.630305   \n",
       "std       0.436998    27.135756     3.482461     0.461085     5.667901   \n",
       "min       0.000000     0.000000     1.000000  2018.000000     0.000000   \n",
       "25%       0.000000    19.000000     3.000000  2018.000000     5.000000   \n",
       "50%       1.000000    33.000000     7.000000  2018.000000     8.000000   \n",
       "75%       1.000000    51.000000    10.000000  2019.000000    12.000000   \n",
       "max       1.000000   225.000000    12.000000  2019.000000    43.000000   \n",
       "\n",
       "       avg mil/year  \n",
       "count        2686.0  \n",
       "mean            inf  \n",
       "std             NaN  \n",
       "min             0.0  \n",
       "25%         10933.0  \n",
       "50%         16115.0  \n",
       "75%         24036.0  \n",
       "max             inf  "
      ]
     },
     "execution_count": 56,
     "metadata": {},
     "output_type": "execute_result"
    }
   ],
   "source": [
    "ford_auto4=(car_dataset.loc[(car_dataset['model'] == 'ford f-150')& (car_dataset['transmission'] == 'automatic')]).describe()\n",
    "ford_auto4"
   ]
  },
  {
   "cell_type": "code",
   "execution_count": 57,
   "metadata": {},
   "outputs": [
    {
     "data": {
      "text/html": [
       "<div>\n",
       "<style scoped>\n",
       "    .dataframe tbody tr th:only-of-type {\n",
       "        vertical-align: middle;\n",
       "    }\n",
       "\n",
       "    .dataframe tbody tr th {\n",
       "        vertical-align: top;\n",
       "    }\n",
       "\n",
       "    .dataframe thead th {\n",
       "        text-align: right;\n",
       "    }\n",
       "</style>\n",
       "<table border=\"1\" class=\"dataframe\">\n",
       "  <thead>\n",
       "    <tr style=\"text-align: right;\">\n",
       "      <th></th>\n",
       "      <th>price</th>\n",
       "      <th>model_year</th>\n",
       "      <th>condition</th>\n",
       "      <th>cylinders</th>\n",
       "      <th>odometer</th>\n",
       "      <th>is_4wd</th>\n",
       "      <th>days_listed</th>\n",
       "      <th>month</th>\n",
       "      <th>year</th>\n",
       "      <th>car age</th>\n",
       "      <th>avg mil/year</th>\n",
       "    </tr>\n",
       "  </thead>\n",
       "  <tbody>\n",
       "    <tr>\n",
       "      <td>count</td>\n",
       "      <td>83.000000</td>\n",
       "      <td>83.000000</td>\n",
       "      <td>83.000000</td>\n",
       "      <td>83.000000</td>\n",
       "      <td>83.000000</td>\n",
       "      <td>83.000000</td>\n",
       "      <td>83.000000</td>\n",
       "      <td>83.000000</td>\n",
       "      <td>83.000000</td>\n",
       "      <td>83.000000</td>\n",
       "      <td>83.000000</td>\n",
       "    </tr>\n",
       "    <tr>\n",
       "      <td>mean</td>\n",
       "      <td>5230.638554</td>\n",
       "      <td>1996.493976</td>\n",
       "      <td>2.144578</td>\n",
       "      <td>6.843373</td>\n",
       "      <td>137909.506024</td>\n",
       "      <td>0.337349</td>\n",
       "      <td>34.662651</td>\n",
       "      <td>6.554217</td>\n",
       "      <td>2018.265060</td>\n",
       "      <td>21.771084</td>\n",
       "      <td>8206.349398</td>\n",
       "    </tr>\n",
       "    <tr>\n",
       "      <td>std</td>\n",
       "      <td>5337.871700</td>\n",
       "      <td>13.302644</td>\n",
       "      <td>0.717933</td>\n",
       "      <td>1.041597</td>\n",
       "      <td>77335.594063</td>\n",
       "      <td>0.475679</td>\n",
       "      <td>26.989735</td>\n",
       "      <td>3.335884</td>\n",
       "      <td>0.444048</td>\n",
       "      <td>13.328244</td>\n",
       "      <td>6584.267453</td>\n",
       "    </tr>\n",
       "    <tr>\n",
       "      <td>min</td>\n",
       "      <td>1.000000</td>\n",
       "      <td>1929.000000</td>\n",
       "      <td>0.000000</td>\n",
       "      <td>4.000000</td>\n",
       "      <td>0.000000</td>\n",
       "      <td>0.000000</td>\n",
       "      <td>3.000000</td>\n",
       "      <td>1.000000</td>\n",
       "      <td>2018.000000</td>\n",
       "      <td>1.000000</td>\n",
       "      <td>0.000000</td>\n",
       "    </tr>\n",
       "    <tr>\n",
       "      <td>25%</td>\n",
       "      <td>2500.000000</td>\n",
       "      <td>1994.500000</td>\n",
       "      <td>2.000000</td>\n",
       "      <td>6.000000</td>\n",
       "      <td>106051.500000</td>\n",
       "      <td>0.000000</td>\n",
       "      <td>14.000000</td>\n",
       "      <td>4.000000</td>\n",
       "      <td>2018.000000</td>\n",
       "      <td>16.500000</td>\n",
       "      <td>4604.000000</td>\n",
       "    </tr>\n",
       "    <tr>\n",
       "      <td>50%</td>\n",
       "      <td>3500.000000</td>\n",
       "      <td>1998.000000</td>\n",
       "      <td>2.000000</td>\n",
       "      <td>6.000000</td>\n",
       "      <td>127272.000000</td>\n",
       "      <td>0.000000</td>\n",
       "      <td>27.000000</td>\n",
       "      <td>7.000000</td>\n",
       "      <td>2018.000000</td>\n",
       "      <td>20.000000</td>\n",
       "      <td>7071.000000</td>\n",
       "    </tr>\n",
       "    <tr>\n",
       "      <td>75%</td>\n",
       "      <td>5125.000000</td>\n",
       "      <td>2002.000000</td>\n",
       "      <td>3.000000</td>\n",
       "      <td>8.000000</td>\n",
       "      <td>179000.000000</td>\n",
       "      <td>1.000000</td>\n",
       "      <td>53.000000</td>\n",
       "      <td>9.000000</td>\n",
       "      <td>2019.000000</td>\n",
       "      <td>24.000000</td>\n",
       "      <td>9768.000000</td>\n",
       "    </tr>\n",
       "    <tr>\n",
       "      <td>max</td>\n",
       "      <td>32200.000000</td>\n",
       "      <td>2017.000000</td>\n",
       "      <td>4.000000</td>\n",
       "      <td>8.000000</td>\n",
       "      <td>360000.000000</td>\n",
       "      <td>1.000000</td>\n",
       "      <td>150.000000</td>\n",
       "      <td>12.000000</td>\n",
       "      <td>2019.000000</td>\n",
       "      <td>89.000000</td>\n",
       "      <td>38000.000000</td>\n",
       "    </tr>\n",
       "  </tbody>\n",
       "</table>\n",
       "</div>"
      ],
      "text/plain": [
       "              price   model_year  condition  cylinders       odometer  \\\n",
       "count     83.000000    83.000000  83.000000  83.000000      83.000000   \n",
       "mean    5230.638554  1996.493976   2.144578   6.843373  137909.506024   \n",
       "std     5337.871700    13.302644   0.717933   1.041597   77335.594063   \n",
       "min        1.000000  1929.000000   0.000000   4.000000       0.000000   \n",
       "25%     2500.000000  1994.500000   2.000000   6.000000  106051.500000   \n",
       "50%     3500.000000  1998.000000   2.000000   6.000000  127272.000000   \n",
       "75%     5125.000000  2002.000000   3.000000   8.000000  179000.000000   \n",
       "max    32200.000000  2017.000000   4.000000   8.000000  360000.000000   \n",
       "\n",
       "          is_4wd  days_listed      month         year    car age  avg mil/year  \n",
       "count  83.000000    83.000000  83.000000    83.000000  83.000000     83.000000  \n",
       "mean    0.337349    34.662651   6.554217  2018.265060  21.771084   8206.349398  \n",
       "std     0.475679    26.989735   3.335884     0.444048  13.328244   6584.267453  \n",
       "min     0.000000     3.000000   1.000000  2018.000000   1.000000      0.000000  \n",
       "25%     0.000000    14.000000   4.000000  2018.000000  16.500000   4604.000000  \n",
       "50%     0.000000    27.000000   7.000000  2018.000000  20.000000   7071.000000  \n",
       "75%     1.000000    53.000000   9.000000  2019.000000  24.000000   9768.000000  \n",
       "max     1.000000   150.000000  12.000000  2019.000000  89.000000  38000.000000  "
      ]
     },
     "execution_count": 57,
     "metadata": {},
     "output_type": "execute_result"
    }
   ],
   "source": [
    "ford_auto5=(car_dataset.loc[(car_dataset['model'] == 'ford f-150')& (car_dataset['transmission'] == 'manual')]).describe()\n",
    "ford_auto5"
   ]
  },
  {
   "cell_type": "code",
   "execution_count": 58,
   "metadata": {},
   "outputs": [
    {
     "data": {
      "text/plain": [
       "<matplotlib.axes._subplots.AxesSubplot at 0x7f2eb6b32f90>"
      ]
     },
     "execution_count": 58,
     "metadata": {},
     "output_type": "execute_result"
    },
    {
     "data": {
      "image/png": "[encoded data removed]",
      "text/plain": [
       "<Figure size 1080x432 with 1 Axes>"
      ]
     },
     "metadata": {
      "needs_background": "light"
     },
     "output_type": "display_data"
    }
   ],
   "source": [
    "#plot box for f-150 - transmissions\n",
    "from matplotlib import pyplot as plt\n",
    "plt.figure(figsize=(15,6))\n",
    "sns.boxplot(y=ford_quant_var[\"transmission\"], x=ford_quant_var[\"price\"],) \n"
   ]
  },
  {
   "cell_type": "code",
   "execution_count": 59,
   "metadata": {},
   "outputs": [
    {
     "data": {
      "text/plain": [
       "<seaborn.axisgrid.FacetGrid at 0x7f2eb6a47690>"
      ]
     },
     "execution_count": 59,
     "metadata": {},
     "output_type": "execute_result"
    },
    {
     "data": {
      "image/png": "[encoded data removed]",
      "text/plain": [
       "<Figure size 360x360 with 1 Axes>"
      ]
     },
     "metadata": {
      "needs_background": "light"
     },
     "output_type": "display_data"
    }
   ],
   "source": [
    "#count box for f-150 transmissions\n",
    "sns.catplot(x=\"transmission\", kind=\"count\", data=ford_quant_var)"
   ]
  },
  {
   "cell_type": "markdown",
   "metadata": {},
   "source": [
    "This box plot is useful as it provides a visual summary of the data.We can then identify some values , the disperson of the data set and some signs of skewness.<br>\n",
    "The first left black  vertical  line of blue box plot is minimum value <br>\n",
    "First black vertical line of rectangle shape of blue box plot is First quartile or 25%<br>\n",
    "Second black vertical line of rectangle shape of blue box plot is Second quartile or 50% or median.<br>\n",
    "Third black vertical line of rectangle shape of blue box plot is third quartile or 75%<br>\n",
    "Top black vertical line of rectangle shape of blue box plot is maximum value.<br>\n",
    "Small diamond shape of blue box plot is outlier data or erroneous data.<br>\n",
    "For automatic and manual we identify a distribution skwewed right as the median seems to be closer to the bottom of the box and the whisker shorter on the lower end of the box.<br>\n",
    "Through the count box we can see that manual and other types of transmissions are in small quantity compared to automatic.<br>\n",
    "**Overall we found more ford f-150 with automatic transmission and they are more expensive than the manual.**\n",
    "\n"
   ]
  },
  {
   "cell_type": "code",
   "execution_count": 60,
   "metadata": {},
   "outputs": [
    {
     "name": "stdout",
     "output_type": "stream",
     "text": [
      "number of ads for chevrolet silverado automatic: 1248\n",
      "------------------------------------------------------------------------\n",
      "number of ads for chevrolet silverado manual: 23\n",
      "------------------------------------------------------------------------\n",
      "number of ads for chevrolet silverado other: 0\n"
     ]
    }
   ],
   "source": [
    "#plot box for chevrolet silverado- transmissions\n",
    "#We check first if there are enough available data to valid the analysis , we need at least 50 ads\n",
    "chevro_auto = len(car_dataset.loc[(car_dataset['model'] == 'chevrolet silverado')& (car_dataset['transmission'] == 'automatic')])\n",
    "\n",
    "print('number of ads for chevrolet silverado automatic:',chevro_auto)\n",
    "print('------------------------------------------------------------------------')\n",
    "chevro_auto2 = len(car_dataset.loc[(car_dataset['model'] == 'chevrolet silverado')& (car_dataset['transmission'] == 'manual')])\n",
    "print('number of ads for chevrolet silverado manual:',chevro_auto2)\n",
    "print('------------------------------------------------------------------------')\n",
    "chevro_auto3 = len(car_dataset.loc[(car_dataset['model'] == 'chevrolet silverado')& (car_dataset['transmission'] == 'other')])\n",
    "print('number of ads for chevrolet silverado other:',chevro_auto3)"
   ]
  },
  {
   "cell_type": "markdown",
   "metadata": {},
   "source": [
    "We will exclude the parameter \"other\" and \"manual\" in transmissions because there are not enough entries to get an accurate picture"
   ]
  },
  {
   "cell_type": "code",
   "execution_count": 61,
   "metadata": {},
   "outputs": [
    {
     "data": {
      "text/html": [
       "<div>\n",
       "<style scoped>\n",
       "    .dataframe tbody tr th:only-of-type {\n",
       "        vertical-align: middle;\n",
       "    }\n",
       "\n",
       "    .dataframe tbody tr th {\n",
       "        vertical-align: top;\n",
       "    }\n",
       "\n",
       "    .dataframe thead th {\n",
       "        text-align: right;\n",
       "    }\n",
       "</style>\n",
       "<table border=\"1\" class=\"dataframe\">\n",
       "  <thead>\n",
       "    <tr style=\"text-align: right;\">\n",
       "      <th></th>\n",
       "      <th>price</th>\n",
       "      <th>model_year</th>\n",
       "      <th>condition</th>\n",
       "      <th>cylinders</th>\n",
       "      <th>odometer</th>\n",
       "      <th>is_4wd</th>\n",
       "      <th>days_listed</th>\n",
       "      <th>month</th>\n",
       "      <th>year</th>\n",
       "      <th>car age</th>\n",
       "      <th>avg mil/year</th>\n",
       "    </tr>\n",
       "  </thead>\n",
       "  <tbody>\n",
       "    <tr>\n",
       "      <td>count</td>\n",
       "      <td>1248.000000</td>\n",
       "      <td>1248.000000</td>\n",
       "      <td>1248.000000</td>\n",
       "      <td>1248.000000</td>\n",
       "      <td>1248.000000</td>\n",
       "      <td>1248.000000</td>\n",
       "      <td>1248.000000</td>\n",
       "      <td>1248.000000</td>\n",
       "      <td>1248.000000</td>\n",
       "      <td>1248.000000</td>\n",
       "      <td>1248.00</td>\n",
       "    </tr>\n",
       "    <tr>\n",
       "      <td>mean</td>\n",
       "      <td>14356.949519</td>\n",
       "      <td>2008.068910</td>\n",
       "      <td>2.687500</td>\n",
       "      <td>7.584936</td>\n",
       "      <td>126833.438301</td>\n",
       "      <td>0.733974</td>\n",
       "      <td>40.937500</td>\n",
       "      <td>6.591346</td>\n",
       "      <td>2018.303686</td>\n",
       "      <td>10.234776</td>\n",
       "      <td>inf</td>\n",
       "    </tr>\n",
       "    <tr>\n",
       "      <td>std</td>\n",
       "      <td>10012.241501</td>\n",
       "      <td>6.823239</td>\n",
       "      <td>0.842974</td>\n",
       "      <td>0.834787</td>\n",
       "      <td>67337.754986</td>\n",
       "      <td>0.442055</td>\n",
       "      <td>29.493575</td>\n",
       "      <td>3.457334</td>\n",
       "      <td>0.460033</td>\n",
       "      <td>6.828652</td>\n",
       "      <td>NaN</td>\n",
       "    </tr>\n",
       "    <tr>\n",
       "      <td>min</td>\n",
       "      <td>1.000000</td>\n",
       "      <td>1977.000000</td>\n",
       "      <td>0.000000</td>\n",
       "      <td>4.000000</td>\n",
       "      <td>0.000000</td>\n",
       "      <td>0.000000</td>\n",
       "      <td>0.000000</td>\n",
       "      <td>1.000000</td>\n",
       "      <td>2018.000000</td>\n",
       "      <td>0.000000</td>\n",
       "      <td>0.00</td>\n",
       "    </tr>\n",
       "    <tr>\n",
       "      <td>25%</td>\n",
       "      <td>6500.000000</td>\n",
       "      <td>2004.000000</td>\n",
       "      <td>2.000000</td>\n",
       "      <td>8.000000</td>\n",
       "      <td>89690.250000</td>\n",
       "      <td>0.000000</td>\n",
       "      <td>19.000000</td>\n",
       "      <td>3.000000</td>\n",
       "      <td>2018.000000</td>\n",
       "      <td>5.000000</td>\n",
       "      <td>9832.25</td>\n",
       "    </tr>\n",
       "    <tr>\n",
       "      <td>50%</td>\n",
       "      <td>12000.000000</td>\n",
       "      <td>2009.000000</td>\n",
       "      <td>3.000000</td>\n",
       "      <td>8.000000</td>\n",
       "      <td>115061.500000</td>\n",
       "      <td>1.000000</td>\n",
       "      <td>34.000000</td>\n",
       "      <td>7.000000</td>\n",
       "      <td>2018.000000</td>\n",
       "      <td>10.000000</td>\n",
       "      <td>14094.00</td>\n",
       "    </tr>\n",
       "    <tr>\n",
       "      <td>75%</td>\n",
       "      <td>19799.000000</td>\n",
       "      <td>2013.000000</td>\n",
       "      <td>3.000000</td>\n",
       "      <td>8.000000</td>\n",
       "      <td>165316.250000</td>\n",
       "      <td>1.000000</td>\n",
       "      <td>56.000000</td>\n",
       "      <td>10.000000</td>\n",
       "      <td>2019.000000</td>\n",
       "      <td>14.000000</td>\n",
       "      <td>21259.00</td>\n",
       "    </tr>\n",
       "    <tr>\n",
       "      <td>max</td>\n",
       "      <td>60000.000000</td>\n",
       "      <td>2019.000000</td>\n",
       "      <td>5.000000</td>\n",
       "      <td>10.000000</td>\n",
       "      <td>506025.000000</td>\n",
       "      <td>1.000000</td>\n",
       "      <td>204.000000</td>\n",
       "      <td>12.000000</td>\n",
       "      <td>2019.000000</td>\n",
       "      <td>41.000000</td>\n",
       "      <td>inf</td>\n",
       "    </tr>\n",
       "  </tbody>\n",
       "</table>\n",
       "</div>"
      ],
      "text/plain": [
       "              price   model_year    condition    cylinders       odometer  \\\n",
       "count   1248.000000  1248.000000  1248.000000  1248.000000    1248.000000   \n",
       "mean   14356.949519  2008.068910     2.687500     7.584936  126833.438301   \n",
       "std    10012.241501     6.823239     0.842974     0.834787   67337.754986   \n",
       "min        1.000000  1977.000000     0.000000     4.000000       0.000000   \n",
       "25%     6500.000000  2004.000000     2.000000     8.000000   89690.250000   \n",
       "50%    12000.000000  2009.000000     3.000000     8.000000  115061.500000   \n",
       "75%    19799.000000  2013.000000     3.000000     8.000000  165316.250000   \n",
       "max    60000.000000  2019.000000     5.000000    10.000000  506025.000000   \n",
       "\n",
       "            is_4wd  days_listed        month         year      car age  \\\n",
       "count  1248.000000  1248.000000  1248.000000  1248.000000  1248.000000   \n",
       "mean      0.733974    40.937500     6.591346  2018.303686    10.234776   \n",
       "std       0.442055    29.493575     3.457334     0.460033     6.828652   \n",
       "min       0.000000     0.000000     1.000000  2018.000000     0.000000   \n",
       "25%       0.000000    19.000000     3.000000  2018.000000     5.000000   \n",
       "50%       1.000000    34.000000     7.000000  2018.000000    10.000000   \n",
       "75%       1.000000    56.000000    10.000000  2019.000000    14.000000   \n",
       "max       1.000000   204.000000    12.000000  2019.000000    41.000000   \n",
       "\n",
       "       avg mil/year  \n",
       "count       1248.00  \n",
       "mean            inf  \n",
       "std             NaN  \n",
       "min            0.00  \n",
       "25%         9832.25  \n",
       "50%        14094.00  \n",
       "75%        21259.00  \n",
       "max             inf  "
      ]
     },
     "execution_count": 61,
     "metadata": {},
     "output_type": "execute_result"
    }
   ],
   "source": [
    "chevro_auto5=(car_dataset.loc[(car_dataset['model'] == 'chevrolet silverado')& (car_dataset['transmission'] == 'automatic')]).describe()\n",
    "chevro_auto5"
   ]
  },
  {
   "cell_type": "code",
   "execution_count": 62,
   "metadata": {},
   "outputs": [
    {
     "data": {
      "text/plain": [
       "<matplotlib.axes._subplots.AxesSubplot at 0x7f2eb69a4cd0>"
      ]
     },
     "execution_count": 62,
     "metadata": {},
     "output_type": "execute_result"
    },
    {
     "data": {
      "image/png": "[encoded data removed]",
      "text/plain": [
       "<Figure size 864x288 with 1 Axes>"
      ]
     },
     "metadata": {
      "needs_background": "light"
     },
     "output_type": "display_data"
    }
   ],
   "source": [
    "#plot box for chevrolet silverado - transmissions\n",
    "from matplotlib import pyplot as plt\n",
    "plt.figure(figsize=(12,4))\n",
    "sns.boxplot(y=chev_quant_var [\"transmission\"], x=chev_quant_var[\"price\"]) "
   ]
  },
  {
   "cell_type": "markdown",
   "metadata": {},
   "source": [
    "For the chevrolet we have a min value around 1 and a median at 12000.<br>\n",
    "We observe some outliers from 40 000.<br>\n",
    "We identify also a distribution skwewed right<br>"
   ]
  },
  {
   "cell_type": "code",
   "execution_count": 63,
   "metadata": {},
   "outputs": [
    {
     "data": {
      "text/plain": [
       "white     1212\n",
       "black      389\n",
       "red        346\n",
       "grey       214\n",
       "blue       212\n",
       "silver     211\n",
       "green       79\n",
       "brown       69\n",
       "custom      53\n",
       "yellow       7\n",
       "orange       2\n",
       "purple       2\n",
       "Name: paint_color, dtype: int64"
      ]
     },
     "execution_count": 63,
     "metadata": {},
     "output_type": "execute_result"
    }
   ],
   "source": [
    "#Let's now focus on the color \n",
    "#We check first if there are enough available data to valid the analysis for ford f-150 , we need at least 50 ads\n",
    "ford_color =  (car_dataset.loc[(car_dataset['model'] == 'ford f-150')& (car_dataset['paint_color'])])\n",
    "ford_color['paint_color'].value_counts()"
   ]
  },
  {
   "cell_type": "code",
   "execution_count": 64,
   "metadata": {},
   "outputs": [
    {
     "name": "stdout",
     "output_type": "stream",
     "text": [
      "total number of ford f-150: 2796\n"
     ]
    }
   ],
   "source": [
    "ford_color_count= len(car_dataset.loc[(car_dataset['model'] == 'ford f-150')& (car_dataset['paint_color'])])\n",
    "print('total number of ford f-150:',ford_color_count)"
   ]
  },
  {
   "cell_type": "markdown",
   "metadata": {},
   "source": [
    "From the values counts we are able to detect 6 major colors : \n",
    "* white 43%\n",
    "* black 14%\n",
    "* red   12%\n",
    "* grey  7%\n",
    "* blue  7.5%\n",
    "* silver 7.5% <br>\n",
    "\n",
    "We don't take into account the values where there are less than 50 entries for accuracy purpose."
   ]
  },
  {
   "cell_type": "code",
   "execution_count": 65,
   "metadata": {
    "scrolled": true
   },
   "outputs": [
    {
     "data": {
      "text/plain": [
       "<matplotlib.axes._subplots.AxesSubplot at 0x7f2eb697b5d0>"
      ]
     },
     "execution_count": 65,
     "metadata": {},
     "output_type": "execute_result"
    },
    {
     "data": {
      "image/png": "[encoded data removed]",
      "text/plain": [
       "<Figure size 936x360 with 1 Axes>"
      ]
     },
     "metadata": {
      "needs_background": "light"
     },
     "output_type": "display_data"
    }
   ],
   "source": [
    "#ford_color boxplot\n",
    "plt.figure(figsize=(13,5))\n",
    "sns.boxplot(y=ford_color [\"paint_color\"], x=ford_color [\"price\"]) "
   ]
  },
  {
   "cell_type": "code",
   "execution_count": 66,
   "metadata": {
    "scrolled": true
   },
   "outputs": [
    {
     "data": {
      "text/plain": [
       "<seaborn.axisgrid.FacetGrid at 0x7f2eb6ee4b50>"
      ]
     },
     "execution_count": 66,
     "metadata": {},
     "output_type": "execute_result"
    },
    {
     "data": {
      "image/png": "[encoded data removed]",
      "text/plain": [
       "<Figure size 360x360 with 1 Axes>"
      ]
     },
     "metadata": {
      "needs_background": "light"
     },
     "output_type": "display_data"
    }
   ],
   "source": [
    "#count box for f-150 colors\n",
    "sns.catplot(x=\"paint_color\", kind=\"count\", data=ford_color,)\n"
   ]
  },
  {
   "cell_type": "markdown",
   "metadata": {},
   "source": [
    "For the ford F150 we clearly see a clear emerging  pattern with the color white  with 1212 cars at 43% of total which is far ahead from black  389 cars and red 346 but when we check the boxplot we can point out different trends.<br>\n",
    "The cars with the colour black and grey  are more expensive  and have a superior median.<br>\n",
    "The color black records a mean and median price superior to the color white with 18000 and 15000 against 13650 and  12500.<br>\n",
    "They have similar value in terms of max outliers with some price around 189000.<br>"
   ]
  },
  {
   "cell_type": "code",
   "execution_count": 67,
   "metadata": {},
   "outputs": [
    {
     "name": "stdout",
     "output_type": "stream",
     "text": [
      "total number of chevrolet silverado: 1271\n"
     ]
    }
   ],
   "source": [
    "#We check first if there are enough available data to valid the analysis for ford chevrolet silverado, we need at least 50 ads\n",
    "chevro_color_count = len (car_dataset.loc[(car_dataset['model'] == 'chevrolet silverado')& (car_dataset['paint_color'])])\n",
    "print('total number of chevrolet silverado:',chevro_color_count)"
   ]
  },
  {
   "cell_type": "code",
   "execution_count": 68,
   "metadata": {},
   "outputs": [
    {
     "data": {
      "text/plain": [
       "white     526\n",
       "black     163\n",
       "red       139\n",
       "silver    133\n",
       "blue      116\n",
       "grey       93\n",
       "green      44\n",
       "brown      43\n",
       "custom     14\n",
       "Name: paint_color, dtype: int64"
      ]
     },
     "execution_count": 68,
     "metadata": {},
     "output_type": "execute_result"
    }
   ],
   "source": [
    "\n",
    "chevro_color  =  (car_dataset.loc[(car_dataset['model'] == 'chevrolet silverado')& (car_dataset['paint_color'])])\n",
    "chevro_color['paint_color'].value_counts()"
   ]
  },
  {
   "cell_type": "markdown",
   "metadata": {},
   "source": [
    "From the values counts we are able to detect 6 major colors : \n",
    "* white 41%\n",
    "* black 13%\n",
    "* red   11%\n",
    "* silver  10%\n",
    "* blue  9%\n",
    "* grey 7% <br>\n",
    "We don't take into account the values where there are less than 50 entries for accuracy purpose."
   ]
  },
  {
   "cell_type": "code",
   "execution_count": 69,
   "metadata": {},
   "outputs": [
    {
     "data": {
      "text/plain": [
       "<matplotlib.axes._subplots.AxesSubplot at 0x7f2eb697b750>"
      ]
     },
     "execution_count": 69,
     "metadata": {},
     "output_type": "execute_result"
    },
    {
     "data": {
      "image/png": "[encoded data removed]",
      "text/plain": [
       "<Figure size 1080x432 with 1 Axes>"
      ]
     },
     "metadata": {
      "needs_background": "light"
     },
     "output_type": "display_data"
    }
   ],
   "source": [
    "#chevrolet silverado color boxplot\n",
    "plt.figure(figsize=(15,6))\n",
    "sns.boxplot(y=chevro_color[\"paint_color\"], x=chevro_color [\"price\"]) "
   ]
  },
  {
   "cell_type": "code",
   "execution_count": 70,
   "metadata": {},
   "outputs": [
    {
     "data": {
      "text/plain": [
       "<seaborn.axisgrid.FacetGrid at 0x7f2eb70a4190>"
      ]
     },
     "execution_count": 70,
     "metadata": {},
     "output_type": "execute_result"
    },
    {
     "data": {
      "image/png": "[encoded data removed]",
      "text/plain": [
       "<Figure size 360x360 with 1 Axes>"
      ]
     },
     "metadata": {
      "needs_background": "light"
     },
     "output_type": "display_data"
    }
   ],
   "source": [
    "#count box for chevrolet silverado colors\n",
    "sns.catplot(x=\"paint_color\", kind=\"count\", data=\n",
    "chevro_color)\n"
   ]
  },
  {
   "cell_type": "markdown",
   "metadata": {},
   "source": [
    "Same as the Ford, for  chevrolet silverado we found a big number of cars with color white in similar proportion : over 41% ,followed by black and red in terms of numbers.<br>\n",
    "When we compared with the prices the color black again is more expensive than the other colors with a mean price at 16271 and median around 16000 but this time the color white takes the second position in term of price with a mean price around 14556 and median 12000."
   ]
  },
  {
   "cell_type": "markdown",
   "metadata": {},
   "source": [
    "**Conclusion**<br>\n",
    "**In this last part we studied what factors impact the most the price of car.<br>\n",
    "First we were focused on the quantitative variables such as car age,mileage and then it was more about the categorical variables such as condition, transmission type and color.<br>\n",
    "We were able to work on the 2 most popular cars gathering the greatest number of ads :ford f-150 and chevrolet silverado.<br>\n",
    "It is true  to say that all those factors influence the price at different levels as we saw earlier.<br>\n",
    "Overall to get the most of it a car has to be automatic and black,  relatively new in term of age  less than 5 years with a low mileage , very well maintained with ideally condition 4.**<br>\n"
   ]
  },
  {
   "cell_type": "markdown",
   "metadata": {},
   "source": [
    "<div class=\"alert alert-block alert-warning\">\n",
    "    \n",
    "### Reviewer's comment\n",
    "    \n",
    "\n",
    "WOW! It's one of the most detailed reports that I've seen in this project! It's really awesome! You are great at using plots and you make right conclusions based on them!\n",
    "\n",
    "Here is one tricky moment: you've based analysis on several car models - Ford F-150 and Chevy Silverado. Actually, both of them are trucks/pickups. It's might be better to make our analysis based on car TYPES rather then based on car MODELS. For example: sedan vs. SUV, or sedan vs. SUV vs. truck. It will allow us to understand the nature of pricing more deeply.\n",
    "\n",
    "</div>"
   ]
  },
  {
   "cell_type": "markdown",
   "metadata": {},
   "source": [
    "# Step 5. Overall conclusion"
   ]
  },
  {
   "cell_type": "markdown",
   "metadata": {},
   "source": [
    "This research on car sales ads was very interesting because we made use of several tools and methods to tackle the issues we were facing.<br>\n",
    "The orginal file contained a lot of missing data and we tried to stick to reality and authenticity to fill in these gaps accordingly and sometimes to leave them as original to see if it affects severely the outcome.\n",
    "For that purpose we used the technique of implementation that was the most appropriate to our case.<br>\n",
    "During the preprocessing we were in the obligation to change the datatype of some columns in order to be able to perform some operations later on in the analysis process.<br>\n",
    "This preparation work enabled us to perform some calculations and add some essential new columns in the file:\n",
    "* avg mil\n",
    "* car age when listed\n",
    "* year\n",
    "* month\n",
    "* dayweek<br>\n",
    "\n",
    "Those columns have helped us to go further into the analysis and provide some data visualization with histograms ,scatterplot,box counts and plotbox. <br>\n",
    "\n",
    "We were sucessfully able to identify the lifetime cycle of a typical ad and identify the potential reasons behind some unusual features.<br>\n",
    "We defined 5 stages in the lifetime cycle of an ad:\n",
    "* introduction (between 1 and 5 days)<br>\n",
    "* growth (between 6 and 40 days)<br>\n",
    "* maturity ( between 41 and 100 days)<br>\n",
    "* saturation stage (between 101 days and 150 days)<br>\n",
    "* decline (after 151 days)<br>\n",
    "Some of the most in demand models could find a buyer in just a couple of few weeks, while other vehicles can sit on car park for months before they are sold.<br>\n",
    "\n",
    "Through those graphs we managed to understand and highlight the trends ,outliers and potential correlations that affect the car's price.<br>\n",
    "First we highlighted a negative correlation between price and age : as the price increases, the age decreases.<br>\n",
    "Then we had also a medium positive correlation between price and condition with an increase in the price along with a better car's condition especially in category (2): good and (3): excellent.<br>\n",
    "Finally we found more cars with automatic transmission and they are more expensive than the manual.<br>\n",
    "\n",
    "\n",
    "At the end of the study it was more a focus on single elements to see to dig deeper and see if the gross trends were verified.<br>We were able to apply some filters and extract the information needed to continue our research.<br>\n",
    "**We concluded that the most popular car's color doesn't necessarily impact the final car's price as such. <br>\n",
    "Overall to get the most of it a car has to be automatic ,black and relatively new in term of age less than 5 years with a low mileage , very well maintained with ideally condition (4) :like new.**\n",
    "\n",
    "Now in this context of pandemic, the consumer behaviors have changed towards the use of the car, it turns out that many people are working from home and no longer use the car as before.<br>\n",
    "This is the reason why most likely people will keep their car longer in the future and it is expected that the average car's age will increase condiderably in the next years. <br>\n",
    "\n",
    "Will it be at the expense of \"cleaner and greener cars\"?  \n",
    "What will be then the impact on the environment and the economy in general?\n",
    "\n",
    "James Woolsey said once:\"We aren't addicted to oil, but our cars are.\"\n",
    "\n"
   ]
  },
  {
   "cell_type": "markdown",
   "metadata": {},
   "source": [
    "<div class=\"alert alert-block alert-success\">\n",
    "    \n",
    "### Reviewer's comment v2\n",
    "    \n",
    "It's perfect overall conclusion now! You've done really great job and your project has been accepted! Good luck and have fun!\n",
    "\n",
    "\n",
    "\n",
    "</div>"
   ]
  },
  {
   "cell_type": "markdown",
   "metadata": {},
   "source": []
  }
 ],
 "metadata": {
  "kernelspec": {
   "display_name": "Python 3",
   "language": "python",
   "name": "python3"
  },
  "language_info": {
   "codemirror_mode": {
    "name": "ipython",
    "version": 3
   },
   "file_extension": ".py",
   "mimetype": "text/x-python",
   "name": "python",
   "nbconvert_exporter": "python",
   "pygments_lexer": "ipython3",
   "version": "3.8.3"
  },
  "toc": {
   "base_numbering": 1,
   "nav_menu": {},
   "number_sections": false,
   "sideBar": false,
   "skip_h1_title": false,
   "title_cell": "Table of Contents",
   "title_sidebar": "Contents",
   "toc_cell": true,
   "toc_position": {},
   "toc_section_display": false,
   "toc_window_display": false
  }
 },
 "nbformat": 4,
 "nbformat_minor": 2
}
