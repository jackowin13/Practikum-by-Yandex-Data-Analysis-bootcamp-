{
 "cells": [
  {
   "cell_type": "markdown",
   "metadata": {},
   "source": [
    " \n",
    "<div class=\"alert alert-success\">\n",
    "<b>General feedback v.1</b>\n",
    "    \n",
    " We reviewed your work, and it looks like a true A+. It was a pleasure to review your project. I especially liked the design of the project and your conclusions with additional information! Glad to say that your project has been accepted. I left some comments that probably be useful for you.\n",
    "\n",
    "    \n",
    "<br>\n",
    "Good going!\n",
    "</div>\n",
    "\n",
    "---   "
   ]
  },
  {
   "cell_type": "markdown",
   "metadata": {},
   "source": [
    "<font size=\"4\">**Working with Data in Python**</font><br>\n"
   ]
  },
  {
   "cell_type": "markdown",
   "metadata": {},
   "source": [
    "**Introduction** <br>\n",
    "The goal of this project is to perform an Exploratory data analysis from a data set at first and then testing and  making some inferences through hypotheses.  \n"
   ]
  },
  {
   "cell_type": "markdown",
   "metadata": {},
   "source": [
    "## <u>**Exploratory data analysis**</u><br>\n",
    "In addition to the data you retrieved in the previous tasks, you've been given a second file.<br> \n",
    " You now have these two CSVs:<br>\n",
    " \n",
    "**project_sql_result_01.csv.** It contains the following data:\n",
    "* **company_name**: taxi company name \n",
    "* **trips_amount**: the number of rides for each taxi company on November 15-16, 2017 <br>\n",
    " \n",
    "**project_sql_result_04.csv.** It contains the following data:\n",
    "* **dropoff_location_name**: Chicago neighborhoods where rides ended\n",
    "* **average_trips**: the average number of rides that ended in each neighborhood in November 2017.<br>\n",
    " \n",
    "For these two datasets you now need to :\n",
    "- import the files\n",
    "- study the data they contain\n",
    "- make sure the data types are correct\n",
    "- identify the top 10 neighborhoods in terms of drop-offs\n",
    "- make graphs: taxi companies and number of rides, top 10 neighborhoods by number of dropoffs\n",
    "- draw conclusions based on each graph and explain the results"
   ]
  },
  {
   "cell_type": "markdown",
   "metadata": {},
   "source": [
    "<div class=\"alert alert-success\" role=\"alert\">\n",
    "<b>Reviewer's comment v.1</b>\n",
    "\n",
    "Good start! We have the project and data description, the main goal, the table of contents.\n",
    "</div>"
   ]
  },
  {
   "cell_type": "markdown",
   "metadata": {},
   "source": [
    "### <u>**Open the data file and study the general information.**</u> "
   ]
  },
  {
   "cell_type": "code",
   "execution_count": 1,
   "metadata": {},
   "outputs": [],
   "source": [
    "#import librairies\n",
    "import pandas as pd\n",
    "from IPython.display import display\n",
    "import matplotlib.pyplot as plt\n",
    "import seaborn as sns\n",
    "from scipy import stats"
   ]
  },
  {
   "cell_type": "markdown",
   "metadata": {},
   "source": [
    "<div class=\"alert alert-warning\" role=\"alert\">\n",
    "<b>Reviewer's comment v.1</b> \n",
    "    \n",
    "As a recommendation: it is good practice when the first cell contains all imports used in this project are collected here without any code. This might help: <a href=\"https://www.python.org/dev/peps/pep-0008/#imports\">PEP 8 - Style Guide for Python Code</a> \n",
    "</div>"
   ]
  },
  {
   "cell_type": "code",
   "execution_count": 2,
   "metadata": {},
   "outputs": [
    {
     "name": "stdout",
     "output_type": "stream",
     "text": [
      "<class 'pandas.core.frame.DataFrame'>\n",
      "RangeIndex: 64 entries, 0 to 63\n",
      "Data columns (total 2 columns):\n",
      "company_name    64 non-null object\n",
      "trips_amount    64 non-null int64\n",
      "dtypes: int64(1), object(1)\n",
      "memory usage: 1.1+ KB\n",
      "----------- Overall shape of dataframe ------\n",
      "64 rows and 2 columns\n",
      "----------- Missing values ------------------\n",
      "company_name    0\n",
      "trips_amount    0\n",
      "dtype: int64\n"
     ]
    },
    {
     "data": {
      "text/html": [
       "<div>\n",
       "<style scoped>\n",
       "    .dataframe tbody tr th:only-of-type {\n",
       "        vertical-align: middle;\n",
       "    }\n",
       "\n",
       "    .dataframe tbody tr th {\n",
       "        vertical-align: top;\n",
       "    }\n",
       "\n",
       "    .dataframe thead th {\n",
       "        text-align: right;\n",
       "    }\n",
       "</style>\n",
       "<table border=\"1\" class=\"dataframe\">\n",
       "  <thead>\n",
       "    <tr style=\"text-align: right;\">\n",
       "      <th></th>\n",
       "      <th>company_name</th>\n",
       "      <th>trips_amount</th>\n",
       "    </tr>\n",
       "  </thead>\n",
       "  <tbody>\n",
       "    <tr>\n",
       "      <td>0</td>\n",
       "      <td>Flash Cab</td>\n",
       "      <td>19558</td>\n",
       "    </tr>\n",
       "    <tr>\n",
       "      <td>1</td>\n",
       "      <td>Taxi Affiliation Services</td>\n",
       "      <td>11422</td>\n",
       "    </tr>\n",
       "    <tr>\n",
       "      <td>2</td>\n",
       "      <td>Medallion Leasing</td>\n",
       "      <td>10367</td>\n",
       "    </tr>\n",
       "    <tr>\n",
       "      <td>3</td>\n",
       "      <td>Yellow Cab</td>\n",
       "      <td>9888</td>\n",
       "    </tr>\n",
       "    <tr>\n",
       "      <td>4</td>\n",
       "      <td>Taxi Affiliation Service Yellow</td>\n",
       "      <td>9299</td>\n",
       "    </tr>\n",
       "    <tr>\n",
       "      <td>5</td>\n",
       "      <td>Chicago Carriage Cab Corp</td>\n",
       "      <td>9181</td>\n",
       "    </tr>\n",
       "    <tr>\n",
       "      <td>6</td>\n",
       "      <td>City Service</td>\n",
       "      <td>8448</td>\n",
       "    </tr>\n",
       "    <tr>\n",
       "      <td>7</td>\n",
       "      <td>Sun Taxi</td>\n",
       "      <td>7701</td>\n",
       "    </tr>\n",
       "    <tr>\n",
       "      <td>8</td>\n",
       "      <td>Star North Management LLC</td>\n",
       "      <td>7455</td>\n",
       "    </tr>\n",
       "    <tr>\n",
       "      <td>9</td>\n",
       "      <td>Blue Ribbon Taxi Association Inc.</td>\n",
       "      <td>5953</td>\n",
       "    </tr>\n",
       "  </tbody>\n",
       "</table>\n",
       "</div>"
      ],
      "text/plain": [
       "                        company_name  trips_amount\n",
       "0                          Flash Cab         19558\n",
       "1          Taxi Affiliation Services         11422\n",
       "2                  Medallion Leasing         10367\n",
       "3                         Yellow Cab          9888\n",
       "4    Taxi Affiliation Service Yellow          9299\n",
       "5          Chicago Carriage Cab Corp          9181\n",
       "6                       City Service          8448\n",
       "7                           Sun Taxi          7701\n",
       "8          Star North Management LLC          7455\n",
       "9  Blue Ribbon Taxi Association Inc.          5953"
      ]
     },
     "metadata": {},
     "output_type": "display_data"
    },
    {
     "data": {
      "text/html": [
       "<div>\n",
       "<style scoped>\n",
       "    .dataframe tbody tr th:only-of-type {\n",
       "        vertical-align: middle;\n",
       "    }\n",
       "\n",
       "    .dataframe tbody tr th {\n",
       "        vertical-align: top;\n",
       "    }\n",
       "\n",
       "    .dataframe thead th {\n",
       "        text-align: right;\n",
       "    }\n",
       "</style>\n",
       "<table border=\"1\" class=\"dataframe\">\n",
       "  <thead>\n",
       "    <tr style=\"text-align: right;\">\n",
       "      <th></th>\n",
       "      <th>company_name</th>\n",
       "      <th>trips_amount</th>\n",
       "    </tr>\n",
       "  </thead>\n",
       "  <tbody>\n",
       "    <tr>\n",
       "      <td>54</td>\n",
       "      <td>2192 - 73487 Zeymane Corp</td>\n",
       "      <td>14</td>\n",
       "    </tr>\n",
       "    <tr>\n",
       "      <td>55</td>\n",
       "      <td>6057 - 24657 Richard Addo</td>\n",
       "      <td>13</td>\n",
       "    </tr>\n",
       "    <tr>\n",
       "      <td>56</td>\n",
       "      <td>5997 - 65283 AW Services Inc.</td>\n",
       "      <td>12</td>\n",
       "    </tr>\n",
       "    <tr>\n",
       "      <td>57</td>\n",
       "      <td>Metro Group</td>\n",
       "      <td>11</td>\n",
       "    </tr>\n",
       "    <tr>\n",
       "      <td>58</td>\n",
       "      <td>5062 - 34841 Sam Mestas</td>\n",
       "      <td>8</td>\n",
       "    </tr>\n",
       "    <tr>\n",
       "      <td>59</td>\n",
       "      <td>4053 - 40193 Adwar H. Nikola</td>\n",
       "      <td>7</td>\n",
       "    </tr>\n",
       "    <tr>\n",
       "      <td>60</td>\n",
       "      <td>2733 - 74600 Benny Jona</td>\n",
       "      <td>7</td>\n",
       "    </tr>\n",
       "    <tr>\n",
       "      <td>61</td>\n",
       "      <td>5874 - 73628 Sergey Cab Corp.</td>\n",
       "      <td>5</td>\n",
       "    </tr>\n",
       "    <tr>\n",
       "      <td>62</td>\n",
       "      <td>2241 - 44667 - Felman Corp</td>\n",
       "      <td>3</td>\n",
       "    </tr>\n",
       "    <tr>\n",
       "      <td>63</td>\n",
       "      <td>3556 - 36214 RC Andrews Cab</td>\n",
       "      <td>2</td>\n",
       "    </tr>\n",
       "  </tbody>\n",
       "</table>\n",
       "</div>"
      ],
      "text/plain": [
       "                     company_name  trips_amount\n",
       "54      2192 - 73487 Zeymane Corp            14\n",
       "55      6057 - 24657 Richard Addo            13\n",
       "56  5997 - 65283 AW Services Inc.            12\n",
       "57                    Metro Group            11\n",
       "58        5062 - 34841 Sam Mestas             8\n",
       "59   4053 - 40193 Adwar H. Nikola             7\n",
       "60        2733 - 74600 Benny Jona             7\n",
       "61  5874 - 73628 Sergey Cab Corp.             5\n",
       "62     2241 - 44667 - Felman Corp             3\n",
       "63    3556 - 36214 RC Andrews Cab             2"
      ]
     },
     "metadata": {},
     "output_type": "display_data"
    }
   ],
   "source": [
    "# Study of 1st file \n",
    "result1 = pd.read_csv('/datasets/project_sql_result_01.csv')\n",
    "result1.info()\n",
    "print('----------- Overall shape of dataframe ------')\n",
    "print(f\"{result1.shape[0]} rows and {result1.shape[1]} columns\")\n",
    "print('----------- Missing values ------------------')\n",
    "#missing values check\n",
    "print(result1.isnull().sum() )\n",
    "\n",
    "display (result1.head(10))\n",
    "\n",
    "display (result1.tail(10))"
   ]
  },
  {
   "cell_type": "code",
   "execution_count": 3,
   "metadata": {},
   "outputs": [
    {
     "data": {
      "text/plain": [
       "0    14.243578\n",
       "1     8.318343\n",
       "2     7.550014\n",
       "3     7.201171\n",
       "4     6.772218\n",
       "Name: percent, dtype: float64"
      ]
     },
     "metadata": {},
     "output_type": "display_data"
    },
    {
     "data": {
      "text/plain": [
       "59    0.005098\n",
       "60    0.005098\n",
       "61    0.003641\n",
       "62    0.002185\n",
       "63    0.001457\n",
       "Name: percent, dtype: float64"
      ]
     },
     "metadata": {},
     "output_type": "display_data"
    }
   ],
   "source": [
    "result1['percent'] = (result1['trips_amount'] / result1['trips_amount'].sum()) * 100\n",
    "\n",
    "display (result1['percent'].head(5))\n",
    "\n",
    "display (result1['percent'].tail(5))\n",
    "\n",
    " "
   ]
  },
  {
   "cell_type": "markdown",
   "metadata": {},
   "source": [
    "In this file we have 64 rows and 2 columns , no missing data and the data type seems correct with :<br>\n",
    "* company_name :    non-null object\n",
    "* trips_amount :    non-null int64 <br>\n",
    "\n",
    "In the top 3 :\n",
    "* **Flash cab** has the most of trips records with 19558 which is **14.2 %** of all values \n",
    "* **Taxi Affiliation Services** with 11422 which is **8.3 %** of all values \n",
    "* **Medallion Leasing** with 10367 which is **7.5 %** of all values \n",
    "\n",
    "At the bottom , we have some companies with  very low values representing less than 1%\n",
    "\n"
   ]
  },
  {
   "cell_type": "markdown",
   "metadata": {},
   "source": [
    "<div class=\"alert alert-block alert-success\">\n",
    "<b>Reviewer's comment v.1</b> \n",
    "    \n",
    "Good work! The first dataframe was opened and described!</div>"
   ]
  },
  {
   "cell_type": "code",
   "execution_count": 4,
   "metadata": {},
   "outputs": [
    {
     "name": "stdout",
     "output_type": "stream",
     "text": [
      "<class 'pandas.core.frame.DataFrame'>\n",
      "RangeIndex: 94 entries, 0 to 93\n",
      "Data columns (total 2 columns):\n",
      "dropoff_location_name    94 non-null object\n",
      "average_trips            94 non-null float64\n",
      "dtypes: float64(1), object(1)\n",
      "memory usage: 1.6+ KB\n",
      "----------Overall shape of dataframe----\n",
      "94 rows and 2 columns\n",
      "-----------Missing values------------------\n",
      "dropoff_location_name    0\n",
      "average_trips            0\n",
      "dtype: int64\n"
     ]
    },
    {
     "data": {
      "text/html": [
       "<div>\n",
       "<style scoped>\n",
       "    .dataframe tbody tr th:only-of-type {\n",
       "        vertical-align: middle;\n",
       "    }\n",
       "\n",
       "    .dataframe tbody tr th {\n",
       "        vertical-align: top;\n",
       "    }\n",
       "\n",
       "    .dataframe thead th {\n",
       "        text-align: right;\n",
       "    }\n",
       "</style>\n",
       "<table border=\"1\" class=\"dataframe\">\n",
       "  <thead>\n",
       "    <tr style=\"text-align: right;\">\n",
       "      <th></th>\n",
       "      <th>dropoff_location_name</th>\n",
       "      <th>average_trips</th>\n",
       "    </tr>\n",
       "  </thead>\n",
       "  <tbody>\n",
       "    <tr>\n",
       "      <td>0</td>\n",
       "      <td>Loop</td>\n",
       "      <td>10727.466667</td>\n",
       "    </tr>\n",
       "    <tr>\n",
       "      <td>1</td>\n",
       "      <td>River North</td>\n",
       "      <td>9523.666667</td>\n",
       "    </tr>\n",
       "    <tr>\n",
       "      <td>2</td>\n",
       "      <td>Streeterville</td>\n",
       "      <td>6664.666667</td>\n",
       "    </tr>\n",
       "    <tr>\n",
       "      <td>3</td>\n",
       "      <td>West Loop</td>\n",
       "      <td>5163.666667</td>\n",
       "    </tr>\n",
       "    <tr>\n",
       "      <td>4</td>\n",
       "      <td>O'Hare</td>\n",
       "      <td>2546.900000</td>\n",
       "    </tr>\n",
       "    <tr>\n",
       "      <td>5</td>\n",
       "      <td>Lake View</td>\n",
       "      <td>2420.966667</td>\n",
       "    </tr>\n",
       "    <tr>\n",
       "      <td>6</td>\n",
       "      <td>Grant Park</td>\n",
       "      <td>2068.533333</td>\n",
       "    </tr>\n",
       "    <tr>\n",
       "      <td>7</td>\n",
       "      <td>Museum Campus</td>\n",
       "      <td>1510.000000</td>\n",
       "    </tr>\n",
       "    <tr>\n",
       "      <td>8</td>\n",
       "      <td>Gold Coast</td>\n",
       "      <td>1364.233333</td>\n",
       "    </tr>\n",
       "    <tr>\n",
       "      <td>9</td>\n",
       "      <td>Sheffield &amp; DePaul</td>\n",
       "      <td>1259.766667</td>\n",
       "    </tr>\n",
       "  </tbody>\n",
       "</table>\n",
       "</div>"
      ],
      "text/plain": [
       "  dropoff_location_name  average_trips\n",
       "0                  Loop   10727.466667\n",
       "1           River North    9523.666667\n",
       "2         Streeterville    6664.666667\n",
       "3             West Loop    5163.666667\n",
       "4                O'Hare    2546.900000\n",
       "5             Lake View    2420.966667\n",
       "6            Grant Park    2068.533333\n",
       "7         Museum Campus    1510.000000\n",
       "8            Gold Coast    1364.233333\n",
       "9    Sheffield & DePaul    1259.766667"
      ]
     },
     "metadata": {},
     "output_type": "display_data"
    },
    {
     "data": {
      "text/html": [
       "<div>\n",
       "<style scoped>\n",
       "    .dataframe tbody tr th:only-of-type {\n",
       "        vertical-align: middle;\n",
       "    }\n",
       "\n",
       "    .dataframe tbody tr th {\n",
       "        vertical-align: top;\n",
       "    }\n",
       "\n",
       "    .dataframe thead th {\n",
       "        text-align: right;\n",
       "    }\n",
       "</style>\n",
       "<table border=\"1\" class=\"dataframe\">\n",
       "  <thead>\n",
       "    <tr style=\"text-align: right;\">\n",
       "      <th></th>\n",
       "      <th>dropoff_location_name</th>\n",
       "      <th>average_trips</th>\n",
       "    </tr>\n",
       "  </thead>\n",
       "  <tbody>\n",
       "    <tr>\n",
       "      <td>84</td>\n",
       "      <td>West Pullman</td>\n",
       "      <td>6.466667</td>\n",
       "    </tr>\n",
       "    <tr>\n",
       "      <td>85</td>\n",
       "      <td>Montclare</td>\n",
       "      <td>5.766667</td>\n",
       "    </tr>\n",
       "    <tr>\n",
       "      <td>86</td>\n",
       "      <td>West Elsdon</td>\n",
       "      <td>5.666667</td>\n",
       "    </tr>\n",
       "    <tr>\n",
       "      <td>87</td>\n",
       "      <td>Pullman</td>\n",
       "      <td>3.896552</td>\n",
       "    </tr>\n",
       "    <tr>\n",
       "      <td>88</td>\n",
       "      <td>Undef</td>\n",
       "      <td>3.800000</td>\n",
       "    </tr>\n",
       "    <tr>\n",
       "      <td>89</td>\n",
       "      <td>Mount Greenwood</td>\n",
       "      <td>3.137931</td>\n",
       "    </tr>\n",
       "    <tr>\n",
       "      <td>90</td>\n",
       "      <td>Hegewisch</td>\n",
       "      <td>3.117647</td>\n",
       "    </tr>\n",
       "    <tr>\n",
       "      <td>91</td>\n",
       "      <td>Burnside</td>\n",
       "      <td>2.333333</td>\n",
       "    </tr>\n",
       "    <tr>\n",
       "      <td>92</td>\n",
       "      <td>East Side</td>\n",
       "      <td>1.961538</td>\n",
       "    </tr>\n",
       "    <tr>\n",
       "      <td>93</td>\n",
       "      <td>Riverdale</td>\n",
       "      <td>1.800000</td>\n",
       "    </tr>\n",
       "  </tbody>\n",
       "</table>\n",
       "</div>"
      ],
      "text/plain": [
       "   dropoff_location_name  average_trips\n",
       "84          West Pullman       6.466667\n",
       "85             Montclare       5.766667\n",
       "86           West Elsdon       5.666667\n",
       "87               Pullman       3.896552\n",
       "88                 Undef       3.800000\n",
       "89       Mount Greenwood       3.137931\n",
       "90             Hegewisch       3.117647\n",
       "91              Burnside       2.333333\n",
       "92             East Side       1.961538\n",
       "93             Riverdale       1.800000"
      ]
     },
     "metadata": {},
     "output_type": "display_data"
    }
   ],
   "source": [
    "# Study of 2nd file \n",
    "result2 = pd.read_csv('/datasets/project_sql_result_04.csv')\n",
    "result2.info()\n",
    "print('----------Overall shape of dataframe----')\n",
    " \n",
    "print(f\"{result2.shape[0]} rows and {result2.shape[1]} columns\")\n",
    "\n",
    "print('-----------Missing values------------------')\n",
    "#missing values check\n",
    "print(result2.isnull().sum() )\n",
    "\n",
    " \n",
    "display (result2.head(10))\n",
    "\n",
    "display (result2.tail(10))"
   ]
  },
  {
   "cell_type": "code",
   "execution_count": 5,
   "metadata": {},
   "outputs": [
    {
     "data": {
      "text/html": [
       "<div>\n",
       "<style scoped>\n",
       "    .dataframe tbody tr th:only-of-type {\n",
       "        vertical-align: middle;\n",
       "    }\n",
       "\n",
       "    .dataframe tbody tr th {\n",
       "        vertical-align: top;\n",
       "    }\n",
       "\n",
       "    .dataframe thead th {\n",
       "        text-align: right;\n",
       "    }\n",
       "</style>\n",
       "<table border=\"1\" class=\"dataframe\">\n",
       "  <thead>\n",
       "    <tr style=\"text-align: right;\">\n",
       "      <th></th>\n",
       "      <th>dropoff_location_name</th>\n",
       "      <th>average_trips</th>\n",
       "    </tr>\n",
       "  </thead>\n",
       "  <tbody>\n",
       "    <tr>\n",
       "      <td>0</td>\n",
       "      <td>Loop</td>\n",
       "      <td>10727</td>\n",
       "    </tr>\n",
       "    <tr>\n",
       "      <td>1</td>\n",
       "      <td>River North</td>\n",
       "      <td>9523</td>\n",
       "    </tr>\n",
       "    <tr>\n",
       "      <td>2</td>\n",
       "      <td>Streeterville</td>\n",
       "      <td>6664</td>\n",
       "    </tr>\n",
       "    <tr>\n",
       "      <td>3</td>\n",
       "      <td>West Loop</td>\n",
       "      <td>5163</td>\n",
       "    </tr>\n",
       "    <tr>\n",
       "      <td>4</td>\n",
       "      <td>O'Hare</td>\n",
       "      <td>2546</td>\n",
       "    </tr>\n",
       "    <tr>\n",
       "      <td>5</td>\n",
       "      <td>Lake View</td>\n",
       "      <td>2420</td>\n",
       "    </tr>\n",
       "    <tr>\n",
       "      <td>6</td>\n",
       "      <td>Grant Park</td>\n",
       "      <td>2068</td>\n",
       "    </tr>\n",
       "    <tr>\n",
       "      <td>7</td>\n",
       "      <td>Museum Campus</td>\n",
       "      <td>1510</td>\n",
       "    </tr>\n",
       "    <tr>\n",
       "      <td>8</td>\n",
       "      <td>Gold Coast</td>\n",
       "      <td>1364</td>\n",
       "    </tr>\n",
       "    <tr>\n",
       "      <td>9</td>\n",
       "      <td>Sheffield &amp; DePaul</td>\n",
       "      <td>1259</td>\n",
       "    </tr>\n",
       "  </tbody>\n",
       "</table>\n",
       "</div>"
      ],
      "text/plain": [
       "  dropoff_location_name  average_trips\n",
       "0                  Loop          10727\n",
       "1           River North           9523\n",
       "2         Streeterville           6664\n",
       "3             West Loop           5163\n",
       "4                O'Hare           2546\n",
       "5             Lake View           2420\n",
       "6            Grant Park           2068\n",
       "7         Museum Campus           1510\n",
       "8            Gold Coast           1364\n",
       "9    Sheffield & DePaul           1259"
      ]
     },
     "metadata": {},
     "output_type": "display_data"
    }
   ],
   "source": [
    "#removing decimal from trips amounts\n",
    "result2['average_trips']= result2['average_trips'].astype(int)\n",
    " \n",
    "display (result2.head(10))"
   ]
  },
  {
   "cell_type": "code",
   "execution_count": 6,
   "metadata": {},
   "outputs": [
    {
     "name": "stdout",
     "output_type": "stream",
     "text": [
      "0    19.036042\n",
      "1    16.899434\n",
      "2    11.825877\n",
      "3     9.162215\n",
      "4     4.518110\n",
      "Name: percent, dtype: float64\n",
      "--------------------------------\n",
      "89    0.005324\n",
      "90    0.005324\n",
      "91    0.003549\n",
      "92    0.001775\n",
      "93    0.001775\n",
      "Name: percent, dtype: float64\n"
     ]
    }
   ],
   "source": [
    "result2['percent'] = (result2['average_trips'] / result2['average_trips'].sum()) * 100\n",
    "\n",
    "print ((result2['percent'].head(5)))\n",
    "print ('--------------------------------')\n",
    "print ((result2['percent'].tail(5)))"
   ]
  },
  {
   "cell_type": "markdown",
   "metadata": {},
   "source": [
    "In this file we have 94 rows and 2 columns , no missing data and we have changed the datatype of average_trips\tfor calculation purpose from  float64 to int.\n",
    "In the top 3 :\n",
    "* **Loop** is the most popular drop off location  with  the highest average  trips records of 10727 which is **19.02 %** of all values \n",
    "* **River North** with 9523 which is **16.88 %** of all values \n",
    "* **Streeterville** with 6664 which is **11.8 %** of all values \n",
    "\n",
    "At the bottom  same as the previous file , we have locations  with  very low values representing less than 1%\n"
   ]
  },
  {
   "cell_type": "markdown",
   "metadata": {},
   "source": [
    "<div class=\"alert alert-success\">\n",
    "<b>Reviewer's comment v.1</b>\n",
    "    \n",
    "Good! As a recommendation: the `average_trips` has `float64` type, but for our analysis, we could use the `int` type here, for example, `int16`. We could use the `.astype('int16')` method. It would save resources if we worked with big data.\n",
    "</div>"
   ]
  },
  {
   "cell_type": "markdown",
   "metadata": {},
   "source": [
    "### <u>**Identification of the top 10 neighborhoods in terms of drop-offs.**</u> "
   ]
  },
  {
   "cell_type": "code",
   "execution_count": 7,
   "metadata": {},
   "outputs": [],
   "source": [
    "#extract top 10 largest results\n",
    "top_10_neighborhoods=result2.nlargest(10,'average_trips')\n",
    "#reset index for visual improvement \n",
    "top_10_neighborhoods.index = top_10_neighborhoods.index + 1\n",
    "top_10_neighborhoods\n",
    "\n",
    "top_10= result2['average_trips'].nlargest(10)"
   ]
  },
  {
   "cell_type": "markdown",
   "metadata": {},
   "source": [
    "* **The loop** is the most popular drop off location as it is indeed the central business district of the Chicago city gathering multiple retail establishments, restaurants, hotels, and theaters, as well as many of Chicago's most famous attractions.<br>\n",
    "<br>\n",
    "* **The river North** comes in second place, it is the city’s hottest nightlife places with trendy bars and clubs.<br>\n",
    "It is also  a place  for art and design lovers with  multiple art galleries and studios.<br>\n",
    "<br>\n",
    "* In third position we have **Streeterville** which displays  a combination of hotels, restaurants, professional office centers, residential venues, universities, medical facilities,cultural attractions and several consulates."
   ]
  },
  {
   "cell_type": "markdown",
   "metadata": {},
   "source": [
    "<div class=\"alert alert-success\">\n",
    "<b>Reviewer's comment v.1</b>\n",
    "    \n",
    "Excellent work! Perfect that you used the `.nlargest(10)` method. Thank you for additional information about Chicago's top locations!\n",
    "</div>"
   ]
  },
  {
   "cell_type": "markdown",
   "metadata": {},
   "source": [
    "### <u>**Visualization Using Pandas - top 10 neighborhoods by number of dropoffs**</u> "
   ]
  },
  {
   "cell_type": "code",
   "execution_count": 8,
   "metadata": {},
   "outputs": [
    {
     "data": {
      "image/png": "[encoded data removed]",
      "text/plain": [
       "<Figure size 576x360 with 1 Axes>"
      ]
     },
     "metadata": {},
     "output_type": "display_data"
    }
   ],
   "source": [
    "plt.rcParams.update({'font.size': 13})\n",
    "sns.set_style(\"dark\")\n",
    "sns.set_palette(\"rainbow\",10)\n",
    "top_10_neighborhoods.plot(kind=\"bar\",x = 'dropoff_location_name',figsize=(8,5),legend=True,width=1,edgecolor='black') \n",
    "plt.legend(['average trip'])\n",
    "plt.title('Top 10 neighborhoods by number of dropoffs')\n",
    "plt.xlabel(\"dropoff location name\")\n",
    "\n",
    "plt.ylabel(\"Avg number of dropoffs\");\n"
   ]
  },
  {
   "cell_type": "markdown",
   "metadata": {},
   "source": [
    "**In November 2017 Loop, River North, Streeterville were accounting for almost 50% (47.74%) of the most popular drop off locations in Chicago.**"
   ]
  },
  {
   "cell_type": "markdown",
   "metadata": {},
   "source": [
    "<div class=\"alert alert-success\">\n",
    "<b>Reviewer's comment v.1</b>\n",
    "    \n",
    "Nice graph!\n",
    "</div>"
   ]
  },
  {
   "cell_type": "markdown",
   "metadata": {},
   "source": [
    "### <u>**Visualization Using Pandas -  taxi companies and number of rides**</u> "
   ]
  },
  {
   "cell_type": "code",
   "execution_count": 9,
   "metadata": {},
   "outputs": [
    {
     "data": {
      "text/html": [
       "<div>\n",
       "<style scoped>\n",
       "    .dataframe tbody tr th:only-of-type {\n",
       "        vertical-align: middle;\n",
       "    }\n",
       "\n",
       "    .dataframe tbody tr th {\n",
       "        vertical-align: top;\n",
       "    }\n",
       "\n",
       "    .dataframe thead th {\n",
       "        text-align: right;\n",
       "    }\n",
       "</style>\n",
       "<table border=\"1\" class=\"dataframe\">\n",
       "  <thead>\n",
       "    <tr style=\"text-align: right;\">\n",
       "      <th></th>\n",
       "      <th>company_name</th>\n",
       "      <th>trips_amount</th>\n",
       "      <th>percent</th>\n",
       "    </tr>\n",
       "  </thead>\n",
       "  <tbody>\n",
       "    <tr>\n",
       "      <td>1</td>\n",
       "      <td>Flash Cab</td>\n",
       "      <td>19558</td>\n",
       "      <td>14.243578</td>\n",
       "    </tr>\n",
       "    <tr>\n",
       "      <td>2</td>\n",
       "      <td>Taxi Affiliation Services</td>\n",
       "      <td>11422</td>\n",
       "      <td>8.318343</td>\n",
       "    </tr>\n",
       "    <tr>\n",
       "      <td>3</td>\n",
       "      <td>Medallion Leasing</td>\n",
       "      <td>10367</td>\n",
       "      <td>7.550014</td>\n",
       "    </tr>\n",
       "    <tr>\n",
       "      <td>4</td>\n",
       "      <td>Yellow Cab</td>\n",
       "      <td>9888</td>\n",
       "      <td>7.201171</td>\n",
       "    </tr>\n",
       "    <tr>\n",
       "      <td>5</td>\n",
       "      <td>Taxi Affiliation Service Yellow</td>\n",
       "      <td>9299</td>\n",
       "      <td>6.772218</td>\n",
       "    </tr>\n",
       "    <tr>\n",
       "      <td>6</td>\n",
       "      <td>Chicago Carriage Cab Corp</td>\n",
       "      <td>9181</td>\n",
       "      <td>6.686282</td>\n",
       "    </tr>\n",
       "    <tr>\n",
       "      <td>7</td>\n",
       "      <td>City Service</td>\n",
       "      <td>8448</td>\n",
       "      <td>6.152457</td>\n",
       "    </tr>\n",
       "    <tr>\n",
       "      <td>8</td>\n",
       "      <td>Sun Taxi</td>\n",
       "      <td>7701</td>\n",
       "      <td>5.608436</td>\n",
       "    </tr>\n",
       "    <tr>\n",
       "      <td>9</td>\n",
       "      <td>Star North Management LLC</td>\n",
       "      <td>7455</td>\n",
       "      <td>5.429281</td>\n",
       "    </tr>\n",
       "    <tr>\n",
       "      <td>10</td>\n",
       "      <td>Blue Ribbon Taxi Association Inc.</td>\n",
       "      <td>5953</td>\n",
       "      <td>4.335414</td>\n",
       "    </tr>\n",
       "  </tbody>\n",
       "</table>\n",
       "</div>"
      ],
      "text/plain": [
       "                         company_name  trips_amount    percent\n",
       "1                           Flash Cab         19558  14.243578\n",
       "2           Taxi Affiliation Services         11422   8.318343\n",
       "3                   Medallion Leasing         10367   7.550014\n",
       "4                          Yellow Cab          9888   7.201171\n",
       "5     Taxi Affiliation Service Yellow          9299   6.772218\n",
       "6           Chicago Carriage Cab Corp          9181   6.686282\n",
       "7                        City Service          8448   6.152457\n",
       "8                            Sun Taxi          7701   5.608436\n",
       "9           Star North Management LLC          7455   5.429281\n",
       "10  Blue Ribbon Taxi Association Inc.          5953   4.335414"
      ]
     },
     "execution_count": 9,
     "metadata": {},
     "output_type": "execute_result"
    }
   ],
   "source": [
    " # We are goig also to extract the top 10 taxi companies to narrow down the analysis\n",
    "top_10_taxi=result1.nlargest(10,'trips_amount')\n",
    "#reset index for visual improvement \n",
    "top_10_taxi.index = top_10_taxi.index + 1\n",
    "top_10_taxi\n"
   ]
  },
  {
   "cell_type": "code",
   "execution_count": 10,
   "metadata": {},
   "outputs": [
    {
     "data": {
      "image/png": "[encoded data removed]",
      "text/plain": [
       "<Figure size 576x360 with 1 Axes>"
      ]
     },
     "metadata": {},
     "output_type": "display_data"
    }
   ],
   "source": [
    "top_10_taxi.plot(kind=\"bar\",x = 'company_name',y='trips_amount', figsize=(8,5),legend=True,width=0.5,edgecolor='black') \n",
    "plt.legend(['number of rides'])\n",
    "plt.title('Taxi companies and number of rides')\n",
    "plt.xlabel(\"Taxi companies names\")\n",
    "plt.ylabel(\"Number of rides\")\n",
    "plt.grid(True, which='both');"
   ]
  },
  {
   "cell_type": "markdown",
   "metadata": {},
   "source": [
    "**Flash Cab, taxi Affiliation Services and Medallion Leasing were the Top 3 taxi companies with the highest number of rides on November 15-16, 2017 accounting for 30 % of the total number of rides.<br>\n",
    "Flash Cab is leading confortably with 52% difference with  taxi Affiliation  and over 61% with Medallion Leasing.**\n"
   ]
  },
  {
   "cell_type": "markdown",
   "metadata": {},
   "source": [
    "### <u>**Conclusion**</u> \n",
    "Overall we had a clean dataset with no missing values and we didn't perform many changes in the format except for of average_trips for calculation purpose from float64 to int. <br>\n",
    "\n",
    "Loop, River North, Streeterville were accounting for almost 50% of the most popular drop off locations in Chicago.<br>\n",
    "\n",
    "Those locations are very attractive due to the fact they either have lots of restaurants,hotels,clubs,central business places or cultural venues.<br>\n",
    "\n",
    "Regarding Taxi companies and number of rides, Flash Cab is the number one and  has recorded itself 19558 trips which is 14.24% of whole total number of rides during that period.<br>\n",
    "\n",
    "Flash Cab, taxi Affiliation Services and Medallion Leasing were the Top 3 taxi companies with the highest number of rides on November 15-16, 2017 accounting for 30 % of the total number of rides.<br>\n",
    "\n",
    "Flash Cab has a long history in the market as they are established since 1945 and possess a large fleet of vehicules.\n",
    "They have solidifed their place in the industry and expanded by acquiring smaller cab companies over the time.<br>\n",
    "\n"
   ]
  },
  {
   "cell_type": "markdown",
   "metadata": {},
   "source": [
    "<div class=\"alert alert-success\">\n",
    "<b>Reviewer's comment v.1</b>\n",
    "    \n",
    "The excellent part of the project!\n",
    "</div>"
   ]
  },
  {
   "cell_type": "markdown",
   "metadata": {},
   "source": [
    "## <u>**Testing hypotheses (Python)**</u><br>"
   ]
  },
  {
   "cell_type": "markdown",
   "metadata": {},
   "source": [
    "/datasets/project_sql_result_07.csv — the result of the last query. <br> \n",
    "It contains data on rides from the Loop to O'Hare International Airport. <br>\n",
    "\n",
    "Remember, these are the table's field values: <br>\n",
    "* **start_ts:** pickup date and time\n",
    "* **weather_conditions:** weather conditions at the moment the ride started\n",
    "* **duration_seconds:** ride duration in seconds\n",
    "\n",
    "<u>Test the hypothesis:</u><br>\n",
    "**\"The average duration of rides from the Loop to O'Hare International Airport changes on rainy Saturdays.\"** <br>\n",
    "Decide where to set the significance level (alpha) on your own.<br>\n",
    "Explain:<br>\n",
    "* how you formed the null and alternative hypotheses\n",
    "* what criterion you used to test the hypotheses and why"
   ]
  },
  {
   "cell_type": "markdown",
   "metadata": {},
   "source": [
    "### <u>**Open the data file and study the general information**</u> "
   ]
  },
  {
   "cell_type": "code",
   "execution_count": 11,
   "metadata": {},
   "outputs": [
    {
     "name": "stdout",
     "output_type": "stream",
     "text": [
      "<class 'pandas.core.frame.DataFrame'>\n",
      "RangeIndex: 1068 entries, 0 to 1067\n",
      "Data columns (total 3 columns):\n",
      "start_ts              1068 non-null object\n",
      "weather_conditions    1068 non-null object\n",
      "duration_seconds      1068 non-null float64\n",
      "dtypes: float64(1), object(2)\n",
      "memory usage: 25.2+ KB\n",
      "----------- Overall shape of dataframe ------\n",
      "1068 rows and 3 columns\n",
      "----------- Missing values ------------------\n",
      "start_ts              0\n",
      "weather_conditions    0\n",
      "duration_seconds      0\n",
      "dtype: int64\n"
     ]
    },
    {
     "data": {
      "text/html": [
       "<div>\n",
       "<style scoped>\n",
       "    .dataframe tbody tr th:only-of-type {\n",
       "        vertical-align: middle;\n",
       "    }\n",
       "\n",
       "    .dataframe tbody tr th {\n",
       "        vertical-align: top;\n",
       "    }\n",
       "\n",
       "    .dataframe thead th {\n",
       "        text-align: right;\n",
       "    }\n",
       "</style>\n",
       "<table border=\"1\" class=\"dataframe\">\n",
       "  <thead>\n",
       "    <tr style=\"text-align: right;\">\n",
       "      <th></th>\n",
       "      <th>start_ts</th>\n",
       "      <th>weather_conditions</th>\n",
       "      <th>duration_seconds</th>\n",
       "    </tr>\n",
       "  </thead>\n",
       "  <tbody>\n",
       "    <tr>\n",
       "      <td>0</td>\n",
       "      <td>2017-11-25 16:00:00</td>\n",
       "      <td>Good</td>\n",
       "      <td>2410.0</td>\n",
       "    </tr>\n",
       "    <tr>\n",
       "      <td>1</td>\n",
       "      <td>2017-11-25 14:00:00</td>\n",
       "      <td>Good</td>\n",
       "      <td>1920.0</td>\n",
       "    </tr>\n",
       "    <tr>\n",
       "      <td>2</td>\n",
       "      <td>2017-11-25 12:00:00</td>\n",
       "      <td>Good</td>\n",
       "      <td>1543.0</td>\n",
       "    </tr>\n",
       "    <tr>\n",
       "      <td>3</td>\n",
       "      <td>2017-11-04 10:00:00</td>\n",
       "      <td>Good</td>\n",
       "      <td>2512.0</td>\n",
       "    </tr>\n",
       "    <tr>\n",
       "      <td>4</td>\n",
       "      <td>2017-11-11 07:00:00</td>\n",
       "      <td>Good</td>\n",
       "      <td>1440.0</td>\n",
       "    </tr>\n",
       "    <tr>\n",
       "      <td>5</td>\n",
       "      <td>2017-11-11 04:00:00</td>\n",
       "      <td>Good</td>\n",
       "      <td>1320.0</td>\n",
       "    </tr>\n",
       "    <tr>\n",
       "      <td>6</td>\n",
       "      <td>2017-11-04 16:00:00</td>\n",
       "      <td>Bad</td>\n",
       "      <td>2969.0</td>\n",
       "    </tr>\n",
       "    <tr>\n",
       "      <td>7</td>\n",
       "      <td>2017-11-18 11:00:00</td>\n",
       "      <td>Good</td>\n",
       "      <td>2280.0</td>\n",
       "    </tr>\n",
       "    <tr>\n",
       "      <td>8</td>\n",
       "      <td>2017-11-11 14:00:00</td>\n",
       "      <td>Good</td>\n",
       "      <td>2460.0</td>\n",
       "    </tr>\n",
       "    <tr>\n",
       "      <td>9</td>\n",
       "      <td>2017-11-11 12:00:00</td>\n",
       "      <td>Good</td>\n",
       "      <td>2040.0</td>\n",
       "    </tr>\n",
       "  </tbody>\n",
       "</table>\n",
       "</div>"
      ],
      "text/plain": [
       "              start_ts weather_conditions  duration_seconds\n",
       "0  2017-11-25 16:00:00               Good            2410.0\n",
       "1  2017-11-25 14:00:00               Good            1920.0\n",
       "2  2017-11-25 12:00:00               Good            1543.0\n",
       "3  2017-11-04 10:00:00               Good            2512.0\n",
       "4  2017-11-11 07:00:00               Good            1440.0\n",
       "5  2017-11-11 04:00:00               Good            1320.0\n",
       "6  2017-11-04 16:00:00                Bad            2969.0\n",
       "7  2017-11-18 11:00:00               Good            2280.0\n",
       "8  2017-11-11 14:00:00               Good            2460.0\n",
       "9  2017-11-11 12:00:00               Good            2040.0"
      ]
     },
     "metadata": {},
     "output_type": "display_data"
    },
    {
     "data": {
      "text/html": [
       "<div>\n",
       "<style scoped>\n",
       "    .dataframe tbody tr th:only-of-type {\n",
       "        vertical-align: middle;\n",
       "    }\n",
       "\n",
       "    .dataframe tbody tr th {\n",
       "        vertical-align: top;\n",
       "    }\n",
       "\n",
       "    .dataframe thead th {\n",
       "        text-align: right;\n",
       "    }\n",
       "</style>\n",
       "<table border=\"1\" class=\"dataframe\">\n",
       "  <thead>\n",
       "    <tr style=\"text-align: right;\">\n",
       "      <th></th>\n",
       "      <th>start_ts</th>\n",
       "      <th>weather_conditions</th>\n",
       "      <th>duration_seconds</th>\n",
       "    </tr>\n",
       "  </thead>\n",
       "  <tbody>\n",
       "    <tr>\n",
       "      <td>1058</td>\n",
       "      <td>2017-11-25 12:00:00</td>\n",
       "      <td>Good</td>\n",
       "      <td>1440.0</td>\n",
       "    </tr>\n",
       "    <tr>\n",
       "      <td>1059</td>\n",
       "      <td>2017-11-11 10:00:00</td>\n",
       "      <td>Good</td>\n",
       "      <td>1303.0</td>\n",
       "    </tr>\n",
       "    <tr>\n",
       "      <td>1060</td>\n",
       "      <td>2017-11-04 14:00:00</td>\n",
       "      <td>Good</td>\n",
       "      <td>2700.0</td>\n",
       "    </tr>\n",
       "    <tr>\n",
       "      <td>1061</td>\n",
       "      <td>2017-11-18 16:00:00</td>\n",
       "      <td>Bad</td>\n",
       "      <td>2186.0</td>\n",
       "    </tr>\n",
       "    <tr>\n",
       "      <td>1062</td>\n",
       "      <td>2017-11-11 06:00:00</td>\n",
       "      <td>Good</td>\n",
       "      <td>1500.0</td>\n",
       "    </tr>\n",
       "    <tr>\n",
       "      <td>1063</td>\n",
       "      <td>2017-11-25 11:00:00</td>\n",
       "      <td>Good</td>\n",
       "      <td>0.0</td>\n",
       "    </tr>\n",
       "    <tr>\n",
       "      <td>1064</td>\n",
       "      <td>2017-11-11 10:00:00</td>\n",
       "      <td>Good</td>\n",
       "      <td>1318.0</td>\n",
       "    </tr>\n",
       "    <tr>\n",
       "      <td>1065</td>\n",
       "      <td>2017-11-11 13:00:00</td>\n",
       "      <td>Good</td>\n",
       "      <td>2100.0</td>\n",
       "    </tr>\n",
       "    <tr>\n",
       "      <td>1066</td>\n",
       "      <td>2017-11-11 08:00:00</td>\n",
       "      <td>Good</td>\n",
       "      <td>1380.0</td>\n",
       "    </tr>\n",
       "    <tr>\n",
       "      <td>1067</td>\n",
       "      <td>2017-11-04 16:00:00</td>\n",
       "      <td>Bad</td>\n",
       "      <td>2834.0</td>\n",
       "    </tr>\n",
       "  </tbody>\n",
       "</table>\n",
       "</div>"
      ],
      "text/plain": [
       "                 start_ts weather_conditions  duration_seconds\n",
       "1058  2017-11-25 12:00:00               Good            1440.0\n",
       "1059  2017-11-11 10:00:00               Good            1303.0\n",
       "1060  2017-11-04 14:00:00               Good            2700.0\n",
       "1061  2017-11-18 16:00:00                Bad            2186.0\n",
       "1062  2017-11-11 06:00:00               Good            1500.0\n",
       "1063  2017-11-25 11:00:00               Good               0.0\n",
       "1064  2017-11-11 10:00:00               Good            1318.0\n",
       "1065  2017-11-11 13:00:00               Good            2100.0\n",
       "1066  2017-11-11 08:00:00               Good            1380.0\n",
       "1067  2017-11-04 16:00:00                Bad            2834.0"
      ]
     },
     "metadata": {},
     "output_type": "display_data"
    }
   ],
   "source": [
    "rides = pd.read_csv('/datasets/project_sql_result_07.csv')\n",
    "rides.info();\n",
    "print('----------- Overall shape of dataframe ------')\n",
    "print(f\"{rides.shape[0]} rows and {rides.shape[1]} columns\")\n",
    "print('----------- Missing values ------------------')\n",
    "#missing values check\n",
    "print(rides.isnull().sum() )\n",
    "\n",
    "display (rides.head(10))\n",
    "\n",
    "display (rides.tail(10))"
   ]
  },
  {
   "cell_type": "code",
   "execution_count": 12,
   "metadata": {},
   "outputs": [
    {
     "data": {
      "text/html": [
       "<div>\n",
       "<style scoped>\n",
       "    .dataframe tbody tr th:only-of-type {\n",
       "        vertical-align: middle;\n",
       "    }\n",
       "\n",
       "    .dataframe tbody tr th {\n",
       "        vertical-align: top;\n",
       "    }\n",
       "\n",
       "    .dataframe thead th {\n",
       "        text-align: right;\n",
       "    }\n",
       "</style>\n",
       "<table border=\"1\" class=\"dataframe\">\n",
       "  <thead>\n",
       "    <tr style=\"text-align: right;\">\n",
       "      <th></th>\n",
       "      <th>duration_seconds</th>\n",
       "    </tr>\n",
       "  </thead>\n",
       "  <tbody>\n",
       "    <tr>\n",
       "      <td>count</td>\n",
       "      <td>1068.000000</td>\n",
       "    </tr>\n",
       "    <tr>\n",
       "      <td>mean</td>\n",
       "      <td>2071.731273</td>\n",
       "    </tr>\n",
       "    <tr>\n",
       "      <td>std</td>\n",
       "      <td>769.461125</td>\n",
       "    </tr>\n",
       "    <tr>\n",
       "      <td>min</td>\n",
       "      <td>0.000000</td>\n",
       "    </tr>\n",
       "    <tr>\n",
       "      <td>25%</td>\n",
       "      <td>1438.250000</td>\n",
       "    </tr>\n",
       "    <tr>\n",
       "      <td>50%</td>\n",
       "      <td>1980.000000</td>\n",
       "    </tr>\n",
       "    <tr>\n",
       "      <td>75%</td>\n",
       "      <td>2580.000000</td>\n",
       "    </tr>\n",
       "    <tr>\n",
       "      <td>max</td>\n",
       "      <td>7440.000000</td>\n",
       "    </tr>\n",
       "  </tbody>\n",
       "</table>\n",
       "</div>"
      ],
      "text/plain": [
       "       duration_seconds\n",
       "count       1068.000000\n",
       "mean        2071.731273\n",
       "std          769.461125\n",
       "min            0.000000\n",
       "25%         1438.250000\n",
       "50%         1980.000000\n",
       "75%         2580.000000\n",
       "max         7440.000000"
      ]
     },
     "execution_count": 12,
     "metadata": {},
     "output_type": "execute_result"
    }
   ],
   "source": [
    "rides.describe()"
   ]
  },
  {
   "cell_type": "markdown",
   "metadata": {},
   "source": [
    "We have a file with 1068 rows and 3 columns , no missing values.<br>\n",
    "* **min duration** : 0\n",
    "* **max duration** : 7440\n",
    "* **mean** : 2071.73 \n",
    "\n",
    "We will need to change the format of the **start_ts** from non-null object to Pd-datetime to be able to extract more detailled information."
   ]
  },
  {
   "cell_type": "markdown",
   "metadata": {},
   "source": [
    "### <u>**Data preparation and visualization**</u> "
   ]
  },
  {
   "cell_type": "code",
   "execution_count": 13,
   "metadata": {},
   "outputs": [],
   "source": [
    "#converting start_ts from non-null object to Pd-datetime \n",
    "rides['start_ts']=pd.to_datetime(rides['start_ts'])"
   ]
  },
  {
   "cell_type": "code",
   "execution_count": 14,
   "metadata": {},
   "outputs": [
    {
     "data": {
      "image/png": "[encoded data removed]",
      "text/plain": [
       "<Figure size 432x288 with 1 Axes>"
      ]
     },
     "metadata": {},
     "output_type": "display_data"
    }
   ],
   "source": [
    "#Visualisation of Duration of rides in seconds'\n",
    "sns.kdeplot(rides['duration_seconds'],shade=True,legend=True) \n",
    "plt.xlabel('Nb of seconds')\n",
    "plt.title('Duration of rides in seconds')\n",
    "ax = plt.gca()\n",
    "ax.axes.yaxis.set_visible(False)"
   ]
  },
  {
   "cell_type": "markdown",
   "metadata": {},
   "source": [
    "We can see there is a peak around 2000 seconds because it is close to the median 1980s and the  mean which is 2071.73s . <br>\n",
    "Most of the values are between 1000 and 4000 seconds.<br>\n",
    "After 4000 seconds we start to distinguish the outliers.\n"
   ]
  },
  {
   "cell_type": "code",
   "execution_count": 15,
   "metadata": {},
   "outputs": [
    {
     "data": {
      "image/png": "[encoded data removed]",
      "text/plain": [
       "<Figure size 432x288 with 1 Axes>"
      ]
     },
     "metadata": {},
     "output_type": "display_data"
    }
   ],
   "source": [
    "# Further analysis of outliers \n",
    "sns.set(style=\"darkgrid\")\n",
    "sns.boxplot(rides['duration_seconds'],orient=\"h\",showmeans=True,meanprops={\"marker\":\"o\",\n",
    "                       \"markerfacecolor\":\"white\", \n",
    "                       \"markeredgecolor\":\"black\",\n",
    "                      \"markersize\":\"10\"})\n",
    "plt.xlabel(\"Nb of seconds \", size=14)\n",
    "plt.title(\"Boxplot of duration in seconds with mean mark\", size=14);\n"
   ]
  },
  {
   "cell_type": "markdown",
   "metadata": {},
   "source": [
    "Now we can clearly identify 2 groups of outliers after 4000 and after 6000 seconds.<br>\n",
    "\n",
    "Also we can identify the mean and median.<br>\n",
    "\n",
    "We have here a right skewed distribution.<br>\n"
   ]
  },
  {
   "cell_type": "markdown",
   "metadata": {},
   "source": [
    "#### <u>**Calculation of averages duration of rides on sunny Saturdays**<u>"
   ]
  },
  {
   "cell_type": "code",
   "execution_count": 16,
   "metadata": {},
   "outputs": [
    {
     "name": "stdout",
     "output_type": "stream",
     "text": [
      "number of rides with good weather on saturdays:  888\n",
      "average duration  of rides with good weather on saturdays:  1999.6756756756756\n"
     ]
    }
   ],
   "source": [
    "# we consider monday as value 0 so saturday = 5 \n",
    "# extract data where saturdays =    good weather \n",
    "rides_no_rain = rides[(rides['weather_conditions'] =='Good')&(rides['start_ts'].dt.weekday==5)] ['duration_seconds'].values   \n",
    "\n",
    "print(\"number of rides with good weather on saturdays: \",len (rides_no_rain))\n",
    "print(\"average duration  of rides with good weather on saturdays: \",rides_no_rain.mean())\n"
   ]
  },
  {
   "cell_type": "markdown",
   "metadata": {},
   "source": [
    "#### <u>**Calculation of averages duration of rides on rainy Saturdays**<u>"
   ]
  },
  {
   "cell_type": "code",
   "execution_count": 17,
   "metadata": {},
   "outputs": [
    {
     "name": "stdout",
     "output_type": "stream",
     "text": [
      "number of rides on rainy saturdays:  180\n",
      "average duration  of rides on rainy saturdays:   2427.2055555555557\n"
     ]
    }
   ],
   "source": [
    "# we consider monday as value 0 so saturday = 5 \n",
    "# extract data where saturdays =   rainy\n",
    "rides_bad = rides[(rides['weather_conditions'] =='Bad')&(rides['start_ts'].dt.weekday==5)] ['duration_seconds'].values  \n",
    "\n",
    "print(\"number of rides on rainy saturdays: \",len(rides_bad))\n",
    "print(\"average duration  of rides on rainy saturdays:  \",rides_bad.mean())\n"
   ]
  },
  {
   "cell_type": "markdown",
   "metadata": {},
   "source": [
    "#### <u>**Conclusion**<u>\n",
    "After calculation we observed a **higher number of number of rides with good weather on saturdays**:882 compared to rainy Saturdays with only **180** which is quite significant.<br>\n",
    "On the other side it seems that the **average duration of  rides on rainy saturdays is longer** 2427.205s than on saturdays with good weather  1999.67s, <br>**it represents an increase of 19%**.<br>"
   ]
  },
  {
   "cell_type": "markdown",
   "metadata": {},
   "source": [
    "<div class=\"alert alert-success\">\n",
    "<b>Reviewer's comment v.1</b>\n",
    "    \n",
    "Well done! Detailed data study.\n",
    "</div>"
   ]
  },
  {
   "cell_type": "markdown",
   "metadata": {},
   "source": [
    "### <u>**hypothesis**<u> \n",
    "**\"The average duration of rides from the Loop to O'Hare International Airport changes on rainy Saturdays.\"**<br>\n",
    "\n",
    "* Decide where to set the significance level (alpha) on your own.<br>\n",
    "    \n",
    "Explain:\n",
    "*  how you formed the null and alternative hypotheses?<br>\n",
    "* what criterion you used to test the hypotheses and why?"
   ]
  },
  {
   "cell_type": "markdown",
   "metadata": {},
   "source": [
    "#### <u>**Hypothesis formulation**<u>"
   ]
  },
  {
   "cell_type": "markdown",
   "metadata": {},
   "source": [
    "**research question** :\"The average duration of rides from the Loop to O'Hare International Airport changes on rainy Saturdays.\" <br>\n",
    "* If the p-value is less than 0.05, we reject the null hypothesis that there's no difference between the means and conclude that a significant difference does exist. <br>\n",
    "* If the p-value is larger than 0.05, we cannot conclude that a significant difference exists. <br>\n",
    "\n",
    "* p-value<α ⇒ reject H0 : accept H1<br> \n",
    "\n",
    "* p-value≥α ⇒ fail to reject H0 <br>\n",
    " \n",
    "\t\n",
    "**sample** => number of rides on rainy saturdays: **180** and number of rides with good weather on saturdays:**882** <br>\n",
    "**parameter of interest** =>  average duration of rides on rainy saturdays  and average duration of rides on sunny saturdays  <br>\n",
    "\n",
    "**(H0)null hypothesis** => The null hypothesis (H0) for the test is that  both average durations are the same.<br>\n",
    "H0:The average duration of rides from the Loop to O'Hare International Airport doesn't change on rainy Saturdays.<br>\n",
    "\n",
    "**(H1)alternative hypothesis** => The alternative hypothesis is that (H1)= average duration of rides on rainy saturdays differs from average duration of rides on sunny saturdays<br>\n",
    "H1 : The average duration of rides from the Loop to O'Hare International Airport changes on rainy Saturdays.\"\n",
    "\n",
    "<br>"
   ]
  },
  {
   "cell_type": "markdown",
   "metadata": {},
   "source": [
    "<div class=\"alert alert-success\">\n",
    "<b>Reviewer's comment v.1</b>\n",
    "    \n",
    "Brilliant! The hypotheses were formulated correctly!\n",
    "\n",
    "</div>"
   ]
  },
  {
   "cell_type": "markdown",
   "metadata": {},
   "source": [
    "#### <u>**Hypothesis testing**<u>"
   ]
  },
  {
   "cell_type": "code",
   "execution_count": 18,
   "metadata": {},
   "outputs": [
    {
     "name": "stdout",
     "output_type": "stream",
     "text": [
      "number of rides on rainy saturdays:  180\n",
      "average duration  of rides on rainy saturdays:   2427.2055555555557\n"
     ]
    }
   ],
   "source": [
    "#Sample rainy \n",
    "sample_rainy = rides_bad\n",
    "print(\"number of rides on rainy saturdays: \",len (rides_bad))\n",
    "print(\"average duration  of rides on rainy saturdays:  \",rides_bad.mean())\n"
   ]
  },
  {
   "cell_type": "code",
   "execution_count": 19,
   "metadata": {},
   "outputs": [
    {
     "name": "stdout",
     "output_type": "stream",
     "text": [
      "number of rides with good weather on saturdays:  888\n",
      "average duration  of rides on saturdays with good weather:  1999.6756756756756\n"
     ]
    }
   ],
   "source": [
    "#sample sunny \n",
    "sample_sunny=rides_no_rain\n",
    "print(\"number of rides with good weather on saturdays: \",len (rides_no_rain))\n",
    "print(\"average duration  of rides on saturdays with good weather: \",rides_no_rain.mean())"
   ]
  },
  {
   "cell_type": "code",
   "execution_count": 20,
   "metadata": {},
   "outputs": [
    {
     "name": "stdout",
     "output_type": "stream",
     "text": [
      "p-value: 6.517970327099473e-12\n",
      "we rejected the null hypothesis (H0):the average duration of rides from the Loop to O'Hare International Airport \n",
      " changes on rainy Saturdays.\n",
      "average duration  of rides on rainy saturdays :   2427.2055555555557\n",
      "average duration  of rides with good weather on saturdays:  1999.6756756756756\n"
     ]
    }
   ],
   "source": [
    "# Testing a hypothesis \n",
    "# sample_rainy is the sample from the first statistical sample\n",
    "# sample_sunny is the sample from the second statistical sample\n",
    "# equal_var defines whether or not the variances of the samples are considered equal; default value is True \n",
    "# alpha = 0.05 ,an alpha of 0.05 is used as the cutoff for significance, \n",
    "#which means our output should be 95% confident to give similar kind of result in each sample.\n",
    "\n",
    "from scipy import stats as st\n",
    "sample_sunny \n",
    "sample_rainy \n",
    "alpha = 0.05   \n",
    " \n",
    "results = st.ttest_ind(\n",
    "    sample_sunny,\n",
    "    sample_rainy) \n",
    "\n",
    "\n",
    "print('p-value:',results.pvalue)\n",
    "if results.pvalue < alpha:\n",
    "      print(\"we rejected the null hypothesis (H0):the average duration of rides from the Loop to O'Hare International Airport \\n changes on rainy Saturdays.\")\n",
    "      print(\"average duration  of rides on rainy saturdays :  \",rides_bad.mean())\n",
    "      print(\"average duration  of rides with good weather on saturdays: \",rides_no_rain.mean())\n",
    "else:\n",
    "      print(\"we failed to reject the null hypothesis (H0) that average durationsof rides from the Loop to O'Hare International Airport \\n changes on rainy Saturdays.\")\n",
    "      print(\"average duration  of rides on rainy saturdays:  \",rides_bad.mean())\n",
    "      print(\"average duration  of rides on saturdays with good weather : \",rides_no_rain.mean())\n"
   ]
  },
  {
   "cell_type": "markdown",
   "metadata": {},
   "source": [
    "#### <u>**Conclusion**<u>"
   ]
  },
  {
   "cell_type": "markdown",
   "metadata": {},
   "source": [
    "* For this  hypothesis on the Equality of the Means of Two Samples we applied the method spicy.stats.ttest_ind().\n",
    "\n",
    "* We verified  that the samples were taken  with similar parameters.\n",
    "\n",
    "* We decided  to use the p-value to decide whether or not to reject the null hypothesis.\n",
    "\n",
    "* Finally we estimated that 5% was sufficient as conventionnal threshold in our analysis.\n",
    "\n",
    "**Because of the result p-value: 6.517970327099473e-12 we rejected H0 and also we checked the means that's why  we could conclude that the average duration of rides from the Loop to O'Hare International Airport changes on rainy Saturdays.**\n"
   ]
  },
  {
   "cell_type": "markdown",
   "metadata": {},
   "source": [
    "<div class=\"alert alert-success\">\n",
    "<b>Reviewer's comment v.1</b>\n",
    "    \n",
    "Well done! As an additional task - we could also analyze the time of rides and compare the same time range for bad and good weather. \n",
    "</div>"
   ]
  },
  {
   "cell_type": "markdown",
   "metadata": {},
   "source": [
    "## <u>**General conclusion**</u> "
   ]
  },
  {
   "cell_type": "markdown",
   "metadata": {},
   "source": [
    "Through this study we managed to draw conclusions from previous SQL queries which enabled us to perform a detailed Exploratory data analysis in Python and Test hypothesis.<br>\n",
    "\n",
    "We had a clean dataset with no missing values which helped us to quickly analyse the data.<br>\n",
    "\n",
    "**Loop, River North, Streeterville were accounting for almost 50% of the most popular drop off locations in Chicago.**\n",
    "\n",
    "**Flash Cab, taxi Affiliation Services and Medallion Leasing were the Top 3 taxi companies with the highest number of rides on November 15-16, 2017 accounting for 30 % of the total number of rides.**\n",
    "\n",
    "The **average duration of a ride** is  : 2071.73 seconds which is around **34 minutes.**\n",
    "\n",
    "In the second part of the study we focused on the averages durations of rides on rainy saturdays and sunny saturdays.\n",
    "\n",
    "We observed that there was a **higher number  of rides with good weather on saturdays**:882 compared to rainy Saturdays 180.\n",
    "It seems that the **average duration of  rides on rainy saturdays takes longer** than on saturdays with good weather. <br>\n",
    "We calculated an average of **40 minutes** for a ride when it rains and **33 minutes** on sunny conditions.\n",
    "\n",
    "Finally we were able to test hypothesis  on the Equality of the Means of Two Samples via the method spicy.stats.ttest_ind().<br>\n",
    "**Because of the result p-value: 6.517970327099473e-12 we rejected H0 and we concluded that the average duration of rides from the Loop to O'Hare International Airport changes on rainy Saturdays.**\n",
    "\n",
    "\"Life is like riding in a taxi. Whether you are going anywhere or not, the meter keeps ticking.\" John C. Maxwell"
   ]
  }
 ],
 "metadata": {
  "kernelspec": {
   "display_name": "Python 3",
   "language": "python",
   "name": "python3"
  },
  "language_info": {
   "codemirror_mode": {
    "name": "ipython",
    "version": 3
   },
   "file_extension": ".py",
   "mimetype": "text/x-python",
   "name": "python",
   "nbconvert_exporter": "python",
   "pygments_lexer": "ipython3",
   "version": "3.8.3"
  },
  "toc": {
   "base_numbering": 1,
   "nav_menu": {},
   "number_sections": true,
   "sideBar": true,
   "skip_h1_title": true,
   "title_cell": "Table of Contents",
   "title_sidebar": "Contents",
   "toc_cell": true,
   "toc_position": {},
   "toc_section_display": false,
   "toc_window_display": false
  }
 },
 "nbformat": 4,
 "nbformat_minor": 2
}
